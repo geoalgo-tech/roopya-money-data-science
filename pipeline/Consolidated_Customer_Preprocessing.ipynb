{
 "cells": [
  {
   "cell_type": "code",
   "execution_count": null,
   "id": "30ee380f-fb93-4b0e-8f4a-cfc5a8fa8159",
   "metadata": {},
   "outputs": [],
   "source": [
    "from google.cloud import bigquery\n",
    "\n",
    "# Initialize the BigQuery client\n",
    "client = bigquery.Client()\n",
    "\n",
    "# Define the SQL query\n",
    "query = \"\"\"\n",
    "    SELECT *\n",
    "    FROM `geoalgo-208508.roopya_analytics_dw.CF_Mixed`\n",
    "\"\"\"\n",
    "# Run the query\n",
    "query_job = client.query(query)\n",
    "results = query_job.result()\n",
    "\n",
    "# Convert the query results into a DataFrame\n",
    "df = results.to_dataframe()"
   ]
  },
  {
   "cell_type": "code",
   "execution_count": null,
   "id": "ae7c82b3-9766-4cde-9d98-053283d45ca7",
   "metadata": {},
   "outputs": [
    {
     "data": {
      "text/plain": [
       "Index(['CREDIT_REPORT_ID', 'INCOME_BAND', 'PRIMARY_NO_OF_ACCOUNTS',\n",
       "       'PRIMARY_ACTIVE_ACCOUNTS', 'PRIMARY_OVERDUE_ACCOUNTS',\n",
       "       'PRIMARY_CURRENT_BALANCE', 'PRIMARY_SANCTIONED_AMOUNT',\n",
       "       'PRIMARY_DISTRIBUTED_AMOUNT', 'PRIMARY_INSTALLMENT_AMOUNT',\n",
       "       'NEW_ACCOUNTS_IN_LAST_SIX_MONTHS', 'AVERAGE_ACCOUNT_AGE',\n",
       "       'NO_OF_INQUIRIES', 'SELF_INDICATOR', 'MATCH_TYPE', 'ACCOUNT_TYPE',\n",
       "       'CONTRIBUTOR_TYPE', 'OWNERSHIP_IND', 'DATE_REPORTED', 'ACCOUNT_STATUS',\n",
       "       'DISBURSED_DATE', 'CURRENT_BALANCE', 'OVERDUE_AMOUNT',\n",
       "       'DAYS_PAST_DUE_HISTORY_MONTH_1', 'DAYS_PAST_DUE_HISTORY_MONTH_2',\n",
       "       'DAYS_PAST_DUE_HISTORY_MONTH_3', 'DAYS_PAST_DUE_HISTORY_MONTH_4',\n",
       "       'DAYS_PAST_DUE_HISTORY_MONTH_5', 'DAYS_PAST_DUE_HISTORY_MONTH_6',\n",
       "       'DAYS_PAST_DUE_HISTORY_MONTH_7', 'DAYS_PAST_DUE_HISTORY_MONTH_8',\n",
       "       'DAYS_PAST_DUE_HISTORY_MONTH_9', 'DAYS_PAST_DUE_HISTORY_MONTH_10',\n",
       "       'DAYS_PAST_DUE_HISTORY_MONTH_11', 'DAYS_PAST_DUE_HISTORY_MONTH_12',\n",
       "       'DAYS_PAST_DUE_HISTORY_MONTH_13', 'DAYS_PAST_DUE_HISTORY_MONTH_14',\n",
       "       'DAYS_PAST_DUE_HISTORY_MONTH_15', 'DAYS_PAST_DUE_HISTORY_MONTH_16',\n",
       "       'DAYS_PAST_DUE_HISTORY_MONTH_17', 'DAYS_PAST_DUE_HISTORY_MONTH_18',\n",
       "       'DAYS_PAST_DUE_HISTORY_MONTH_19', 'DAYS_PAST_DUE_HISTORY_MONTH_20',\n",
       "       'DAYS_PAST_DUE_HISTORY_MONTH_21', 'DAYS_PAST_DUE_HISTORY_MONTH_22',\n",
       "       'DAYS_PAST_DUE_HISTORY_MONTH_23', 'DAYS_PAST_DUE_HISTORY_MONTH_24',\n",
       "       'DAYS_PAST_DUE_HISTORY_MONTH_25', 'DAYS_PAST_DUE_HISTORY_MONTH_26',\n",
       "       'DAYS_PAST_DUE_HISTORY_MONTH_27', 'DAYS_PAST_DUE_HISTORY_MONTH_28',\n",
       "       'DAYS_PAST_DUE_HISTORY_MONTH_29', 'DAYS_PAST_DUE_HISTORY_MONTH_30',\n",
       "       'DAYS_PAST_DUE_HISTORY_MONTH_31', 'DAYS_PAST_DUE_HISTORY_MONTH_32',\n",
       "       'DAYS_PAST_DUE_HISTORY_MONTH_33', 'DAYS_PAST_DUE_HISTORY_MONTH_34',\n",
       "       'DAYS_PAST_DUE_HISTORY_MONTH_35', 'DAYS_PAST_DUE_HISTORY_MONTH_36',\n",
       "       'AMOUNT_OVERDUE_HISTORY_MONTH_1', 'AMOUNT_OVERDUE_HISTORY_MONTH_2',\n",
       "       'AMOUNT_OVERDUE_HISTORY_MONTH_3', 'AMOUNT_OVERDUE_HISTORY_MONTH_4',\n",
       "       'AMOUNT_OVERDUE_HISTORY_MONTH_5', 'AMOUNT_OVERDUE_HISTORY_MONTH_6',\n",
       "       'AMOUNT_OVERDUE_HISTORY_MONTH_7', 'AMOUNT_OVERDUE_HISTORY_MONTH_8',\n",
       "       'AMOUNT_OVERDUE_HISTORY_MONTH_9', 'AMOUNT_OVERDUE_HISTORY_MONTH_10',\n",
       "       'AMOUNT_OVERDUE_HISTORY_MONTH_11', 'AMOUNT_OVERDUE_HISTORY_MONTH_12',\n",
       "       'AMOUNT_OVERDUE_HISTORY_MONTH_13', 'AMOUNT_OVERDUE_HISTORY_MONTH_14',\n",
       "       'AMOUNT_OVERDUE_HISTORY_MONTH_15', 'AMOUNT_OVERDUE_HISTORY_MONTH_16',\n",
       "       'AMOUNT_OVERDUE_HISTORY_MONTH_17', 'AMOUNT_OVERDUE_HISTORY_MONTH_18',\n",
       "       'AMOUNT_OVERDUE_HISTORY_MONTH_19', 'AMOUNT_OVERDUE_HISTORY_MONTH_20',\n",
       "       'AMOUNT_OVERDUE_HISTORY_MONTH_21', 'AMOUNT_OVERDUE_HISTORY_MONTH_22',\n",
       "       'AMOUNT_OVERDUE_HISTORY_MONTH_23', 'AMOUNT_OVERDUE_HISTORY_MONTH_24',\n",
       "       'AMOUNT_OVERDUE_HISTORY_MONTH_25', 'AMOUNT_OVERDUE_HISTORY_MONTH_26',\n",
       "       'AMOUNT_OVERDUE_HISTORY_MONTH_27', 'AMOUNT_OVERDUE_HISTORY_MONTH_28',\n",
       "       'AMOUNT_OVERDUE_HISTORY_MONTH_29', 'AMOUNT_OVERDUE_HISTORY_MONTH_30',\n",
       "       'AMOUNT_OVERDUE_HISTORY_MONTH_31', 'AMOUNT_OVERDUE_HISTORY_MONTH_32',\n",
       "       'AMOUNT_OVERDUE_HISTORY_MONTH_33', 'AMOUNT_OVERDUE_HISTORY_MONTH_34',\n",
       "       'AMOUNT_OVERDUE_HISTORY_MONTH_35', 'AMOUNT_OVERDUE_HISTORY_MONTH_36',\n",
       "       'INCOME', 'AMOUNT', 'AGE_COHORT', 'STATE'],\n",
       "      dtype='object')"
      ]
     },
     "execution_count": 2,
     "metadata": {},
     "output_type": "execute_result"
    }
   ],
   "source": [
    "df.columns"
   ]
  },
  {
   "cell_type": "code",
   "execution_count": null,
   "id": "ab67dc91-76c2-42a0-8392-e02234900071",
   "metadata": {},
   "outputs": [],
   "source": [
    "# Replace XXX and DDD values from the dataframe\n",
    "def process_dpd_column(column):\n",
    "    processed_values = []\n",
    "    for value in column:\n",
    "        value = int(value) if value.isdigit() else 0\n",
    "        value = max(value - 30, 0)\n",
    "        processed_values.append(value)\n",
    "    return processed_values\n",
    "\n",
    "for col in df.columns:\n",
    "    if col.startswith('DAYS_PAST_DUE_HISTORY_MONTH_'):\n",
    "        df[col] = process_dpd_column(df[col])"
   ]
  },
  {
   "cell_type": "code",
   "execution_count": null,
   "id": "baf29f15-4959-4d75-bb24-fd7cd8c44a34",
   "metadata": {},
   "outputs": [],
   "source": [
    "dpd_col = [f'DAYS_PAST_DUE_HISTORY_MONTH_{i}' for i in range(1, 37)]\n",
    "dpd_df = df[dpd_col].copy()\n",
    "\n",
    "amt_col = [f'AMOUNT_OVERDUE_HISTORY_MONTH_{i}' for i in range(1, 37)]\n",
    "amt_df = df[amt_col].copy()\n",
    "\n",
    "import pandas as pd\n",
    "m_df = pd.concat([dpd_df, amt_df], axis = 1)"
   ]
  },
  {
   "cell_type": "code",
   "execution_count": null,
   "id": "c780d74e-a04d-4665-9f17-ad5ad37b8c7c",
   "metadata": {},
   "outputs": [],
   "source": [
    "dpd_df = None\n",
    "amt_df = None"
   ]
  },
  {
   "cell_type": "code",
   "execution_count": null,
   "id": "629c5929-46d3-43dc-b54b-e0597416bdc9",
   "metadata": {},
   "outputs": [],
   "source": [
    "# Initialize a column for customer categorization\n",
    "m_df['ROOPYA_ACCOUNT_STATUS'] = 'Uncategorised'\n",
    "\n",
    "# Condition 1: Last 36 months all DPD is 0\n",
    "condition_1 = m_df.iloc[:, 1:37].isin([0]).all(axis=1)  \n",
    "\n",
    "m_df.loc[condition_1, 'ROOPYA_ACCOUNT_STATUS'] = 'Good'\n",
    "\n",
    "# Condition 2: Last 6 months DPD 0 and rest DPD amount < 5000\n",
    "condition_2 = ((m_df.iloc[:, 1:7].isin([0]).all(axis=1)) &\n",
    "                (m_df.iloc[:, 43:73].applymap(lambda x: float(x) if str(x).isdigit() else 0).sum(axis=1) < 5000))\n",
    "\n",
    "m_df.loc[condition_2, 'ROOPYA_ACCOUNT_STATUS'] = 'Good'\n",
    "\n",
    "# Condition 3: Last 6 months any DPD is more than 0\n",
    "condition_3 = (~m_df.iloc[:, 1:7].isin([0]).all(axis=1))\n",
    "\n",
    "m_df.loc[condition_3, 'ROOPYA_ACCOUNT_STATUS'] = 'Bad'\n",
    "\n",
    "# Condition 4: Last 36 months any DPD > 5000\n",
    "condition_4 = (m_df.iloc[:, 37:73].applymap(lambda x: float(x) if str(x).isdigit() else 0) > 5000).any(axis=1)\n",
    "\n",
    "m_df.loc[condition_4, 'ROOPYA_ACCOUNT_STATUS'] = 'Bad'"
   ]
  },
  {
   "cell_type": "code",
   "execution_count": null,
   "id": "53f19a9c-e569-4c2c-b8fd-daf227b1bc8f",
   "metadata": {},
   "outputs": [],
   "source": [
    "cs_col = ['ROOPYA_ACCOUNT_STATUS']\n",
    "cs_df = m_df[cs_col].copy()"
   ]
  },
  {
   "cell_type": "code",
   "execution_count": null,
   "id": "c937949b-2f78-45c4-9b06-1d6fba2885b4",
   "metadata": {},
   "outputs": [],
   "source": [
    "m_df = None "
   ]
  },
  {
   "cell_type": "code",
   "execution_count": null,
   "id": "12cb2f64-5376-4e0b-b660-c9624dbc9a08",
   "metadata": {},
   "outputs": [],
   "source": [
    "final_df = pd.concat([df, cs_df], axis = 1)\n",
    "#df = None\n",
    "cs_df = None"
   ]
  },
  {
   "cell_type": "code",
   "execution_count": null,
   "id": "5a5c047a-b019-4a25-b3d7-c673a54334ab",
   "metadata": {},
   "outputs": [],
   "source": [
    "# List of columns to remove\n",
    "columns_to_remove = ['SELF_INDICATOR', 'MATCH_TYPE', 'DISBURSED_DATE', 'DATE_REPORTED', 'DAYS_PAST_DUE_HISTORY_MONTH_1', 'DAYS_PAST_DUE_HISTORY_MONTH_2','DAYS_PAST_DUE_HISTORY_MONTH_3', 'DAYS_PAST_DUE_HISTORY_MONTH_4','DAYS_PAST_DUE_HISTORY_MONTH_5', 'DAYS_PAST_DUE_HISTORY_MONTH_6','DAYS_PAST_DUE_HISTORY_MONTH_7', 'DAYS_PAST_DUE_HISTORY_MONTH_8','DAYS_PAST_DUE_HISTORY_MONTH_9', 'DAYS_PAST_DUE_HISTORY_MONTH_10','DAYS_PAST_DUE_HISTORY_MONTH_11', 'DAYS_PAST_DUE_HISTORY_MONTH_12','DAYS_PAST_DUE_HISTORY_MONTH_13', 'DAYS_PAST_DUE_HISTORY_MONTH_14','DAYS_PAST_DUE_HISTORY_MONTH_15', 'DAYS_PAST_DUE_HISTORY_MONTH_16','DAYS_PAST_DUE_HISTORY_MONTH_17', 'DAYS_PAST_DUE_HISTORY_MONTH_18','DAYS_PAST_DUE_HISTORY_MONTH_19', 'DAYS_PAST_DUE_HISTORY_MONTH_20', 'DAYS_PAST_DUE_HISTORY_MONTH_21', 'DAYS_PAST_DUE_HISTORY_MONTH_22','DAYS_PAST_DUE_HISTORY_MONTH_23', 'DAYS_PAST_DUE_HISTORY_MONTH_24', 'DAYS_PAST_DUE_HISTORY_MONTH_25', 'DAYS_PAST_DUE_HISTORY_MONTH_26','DAYS_PAST_DUE_HISTORY_MONTH_27', 'DAYS_PAST_DUE_HISTORY_MONTH_28','DAYS_PAST_DUE_HISTORY_MONTH_29', 'DAYS_PAST_DUE_HISTORY_MONTH_30','DAYS_PAST_DUE_HISTORY_MONTH_31', 'DAYS_PAST_DUE_HISTORY_MONTH_32','DAYS_PAST_DUE_HISTORY_MONTH_33', 'DAYS_PAST_DUE_HISTORY_MONTH_34','DAYS_PAST_DUE_HISTORY_MONTH_35', 'DAYS_PAST_DUE_HISTORY_MONTH_36','AMOUNT_OVERDUE_HISTORY_MONTH_1', 'AMOUNT_OVERDUE_HISTORY_MONTH_2','AMOUNT_OVERDUE_HISTORY_MONTH_3', 'AMOUNT_OVERDUE_HISTORY_MONTH_4','AMOUNT_OVERDUE_HISTORY_MONTH_5', 'AMOUNT_OVERDUE_HISTORY_MONTH_6','AMOUNT_OVERDUE_HISTORY_MONTH_7', 'AMOUNT_OVERDUE_HISTORY_MONTH_8','AMOUNT_OVERDUE_HISTORY_MONTH_9', 'AMOUNT_OVERDUE_HISTORY_MONTH_10','AMOUNT_OVERDUE_HISTORY_MONTH_11', 'AMOUNT_OVERDUE_HISTORY_MONTH_12','AMOUNT_OVERDUE_HISTORY_MONTH_13', 'AMOUNT_OVERDUE_HISTORY_MONTH_14','AMOUNT_OVERDUE_HISTORY_MONTH_15', 'AMOUNT_OVERDUE_HISTORY_MONTH_16','AMOUNT_OVERDUE_HISTORY_MONTH_17', 'AMOUNT_OVERDUE_HISTORY_MONTH_18','AMOUNT_OVERDUE_HISTORY_MONTH_19', 'AMOUNT_OVERDUE_HISTORY_MONTH_20','AMOUNT_OVERDUE_HISTORY_MONTH_21', 'AMOUNT_OVERDUE_HISTORY_MONTH_22','AMOUNT_OVERDUE_HISTORY_MONTH_23', 'AMOUNT_OVERDUE_HISTORY_MONTH_24','AMOUNT_OVERDUE_HISTORY_MONTH_25', 'AMOUNT_OVERDUE_HISTORY_MONTH_26','AMOUNT_OVERDUE_HISTORY_MONTH_27', 'AMOUNT_OVERDUE_HISTORY_MONTH_28','AMOUNT_OVERDUE_HISTORY_MONTH_29', 'AMOUNT_OVERDUE_HISTORY_MONTH_30','AMOUNT_OVERDUE_HISTORY_MONTH_31', 'AMOUNT_OVERDUE_HISTORY_MONTH_32','AMOUNT_OVERDUE_HISTORY_MONTH_33', 'AMOUNT_OVERDUE_HISTORY_MONTH_34','AMOUNT_OVERDUE_HISTORY_MONTH_35', 'AMOUNT_OVERDUE_HISTORY_MONTH_36', 'AMOUNT']\n",
    "\n",
    "# Remove the specified columns\n",
    "final_df_cleaned = final_df.drop(columns=columns_to_remove)"
   ]
  },
  {
   "cell_type": "code",
   "execution_count": null,
   "id": "e1104892-4582-492c-8579-53746dd19798",
   "metadata": {},
   "outputs": [
    {
     "name": "stdout",
     "output_type": "stream",
     "text": [
      "DONE\n"
     ]
    }
   ],
   "source": [
    "file_path_w = 'gs://roopya_analytics_workarea/Consolidate_Customer_Preprocessing_1.csv'\n",
    "final_df_cleaned.to_csv(file_path_w)\n",
    "print(\"DONE\")"
   ]
  },
  {
   "cell_type": "code",
   "execution_count": null,
   "id": "f71fd2ac-1ff4-4fa5-a439-d4ac1548f736",
   "metadata": {},
   "outputs": [
    {
     "ename": "NotFound",
     "evalue": "404 Not found: Table geoalgo-208508:roopya_analytics_dw.Consolidate_Customer_Preprocessing_1 was not found in location asia-south1\n\nLocation: asia-south1\nJob ID: 0b67415e-94f9-4d47-9f52-cea90a5e8dc4\n",
     "output_type": "error",
     "traceback": [
      "\u001b[0;31m---------------------------------------------------------------------------\u001b[0m",
      "\u001b[0;31mNotFound\u001b[0m                                  Traceback (most recent call last)",
      "\u001b[0;32m/tmp/ipykernel_1/1726847367.py\u001b[0m in \u001b[0;36m<module>\u001b[0;34m\u001b[0m\n\u001b[1;32m     11\u001b[0m \u001b[0;31m# Run the query\u001b[0m\u001b[0;34m\u001b[0m\u001b[0;34m\u001b[0m\u001b[0;34m\u001b[0m\u001b[0m\n\u001b[1;32m     12\u001b[0m \u001b[0mquery_job\u001b[0m \u001b[0;34m=\u001b[0m \u001b[0mclient\u001b[0m\u001b[0;34m.\u001b[0m\u001b[0mquery\u001b[0m\u001b[0;34m(\u001b[0m\u001b[0mquery\u001b[0m\u001b[0;34m)\u001b[0m\u001b[0;34m\u001b[0m\u001b[0;34m\u001b[0m\u001b[0m\n\u001b[0;32m---> 13\u001b[0;31m \u001b[0mresults\u001b[0m \u001b[0;34m=\u001b[0m \u001b[0mquery_job\u001b[0m\u001b[0;34m.\u001b[0m\u001b[0mresult\u001b[0m\u001b[0;34m(\u001b[0m\u001b[0;34m)\u001b[0m\u001b[0;34m\u001b[0m\u001b[0;34m\u001b[0m\u001b[0m\n\u001b[0m\u001b[1;32m     14\u001b[0m \u001b[0;34m\u001b[0m\u001b[0m\n\u001b[1;32m     15\u001b[0m \u001b[0;31m# Convert the query results into a DataFrame\u001b[0m\u001b[0;34m\u001b[0m\u001b[0;34m\u001b[0m\u001b[0;34m\u001b[0m\u001b[0m\n",
      "\u001b[0;32m/opt/conda/lib/python3.7/site-packages/google/cloud/bigquery/job/query.py\u001b[0m in \u001b[0;36mresult\u001b[0;34m(self, page_size, max_results, retry, timeout, start_index, job_retry)\u001b[0m\n\u001b[1;32m   1518\u001b[0m                 \u001b[0mdo_get_result\u001b[0m \u001b[0;34m=\u001b[0m \u001b[0mjob_retry\u001b[0m\u001b[0;34m(\u001b[0m\u001b[0mdo_get_result\u001b[0m\u001b[0;34m)\u001b[0m\u001b[0;34m\u001b[0m\u001b[0;34m\u001b[0m\u001b[0m\n\u001b[1;32m   1519\u001b[0m \u001b[0;34m\u001b[0m\u001b[0m\n\u001b[0;32m-> 1520\u001b[0;31m             \u001b[0mdo_get_result\u001b[0m\u001b[0;34m(\u001b[0m\u001b[0;34m)\u001b[0m\u001b[0;34m\u001b[0m\u001b[0;34m\u001b[0m\u001b[0m\n\u001b[0m\u001b[1;32m   1521\u001b[0m \u001b[0;34m\u001b[0m\u001b[0m\n\u001b[1;32m   1522\u001b[0m         \u001b[0;32mexcept\u001b[0m \u001b[0mexceptions\u001b[0m\u001b[0;34m.\u001b[0m\u001b[0mGoogleAPICallError\u001b[0m \u001b[0;32mas\u001b[0m \u001b[0mexc\u001b[0m\u001b[0;34m:\u001b[0m\u001b[0;34m\u001b[0m\u001b[0;34m\u001b[0m\u001b[0m\n",
      "\u001b[0;32m/opt/conda/lib/python3.7/site-packages/google/api_core/retry.py\u001b[0m in \u001b[0;36mretry_wrapped_func\u001b[0;34m(*args, **kwargs)\u001b[0m\n\u001b[1;32m    352\u001b[0m                 \u001b[0msleep_generator\u001b[0m\u001b[0;34m,\u001b[0m\u001b[0;34m\u001b[0m\u001b[0;34m\u001b[0m\u001b[0m\n\u001b[1;32m    353\u001b[0m                 \u001b[0mself\u001b[0m\u001b[0;34m.\u001b[0m\u001b[0m_timeout\u001b[0m\u001b[0;34m,\u001b[0m\u001b[0;34m\u001b[0m\u001b[0;34m\u001b[0m\u001b[0m\n\u001b[0;32m--> 354\u001b[0;31m                 \u001b[0mon_error\u001b[0m\u001b[0;34m=\u001b[0m\u001b[0mon_error\u001b[0m\u001b[0;34m,\u001b[0m\u001b[0;34m\u001b[0m\u001b[0;34m\u001b[0m\u001b[0m\n\u001b[0m\u001b[1;32m    355\u001b[0m             )\n\u001b[1;32m    356\u001b[0m \u001b[0;34m\u001b[0m\u001b[0m\n",
      "\u001b[0;32m/opt/conda/lib/python3.7/site-packages/google/api_core/retry.py\u001b[0m in \u001b[0;36mretry_target\u001b[0;34m(target, predicate, sleep_generator, timeout, on_error, **kwargs)\u001b[0m\n\u001b[1;32m    189\u001b[0m     \u001b[0;32mfor\u001b[0m \u001b[0msleep\u001b[0m \u001b[0;32min\u001b[0m \u001b[0msleep_generator\u001b[0m\u001b[0;34m:\u001b[0m\u001b[0;34m\u001b[0m\u001b[0;34m\u001b[0m\u001b[0m\n\u001b[1;32m    190\u001b[0m         \u001b[0;32mtry\u001b[0m\u001b[0;34m:\u001b[0m\u001b[0;34m\u001b[0m\u001b[0;34m\u001b[0m\u001b[0m\n\u001b[0;32m--> 191\u001b[0;31m             \u001b[0;32mreturn\u001b[0m \u001b[0mtarget\u001b[0m\u001b[0;34m(\u001b[0m\u001b[0;34m)\u001b[0m\u001b[0;34m\u001b[0m\u001b[0;34m\u001b[0m\u001b[0m\n\u001b[0m\u001b[1;32m    192\u001b[0m \u001b[0;34m\u001b[0m\u001b[0m\n\u001b[1;32m    193\u001b[0m         \u001b[0;31m# pylint: disable=broad-except\u001b[0m\u001b[0;34m\u001b[0m\u001b[0;34m\u001b[0m\u001b[0;34m\u001b[0m\u001b[0m\n",
      "\u001b[0;32m/opt/conda/lib/python3.7/site-packages/google/cloud/bigquery/job/query.py\u001b[0m in \u001b[0;36mdo_get_result\u001b[0;34m()\u001b[0m\n\u001b[1;32m   1508\u001b[0m                     \u001b[0mself\u001b[0m\u001b[0;34m.\u001b[0m\u001b[0m_job_retry\u001b[0m \u001b[0;34m=\u001b[0m \u001b[0mjob_retry\u001b[0m\u001b[0;34m\u001b[0m\u001b[0;34m\u001b[0m\u001b[0m\n\u001b[1;32m   1509\u001b[0m \u001b[0;34m\u001b[0m\u001b[0m\n\u001b[0;32m-> 1510\u001b[0;31m                 \u001b[0msuper\u001b[0m\u001b[0;34m(\u001b[0m\u001b[0mQueryJob\u001b[0m\u001b[0;34m,\u001b[0m \u001b[0mself\u001b[0m\u001b[0;34m)\u001b[0m\u001b[0;34m.\u001b[0m\u001b[0mresult\u001b[0m\u001b[0;34m(\u001b[0m\u001b[0mretry\u001b[0m\u001b[0;34m=\u001b[0m\u001b[0mretry\u001b[0m\u001b[0;34m,\u001b[0m \u001b[0mtimeout\u001b[0m\u001b[0;34m=\u001b[0m\u001b[0mtimeout\u001b[0m\u001b[0;34m)\u001b[0m\u001b[0;34m\u001b[0m\u001b[0;34m\u001b[0m\u001b[0m\n\u001b[0m\u001b[1;32m   1511\u001b[0m \u001b[0;34m\u001b[0m\u001b[0m\n\u001b[1;32m   1512\u001b[0m                 \u001b[0;31m# Since the job could already be \"done\" (e.g. got a finished job\u001b[0m\u001b[0;34m\u001b[0m\u001b[0;34m\u001b[0m\u001b[0;34m\u001b[0m\u001b[0m\n",
      "\u001b[0;32m/opt/conda/lib/python3.7/site-packages/google/cloud/bigquery/job/base.py\u001b[0m in \u001b[0;36mresult\u001b[0;34m(self, retry, timeout)\u001b[0m\n\u001b[1;32m    909\u001b[0m \u001b[0;34m\u001b[0m\u001b[0m\n\u001b[1;32m    910\u001b[0m         \u001b[0mkwargs\u001b[0m \u001b[0;34m=\u001b[0m \u001b[0;34m{\u001b[0m\u001b[0;34m}\u001b[0m \u001b[0;32mif\u001b[0m \u001b[0mretry\u001b[0m \u001b[0;32mis\u001b[0m \u001b[0mDEFAULT_RETRY\u001b[0m \u001b[0;32melse\u001b[0m \u001b[0;34m{\u001b[0m\u001b[0;34m\"retry\"\u001b[0m\u001b[0;34m:\u001b[0m \u001b[0mretry\u001b[0m\u001b[0;34m}\u001b[0m\u001b[0;34m\u001b[0m\u001b[0;34m\u001b[0m\u001b[0m\n\u001b[0;32m--> 911\u001b[0;31m         \u001b[0;32mreturn\u001b[0m \u001b[0msuper\u001b[0m\u001b[0;34m(\u001b[0m\u001b[0m_AsyncJob\u001b[0m\u001b[0;34m,\u001b[0m \u001b[0mself\u001b[0m\u001b[0;34m)\u001b[0m\u001b[0;34m.\u001b[0m\u001b[0mresult\u001b[0m\u001b[0;34m(\u001b[0m\u001b[0mtimeout\u001b[0m\u001b[0;34m=\u001b[0m\u001b[0mtimeout\u001b[0m\u001b[0;34m,\u001b[0m \u001b[0;34m**\u001b[0m\u001b[0mkwargs\u001b[0m\u001b[0;34m)\u001b[0m\u001b[0;34m\u001b[0m\u001b[0;34m\u001b[0m\u001b[0m\n\u001b[0m\u001b[1;32m    912\u001b[0m \u001b[0;34m\u001b[0m\u001b[0m\n\u001b[1;32m    913\u001b[0m     \u001b[0;32mdef\u001b[0m \u001b[0mcancelled\u001b[0m\u001b[0;34m(\u001b[0m\u001b[0mself\u001b[0m\u001b[0;34m)\u001b[0m\u001b[0;34m:\u001b[0m\u001b[0;34m\u001b[0m\u001b[0;34m\u001b[0m\u001b[0m\n",
      "\u001b[0;32m/opt/conda/lib/python3.7/site-packages/google/api_core/future/polling.py\u001b[0m in \u001b[0;36mresult\u001b[0;34m(self, timeout, retry, polling)\u001b[0m\n\u001b[1;32m    259\u001b[0m             \u001b[0;31m# pylint: disable=raising-bad-type\u001b[0m\u001b[0;34m\u001b[0m\u001b[0;34m\u001b[0m\u001b[0;34m\u001b[0m\u001b[0m\n\u001b[1;32m    260\u001b[0m             \u001b[0;31m# Pylint doesn't recognize that this is valid in this case.\u001b[0m\u001b[0;34m\u001b[0m\u001b[0;34m\u001b[0m\u001b[0;34m\u001b[0m\u001b[0m\n\u001b[0;32m--> 261\u001b[0;31m             \u001b[0;32mraise\u001b[0m \u001b[0mself\u001b[0m\u001b[0;34m.\u001b[0m\u001b[0m_exception\u001b[0m\u001b[0;34m\u001b[0m\u001b[0;34m\u001b[0m\u001b[0m\n\u001b[0m\u001b[1;32m    262\u001b[0m \u001b[0;34m\u001b[0m\u001b[0m\n\u001b[1;32m    263\u001b[0m         \u001b[0;32mreturn\u001b[0m \u001b[0mself\u001b[0m\u001b[0;34m.\u001b[0m\u001b[0m_result\u001b[0m\u001b[0;34m\u001b[0m\u001b[0;34m\u001b[0m\u001b[0m\n",
      "\u001b[0;31mNotFound\u001b[0m: 404 Not found: Table geoalgo-208508:roopya_analytics_dw.Consolidate_Customer_Preprocessing_1 was not found in location asia-south1\n\nLocation: asia-south1\nJob ID: 0b67415e-94f9-4d47-9f52-cea90a5e8dc4\n"
     ]
    }
   ],
   "source": [
    "from google.cloud import bigquery\n",
    "\n",
    "# Initialize the BigQuery client\n",
    "client = bigquery.Client()\n",
    "\n",
    "# Define the SQL query\n",
    "query = \"\"\"\n",
    "    SELECT *\n",
    "    FROM `geoalgo-208508.roopya_analytics_dw.Consolidate_Customer_Preprocessing_1`\n",
    "\"\"\"\n",
    "# Run the query\n",
    "query_job = client.query(query)\n",
    "results = query_job.result()\n",
    "\n",
    "# Convert the query results into a DataFrame\n",
    "final_df = results.to_dataframe()"
   ]
  },
  {
   "cell_type": "code",
   "execution_count": null,
   "id": "90be4856-278d-48f7-8e49-acecb2ff13b1",
   "metadata": {},
   "outputs": [],
   "source": [
    "final_df = final_df_cleaned"
   ]
  },
  {
   "cell_type": "code",
   "execution_count": null,
   "id": "d6eae781-e958-42a6-a8b0-414f02d6dee4",
   "metadata": {},
   "outputs": [
    {
     "data": {
      "text/plain": [
       "(10547762, 22)"
      ]
     },
     "execution_count": 28,
     "metadata": {},
     "output_type": "execute_result"
    }
   ],
   "source": [
    "final_df.shape"
   ]
  },
  {
   "cell_type": "code",
   "execution_count": null,
   "id": "1d3f9c98-c37a-4652-ae15-4b406ef955bc",
   "metadata": {},
   "outputs": [
    {
     "data": {
      "text/plain": [
       "3920"
      ]
     },
     "execution_count": 29,
     "metadata": {},
     "output_type": "execute_result"
    }
   ],
   "source": [
    "final_df[\"CURRENT_BALANCE\"].isnull().sum()"
   ]
  },
  {
   "cell_type": "code",
   "execution_count": null,
   "id": "457106c6-ce03-4d00-8d6f-57605c0b9005",
   "metadata": {},
   "outputs": [],
   "source": [
    "# List of columns to replace\n",
    "columns_to_process = ['CURRENT_BALANCE', 'INCOME', 'OVERDUE_AMOUNT']\n",
    "\n",
    "# Replace null by 0 \n",
    "final_df[columns_to_process] = final_df[columns_to_process].fillna(0)"
   ]
  },
  {
   "cell_type": "code",
   "execution_count": null,
   "id": "f41041fa-b1f2-4977-ac48-f599a485c550",
   "metadata": {},
   "outputs": [],
   "source": [
    "final_df1 = final_df[(final_df['CURRENT_BALANCE'] >= 0) & (final_df['CURRENT_BALANCE'] <= 10000000) & (final_df['PRIMARY_NO_OF_ACCOUNTS'] <= 100)]"
   ]
  },
  {
   "cell_type": "code",
   "execution_count": null,
   "id": "17ef0451-0b7f-4ec3-b244-cc4d3a171a60",
   "metadata": {},
   "outputs": [
    {
     "data": {
      "text/plain": [
       "(10084589, 22)"
      ]
     },
     "execution_count": 32,
     "metadata": {},
     "output_type": "execute_result"
    }
   ],
   "source": [
    "final_df1.shape"
   ]
  },
  {
   "cell_type": "code",
   "execution_count": null,
   "id": "8547e736-625c-4974-803a-d8184e0dd3c4",
   "metadata": {},
   "outputs": [],
   "source": [
    "df = final_df1"
   ]
  },
  {
   "cell_type": "code",
   "execution_count": null,
   "id": "ef05e59d-73f0-45db-81d0-61ae1a53303a",
   "metadata": {},
   "outputs": [],
   "source": [
    "#df.shape"
   ]
  },
  {
   "cell_type": "code",
   "execution_count": null,
   "id": "7d5ee6df-0dd6-444c-8b09-03bfaa9e01f3",
   "metadata": {},
   "outputs": [],
   "source": [
    "#df = df.drop('int64_field_0', axis = 1)"
   ]
  },
  {
   "cell_type": "code",
   "execution_count": null,
   "id": "5fff6cb1-18fb-48c3-a1b4-ddc1caac612f",
   "metadata": {},
   "outputs": [
    {
     "data": {
      "text/html": [
       "<div>\n",
       "<style scoped>\n",
       "    .dataframe tbody tr th:only-of-type {\n",
       "        vertical-align: middle;\n",
       "    }\n",
       "\n",
       "    .dataframe tbody tr th {\n",
       "        vertical-align: top;\n",
       "    }\n",
       "\n",
       "    .dataframe thead th {\n",
       "        text-align: right;\n",
       "    }\n",
       "</style>\n",
       "<table border=\"1\" class=\"dataframe\">\n",
       "  <thead>\n",
       "    <tr style=\"text-align: right;\">\n",
       "      <th></th>\n",
       "      <th>PRIMARY_NO_OF_ACCOUNTS</th>\n",
       "      <th>PRIMARY_ACTIVE_ACCOUNTS</th>\n",
       "      <th>PRIMARY_OVERDUE_ACCOUNTS</th>\n",
       "      <th>PRIMARY_CURRENT_BALANCE</th>\n",
       "      <th>PRIMARY_SANCTIONED_AMOUNT</th>\n",
       "      <th>PRIMARY_DISTRIBUTED_AMOUNT</th>\n",
       "      <th>PRIMARY_INSTALLMENT_AMOUNT</th>\n",
       "      <th>NEW_ACCOUNTS_IN_LAST_SIX_MONTHS</th>\n",
       "      <th>NO_OF_INQUIRIES</th>\n",
       "      <th>CURRENT_BALANCE</th>\n",
       "      <th>OVERDUE_AMOUNT</th>\n",
       "      <th>INCOME</th>\n",
       "      <th>AGE_COHORT</th>\n",
       "    </tr>\n",
       "  </thead>\n",
       "  <tbody>\n",
       "    <tr>\n",
       "      <th>count</th>\n",
       "      <td>10084589.00</td>\n",
       "      <td>10084589.00</td>\n",
       "      <td>10084589.00</td>\n",
       "      <td>10084589.00</td>\n",
       "      <td>10084589.00</td>\n",
       "      <td>10084589.00</td>\n",
       "      <td>10084589.00</td>\n",
       "      <td>10084589.00</td>\n",
       "      <td>10084589.00</td>\n",
       "      <td>10084589.00</td>\n",
       "      <td>10084589.00</td>\n",
       "      <td>10084589.00</td>\n",
       "      <td>10070564.00</td>\n",
       "    </tr>\n",
       "    <tr>\n",
       "      <th>mean</th>\n",
       "      <td>30.74</td>\n",
       "      <td>10.50</td>\n",
       "      <td>1.29</td>\n",
       "      <td>7568685.29</td>\n",
       "      <td>12145706.19</td>\n",
       "      <td>11962516.51</td>\n",
       "      <td>350836.25</td>\n",
       "      <td>3.51</td>\n",
       "      <td>1.63</td>\n",
       "      <td>166859.46</td>\n",
       "      <td>27.34</td>\n",
       "      <td>2302322.25</td>\n",
       "      <td>40.93</td>\n",
       "    </tr>\n",
       "    <tr>\n",
       "      <th>std</th>\n",
       "      <td>23.17</td>\n",
       "      <td>7.82</td>\n",
       "      <td>2.95</td>\n",
       "      <td>67439175.03</td>\n",
       "      <td>752916951.07</td>\n",
       "      <td>752923922.75</td>\n",
       "      <td>12790069.91</td>\n",
       "      <td>6.47</td>\n",
       "      <td>3.02</td>\n",
       "      <td>702598.18</td>\n",
       "      <td>4575.00</td>\n",
       "      <td>35793314.84</td>\n",
       "      <td>6.79</td>\n",
       "    </tr>\n",
       "    <tr>\n",
       "      <th>min</th>\n",
       "      <td>1.00</td>\n",
       "      <td>0.00</td>\n",
       "      <td>0.00</td>\n",
       "      <td>-559899904.00</td>\n",
       "      <td>0.00</td>\n",
       "      <td>0.00</td>\n",
       "      <td>-331462.00</td>\n",
       "      <td>0.00</td>\n",
       "      <td>0.00</td>\n",
       "      <td>0.00</td>\n",
       "      <td>-48300.00</td>\n",
       "      <td>0.00</td>\n",
       "      <td>20.00</td>\n",
       "    </tr>\n",
       "    <tr>\n",
       "      <th>25%</th>\n",
       "      <td>13.00</td>\n",
       "      <td>5.00</td>\n",
       "      <td>0.00</td>\n",
       "      <td>302351.00</td>\n",
       "      <td>763773.00</td>\n",
       "      <td>643390.00</td>\n",
       "      <td>13476.00</td>\n",
       "      <td>0.00</td>\n",
       "      <td>0.00</td>\n",
       "      <td>0.00</td>\n",
       "      <td>0.00</td>\n",
       "      <td>0.00</td>\n",
       "      <td>35.00</td>\n",
       "    </tr>\n",
       "    <tr>\n",
       "      <th>50%</th>\n",
       "      <td>24.00</td>\n",
       "      <td>9.00</td>\n",
       "      <td>0.00</td>\n",
       "      <td>1486607.00</td>\n",
       "      <td>2554540.00</td>\n",
       "      <td>2367025.00</td>\n",
       "      <td>44047.00</td>\n",
       "      <td>1.00</td>\n",
       "      <td>0.00</td>\n",
       "      <td>0.00</td>\n",
       "      <td>0.00</td>\n",
       "      <td>0.00</td>\n",
       "      <td>40.00</td>\n",
       "    </tr>\n",
       "    <tr>\n",
       "      <th>75%</th>\n",
       "      <td>43.00</td>\n",
       "      <td>14.00</td>\n",
       "      <td>1.00</td>\n",
       "      <td>4300743.00</td>\n",
       "      <td>6381482.00</td>\n",
       "      <td>6061585.00</td>\n",
       "      <td>128464.00</td>\n",
       "      <td>4.00</td>\n",
       "      <td>2.00</td>\n",
       "      <td>21850.00</td>\n",
       "      <td>0.00</td>\n",
       "      <td>0.00</td>\n",
       "      <td>45.00</td>\n",
       "    </tr>\n",
       "    <tr>\n",
       "      <th>max</th>\n",
       "      <td>99.00</td>\n",
       "      <td>82.00</td>\n",
       "      <td>78.00</td>\n",
       "      <td>26802096128.00</td>\n",
       "      <td>748806995968.00</td>\n",
       "      <td>748806995968.00</td>\n",
       "      <td>10844999649.00</td>\n",
       "      <td>65.00</td>\n",
       "      <td>42.00</td>\n",
       "      <td>10000000.00</td>\n",
       "      <td>5533702.00</td>\n",
       "      <td>999999000.00</td>\n",
       "      <td>60.00</td>\n",
       "    </tr>\n",
       "  </tbody>\n",
       "</table>\n",
       "</div>"
      ],
      "text/plain": [
       "       PRIMARY_NO_OF_ACCOUNTS  PRIMARY_ACTIVE_ACCOUNTS  \\\n",
       "count             10084589.00              10084589.00   \n",
       "mean                    30.74                    10.50   \n",
       "std                     23.17                     7.82   \n",
       "min                      1.00                     0.00   \n",
       "25%                     13.00                     5.00   \n",
       "50%                     24.00                     9.00   \n",
       "75%                     43.00                    14.00   \n",
       "max                     99.00                    82.00   \n",
       "\n",
       "       PRIMARY_OVERDUE_ACCOUNTS  PRIMARY_CURRENT_BALANCE  \\\n",
       "count               10084589.00              10084589.00   \n",
       "mean                       1.29               7568685.29   \n",
       "std                        2.95              67439175.03   \n",
       "min                        0.00            -559899904.00   \n",
       "25%                        0.00                302351.00   \n",
       "50%                        0.00               1486607.00   \n",
       "75%                        1.00               4300743.00   \n",
       "max                       78.00           26802096128.00   \n",
       "\n",
       "       PRIMARY_SANCTIONED_AMOUNT  PRIMARY_DISTRIBUTED_AMOUNT  \\\n",
       "count                10084589.00                 10084589.00   \n",
       "mean                 12145706.19                 11962516.51   \n",
       "std                 752916951.07                752923922.75   \n",
       "min                         0.00                        0.00   \n",
       "25%                    763773.00                   643390.00   \n",
       "50%                   2554540.00                  2367025.00   \n",
       "75%                   6381482.00                  6061585.00   \n",
       "max              748806995968.00             748806995968.00   \n",
       "\n",
       "       PRIMARY_INSTALLMENT_AMOUNT  NEW_ACCOUNTS_IN_LAST_SIX_MONTHS  \\\n",
       "count                 10084589.00                      10084589.00   \n",
       "mean                    350836.25                             3.51   \n",
       "std                   12790069.91                             6.47   \n",
       "min                    -331462.00                             0.00   \n",
       "25%                      13476.00                             0.00   \n",
       "50%                      44047.00                             1.00   \n",
       "75%                     128464.00                             4.00   \n",
       "max                10844999649.00                            65.00   \n",
       "\n",
       "       NO_OF_INQUIRIES  CURRENT_BALANCE  OVERDUE_AMOUNT       INCOME  \\\n",
       "count      10084589.00      10084589.00     10084589.00  10084589.00   \n",
       "mean              1.63        166859.46           27.34   2302322.25   \n",
       "std               3.02        702598.18         4575.00  35793314.84   \n",
       "min               0.00             0.00       -48300.00         0.00   \n",
       "25%               0.00             0.00            0.00         0.00   \n",
       "50%               0.00             0.00            0.00         0.00   \n",
       "75%               2.00         21850.00            0.00         0.00   \n",
       "max              42.00      10000000.00      5533702.00 999999000.00   \n",
       "\n",
       "       AGE_COHORT  \n",
       "count 10070564.00  \n",
       "mean        40.93  \n",
       "std          6.79  \n",
       "min         20.00  \n",
       "25%         35.00  \n",
       "50%         40.00  \n",
       "75%         45.00  \n",
       "max         60.00  "
      ]
     },
     "execution_count": 36,
     "metadata": {},
     "output_type": "execute_result"
    }
   ],
   "source": [
    "import pandas as pd\n",
    "pd.set_option('display.float_format', '{:.2f}'.format)\n",
    "df.describe()"
   ]
  },
  {
   "cell_type": "code",
   "execution_count": null,
   "id": "841ce4e2-bbce-4e35-933d-b3a43ddc5651",
   "metadata": {},
   "outputs": [],
   "source": [
    "df1 = df[(df['PRIMARY_CURRENT_BALANCE'] >= 0) & (df['PRIMARY_CURRENT_BALANCE'] <= 10000000) & (df['PRIMARY_SANCTIONED_AMOUNT'] >= 0) & (df['PRIMARY_SANCTIONED_AMOUNT'] <= 10000000) & (df['PRIMARY_DISTRIBUTED_AMOUNT'] >= 0) & (df['PRIMARY_DISTRIBUTED_AMOUNT'] <= 10000000) & (df['PRIMARY_INSTALLMENT_AMOUNT'] >= 0) & (df['PRIMARY_INSTALLMENT_AMOUNT'] <= 10000000) & (df['INCOME'] >= 0) & (df['INCOME'] <= 10000000)]"
   ]
  },
  {
   "cell_type": "code",
   "execution_count": null,
   "id": "3939301e-b70f-42e0-96d5-dbc24ca7a7d6",
   "metadata": {},
   "outputs": [
    {
     "data": {
      "text/html": [
       "<div>\n",
       "<style scoped>\n",
       "    .dataframe tbody tr th:only-of-type {\n",
       "        vertical-align: middle;\n",
       "    }\n",
       "\n",
       "    .dataframe tbody tr th {\n",
       "        vertical-align: top;\n",
       "    }\n",
       "\n",
       "    .dataframe thead th {\n",
       "        text-align: right;\n",
       "    }\n",
       "</style>\n",
       "<table border=\"1\" class=\"dataframe\">\n",
       "  <thead>\n",
       "    <tr style=\"text-align: right;\">\n",
       "      <th></th>\n",
       "      <th>PRIMARY_NO_OF_ACCOUNTS</th>\n",
       "      <th>PRIMARY_ACTIVE_ACCOUNTS</th>\n",
       "      <th>PRIMARY_OVERDUE_ACCOUNTS</th>\n",
       "      <th>PRIMARY_CURRENT_BALANCE</th>\n",
       "      <th>PRIMARY_SANCTIONED_AMOUNT</th>\n",
       "      <th>PRIMARY_DISTRIBUTED_AMOUNT</th>\n",
       "      <th>PRIMARY_INSTALLMENT_AMOUNT</th>\n",
       "      <th>NEW_ACCOUNTS_IN_LAST_SIX_MONTHS</th>\n",
       "      <th>NO_OF_INQUIRIES</th>\n",
       "      <th>CURRENT_BALANCE</th>\n",
       "      <th>OVERDUE_AMOUNT</th>\n",
       "      <th>INCOME</th>\n",
       "      <th>AGE_COHORT</th>\n",
       "    </tr>\n",
       "  </thead>\n",
       "  <tbody>\n",
       "    <tr>\n",
       "      <th>count</th>\n",
       "      <td>8412439.00</td>\n",
       "      <td>8412439.00</td>\n",
       "      <td>8412439.00</td>\n",
       "      <td>8412439.00</td>\n",
       "      <td>8412439.00</td>\n",
       "      <td>8412439.00</td>\n",
       "      <td>8412439.00</td>\n",
       "      <td>8412439.00</td>\n",
       "      <td>8412439.00</td>\n",
       "      <td>8412439.00</td>\n",
       "      <td>8412439.00</td>\n",
       "      <td>8412439.00</td>\n",
       "      <td>8405166.00</td>\n",
       "    </tr>\n",
       "    <tr>\n",
       "      <th>mean</th>\n",
       "      <td>29.71</td>\n",
       "      <td>9.64</td>\n",
       "      <td>1.36</td>\n",
       "      <td>1784076.41</td>\n",
       "      <td>2698971.87</td>\n",
       "      <td>2533410.88</td>\n",
       "      <td>132717.52</td>\n",
       "      <td>3.72</td>\n",
       "      <td>1.63</td>\n",
       "      <td>92397.99</td>\n",
       "      <td>19.50</td>\n",
       "      <td>13720.80</td>\n",
       "      <td>40.46</td>\n",
       "    </tr>\n",
       "    <tr>\n",
       "      <th>std</th>\n",
       "      <td>23.31</td>\n",
       "      <td>7.13</td>\n",
       "      <td>3.07</td>\n",
       "      <td>1967066.32</td>\n",
       "      <td>2540101.81</td>\n",
       "      <td>2459734.52</td>\n",
       "      <td>422719.13</td>\n",
       "      <td>6.89</td>\n",
       "      <td>3.10</td>\n",
       "      <td>412419.70</td>\n",
       "      <td>3635.11</td>\n",
       "      <td>153390.89</td>\n",
       "      <td>6.68</td>\n",
       "    </tr>\n",
       "    <tr>\n",
       "      <th>min</th>\n",
       "      <td>1.00</td>\n",
       "      <td>0.00</td>\n",
       "      <td>0.00</td>\n",
       "      <td>0.00</td>\n",
       "      <td>0.00</td>\n",
       "      <td>0.00</td>\n",
       "      <td>0.00</td>\n",
       "      <td>0.00</td>\n",
       "      <td>0.00</td>\n",
       "      <td>0.00</td>\n",
       "      <td>-11070.00</td>\n",
       "      <td>0.00</td>\n",
       "      <td>20.00</td>\n",
       "    </tr>\n",
       "    <tr>\n",
       "      <th>25%</th>\n",
       "      <td>12.00</td>\n",
       "      <td>4.00</td>\n",
       "      <td>0.00</td>\n",
       "      <td>217136.00</td>\n",
       "      <td>597936.00</td>\n",
       "      <td>502184.00</td>\n",
       "      <td>11018.00</td>\n",
       "      <td>0.00</td>\n",
       "      <td>0.00</td>\n",
       "      <td>0.00</td>\n",
       "      <td>0.00</td>\n",
       "      <td>0.00</td>\n",
       "      <td>35.00</td>\n",
       "    </tr>\n",
       "    <tr>\n",
       "      <th>50%</th>\n",
       "      <td>22.00</td>\n",
       "      <td>8.00</td>\n",
       "      <td>0.00</td>\n",
       "      <td>1044624.00</td>\n",
       "      <td>1876221.00</td>\n",
       "      <td>1706338.00</td>\n",
       "      <td>34884.00</td>\n",
       "      <td>1.00</td>\n",
       "      <td>0.00</td>\n",
       "      <td>0.00</td>\n",
       "      <td>0.00</td>\n",
       "      <td>0.00</td>\n",
       "      <td>40.00</td>\n",
       "    </tr>\n",
       "    <tr>\n",
       "      <th>75%</th>\n",
       "      <td>41.00</td>\n",
       "      <td>13.00</td>\n",
       "      <td>1.00</td>\n",
       "      <td>2753324.00</td>\n",
       "      <td>4186708.00</td>\n",
       "      <td>3957500.00</td>\n",
       "      <td>88216.00</td>\n",
       "      <td>4.00</td>\n",
       "      <td>2.00</td>\n",
       "      <td>14107.00</td>\n",
       "      <td>0.00</td>\n",
       "      <td>0.00</td>\n",
       "      <td>45.00</td>\n",
       "    </tr>\n",
       "    <tr>\n",
       "      <th>max</th>\n",
       "      <td>99.00</td>\n",
       "      <td>56.00</td>\n",
       "      <td>78.00</td>\n",
       "      <td>10000000.00</td>\n",
       "      <td>10000000.00</td>\n",
       "      <td>10000000.00</td>\n",
       "      <td>9992561.00</td>\n",
       "      <td>65.00</td>\n",
       "      <td>42.00</td>\n",
       "      <td>10000000.00</td>\n",
       "      <td>2740526.00</td>\n",
       "      <td>10000000.00</td>\n",
       "      <td>60.00</td>\n",
       "    </tr>\n",
       "  </tbody>\n",
       "</table>\n",
       "</div>"
      ],
      "text/plain": [
       "       PRIMARY_NO_OF_ACCOUNTS  PRIMARY_ACTIVE_ACCOUNTS  \\\n",
       "count              8412439.00               8412439.00   \n",
       "mean                    29.71                     9.64   \n",
       "std                     23.31                     7.13   \n",
       "min                      1.00                     0.00   \n",
       "25%                     12.00                     4.00   \n",
       "50%                     22.00                     8.00   \n",
       "75%                     41.00                    13.00   \n",
       "max                     99.00                    56.00   \n",
       "\n",
       "       PRIMARY_OVERDUE_ACCOUNTS  PRIMARY_CURRENT_BALANCE  \\\n",
       "count                8412439.00               8412439.00   \n",
       "mean                       1.36               1784076.41   \n",
       "std                        3.07               1967066.32   \n",
       "min                        0.00                     0.00   \n",
       "25%                        0.00                217136.00   \n",
       "50%                        0.00               1044624.00   \n",
       "75%                        1.00               2753324.00   \n",
       "max                       78.00              10000000.00   \n",
       "\n",
       "       PRIMARY_SANCTIONED_AMOUNT  PRIMARY_DISTRIBUTED_AMOUNT  \\\n",
       "count                 8412439.00                  8412439.00   \n",
       "mean                  2698971.87                  2533410.88   \n",
       "std                   2540101.81                  2459734.52   \n",
       "min                         0.00                        0.00   \n",
       "25%                    597936.00                   502184.00   \n",
       "50%                   1876221.00                  1706338.00   \n",
       "75%                   4186708.00                  3957500.00   \n",
       "max                  10000000.00                 10000000.00   \n",
       "\n",
       "       PRIMARY_INSTALLMENT_AMOUNT  NEW_ACCOUNTS_IN_LAST_SIX_MONTHS  \\\n",
       "count                  8412439.00                       8412439.00   \n",
       "mean                    132717.52                             3.72   \n",
       "std                     422719.13                             6.89   \n",
       "min                          0.00                             0.00   \n",
       "25%                      11018.00                             0.00   \n",
       "50%                      34884.00                             1.00   \n",
       "75%                      88216.00                             4.00   \n",
       "max                    9992561.00                            65.00   \n",
       "\n",
       "       NO_OF_INQUIRIES  CURRENT_BALANCE  OVERDUE_AMOUNT      INCOME  \\\n",
       "count       8412439.00       8412439.00      8412439.00  8412439.00   \n",
       "mean              1.63         92397.99           19.50    13720.80   \n",
       "std               3.10        412419.70         3635.11   153390.89   \n",
       "min               0.00             0.00       -11070.00        0.00   \n",
       "25%               0.00             0.00            0.00        0.00   \n",
       "50%               0.00             0.00            0.00        0.00   \n",
       "75%               2.00         14107.00            0.00        0.00   \n",
       "max              42.00      10000000.00      2740526.00 10000000.00   \n",
       "\n",
       "       AGE_COHORT  \n",
       "count  8405166.00  \n",
       "mean        40.46  \n",
       "std          6.68  \n",
       "min         20.00  \n",
       "25%         35.00  \n",
       "50%         40.00  \n",
       "75%         45.00  \n",
       "max         60.00  "
      ]
     },
     "execution_count": 38,
     "metadata": {},
     "output_type": "execute_result"
    }
   ],
   "source": [
    "pd.set_option('display.float_format', '{:.2f}'.format)\n",
    "df1.describe()"
   ]
  },
  {
   "cell_type": "code",
   "execution_count": null,
   "id": "522dae5c-7558-493c-aaf5-fe2d6ae81b8d",
   "metadata": {},
   "outputs": [
    {
     "data": {
      "text/plain": [
       "Index(['CREDIT_REPORT_ID', 'INCOME_BAND', 'PRIMARY_NO_OF_ACCOUNTS',\n",
       "       'PRIMARY_ACTIVE_ACCOUNTS', 'PRIMARY_OVERDUE_ACCOUNTS',\n",
       "       'PRIMARY_CURRENT_BALANCE', 'PRIMARY_SANCTIONED_AMOUNT',\n",
       "       'PRIMARY_DISTRIBUTED_AMOUNT', 'PRIMARY_INSTALLMENT_AMOUNT',\n",
       "       'NEW_ACCOUNTS_IN_LAST_SIX_MONTHS', 'AVERAGE_ACCOUNT_AGE',\n",
       "       'NO_OF_INQUIRIES', 'ACCOUNT_TYPE', 'CONTRIBUTOR_TYPE', 'OWNERSHIP_IND',\n",
       "       'ACCOUNT_STATUS', 'CURRENT_BALANCE', 'OVERDUE_AMOUNT', 'INCOME',\n",
       "       'AGE_COHORT', 'STATE', 'ROOPYA_ACCOUNT_STATUS'],\n",
       "      dtype='object')"
      ]
     },
     "execution_count": 39,
     "metadata": {},
     "output_type": "execute_result"
    }
   ],
   "source": [
    "df1.columns"
   ]
  },
  {
   "cell_type": "code",
   "execution_count": null,
   "id": "a091b06b-fc45-4a86-adff-34477dff70f8",
   "metadata": {},
   "outputs": [],
   "source": [
    "df = df1.copy()"
   ]
  },
  {
   "cell_type": "code",
   "execution_count": null,
   "id": "5454e09c-876e-468c-969e-8c152f8159ec",
   "metadata": {},
   "outputs": [],
   "source": [
    "# Specify the columns to consider for duplicates\n",
    "columns_to_check = ['CREDIT_REPORT_ID','PRIMARY_NO_OF_ACCOUNTS', 'PRIMARY_ACTIVE_ACCOUNTS', 'PRIMARY_OVERDUE_ACCOUNTS', 'PRIMARY_CURRENT_BALANCE', 'PRIMARY_SANCTIONED_AMOUNT', 'PRIMARY_DISTRIBUTED_AMOUNT', 'PRIMARY_INSTALLMENT_AMOUNT', 'NEW_ACCOUNTS_IN_LAST_SIX_MONTHS', 'AVERAGE_ACCOUNT_AGE', 'NO_OF_INQUIRIES', 'INCOME', 'AGE_COHORT', 'STATE']\n",
    "\n",
    "# Drop duplicates based on the specified columns\n",
    "cl_df = df.drop_duplicates(subset='CREDIT_REPORT_ID')"
   ]
  },
  {
   "cell_type": "code",
   "execution_count": null,
   "id": "851dda02-9402-4c4f-90ab-e7c07f8445f3",
   "metadata": {},
   "outputs": [
    {
     "data": {
      "text/plain": [
       "Index(['INCOME_BAND', 'AGE_COHORT'], dtype='object')"
      ]
     },
     "execution_count": 42,
     "metadata": {},
     "output_type": "execute_result"
    }
   ],
   "source": [
    "df.columns[df.isnull().any()]"
   ]
  },
  {
   "cell_type": "code",
   "execution_count": null,
   "id": "3c328243-5c29-4e61-8429-c0c76cdbc37e",
   "metadata": {},
   "outputs": [],
   "source": [
    "# Define loan categories\n",
    "loan_categories = {\n",
    "    'Credit Card': 'Credit Card', 'Loan on Credit Card': 'Credit Card', 'Secured Credit Card': 'Credit Card',\n",
    "    'Corporate Credit Card': 'Credit Card', 'Kisan Credit Card': 'Credit Card', 'Overdraft': 'Personal Loan',\n",
    "    'Personal Loan': 'Personal Loan', 'Consumer Loan': 'Personal Loan', \n",
    "    'Loan Aganist Bank Deposits': 'Personal Loan', 'OD on Savings Account': 'Personal Loan', \n",
    "    'Microfinance Personal Loan': 'Personal Loan', 'Loan to Professional': 'Personal Loan',\n",
    "    'Auto Loan (Personal)': 'Auto Loan', 'Two Wheeler Loan': 'Auto Loan', 'Used Car Loan': 'Auto Loan',\n",
    "    'Commercial Vehicle Loan': 'Auto Loan', 'Used Tractor Loan': 'Auto Loan', \n",
    "    'Housing Loan': 'Home Loan', 'Property Loan': 'Home Loan', 'Leasing': 'Home Loan',\n",
    "    'Microfinance Housing Loan': 'Home Loan'\n",
    "}\n",
    "\n",
    "# Map the loan categories to the 'ACCOUNT_TYPE' column\n",
    "df['Loan Category'] = df['ACCOUNT_TYPE'].map(loan_categories)\n",
    "\n",
    "# Pivot the DataFrame to create separate columns for each loan category\n",
    "acc_df = df.pivot_table(index='CREDIT_REPORT_ID', columns='Loan Category', aggfunc= 'size', fill_value=0)\n",
    "\n",
    "# Reset the index to make 'CREDIT_REPORT_ID' a column again\n",
    "acc_df.reset_index(inplace=True)\n",
    "\n",
    "# Rename columns for better readability\n",
    "acc_df.rename(columns={'Credit Card': 'ACCOUNT_TYPE_Credit Card', 'Home loan': 'ACCOUNT_TYPE_Home Loan', 'Auto Loan': 'ACCOUNT_TYPE_Auto Loan', 'Personal Loan': 'ACCOUNT_TYPE_Personal Loan'}, inplace=True)"
   ]
  },
  {
   "cell_type": "code",
   "execution_count": null,
   "id": "48e1b04d-9d67-42b2-a988-f519a9a1875a",
   "metadata": {},
   "outputs": [],
   "source": [
    "merged_df = acc_df.merge(df, on=\"CREDIT_REPORT_ID\", how=\"left\")"
   ]
  },
  {
   "cell_type": "code",
   "execution_count": null,
   "id": "b5f238f6-6d0b-4003-a292-f2c047b3fd82",
   "metadata": {},
   "outputs": [
    {
     "data": {
      "text/plain": [
       "(8326868, 27)"
      ]
     },
     "execution_count": 45,
     "metadata": {},
     "output_type": "execute_result"
    }
   ],
   "source": [
    "merged_df.shape"
   ]
  },
  {
   "cell_type": "code",
   "execution_count": null,
   "id": "a95004dd-e001-4354-b0ab-bebfd8f21c2c",
   "metadata": {},
   "outputs": [
    {
     "data": {
      "text/plain": [
       "7222626"
      ]
     },
     "execution_count": 46,
     "metadata": {},
     "output_type": "execute_result"
    }
   ],
   "source": [
    "merged_df[\"CREDIT_REPORT_ID\"].duplicated().sum()"
   ]
  },
  {
   "cell_type": "code",
   "execution_count": null,
   "id": "9dc904a2-550f-4688-9374-412c4e8b261e",
   "metadata": {},
   "outputs": [
    {
     "data": {
      "text/plain": [
       "(1104242, 5)"
      ]
     },
     "execution_count": 47,
     "metadata": {},
     "output_type": "execute_result"
    }
   ],
   "source": [
    "acc_df.shape"
   ]
  },
  {
   "cell_type": "code",
   "execution_count": null,
   "id": "774170bc-af80-4f1c-ba4c-9ffe5499510b",
   "metadata": {},
   "outputs": [
    {
     "data": {
      "text/plain": [
       "Index(['INCOME_BAND', 'AGE_COHORT', 'Loan Category'], dtype='object')"
      ]
     },
     "execution_count": 48,
     "metadata": {},
     "output_type": "execute_result"
    }
   ],
   "source": [
    "merged_df.columns[merged_df.isnull().any()]"
   ]
  },
  {
   "cell_type": "code",
   "execution_count": null,
   "id": "f3c5fdc3-1a21-488b-b29d-f118d22fb5fa",
   "metadata": {},
   "outputs": [],
   "source": [
    "acty_df = merged_df.drop_duplicates(subset='CREDIT_REPORT_ID')"
   ]
  },
  {
   "cell_type": "code",
   "execution_count": null,
   "id": "1ee2fe13-5411-44ef-a0e0-3064cab8e429",
   "metadata": {},
   "outputs": [
    {
     "data": {
      "text/plain": [
       "(1104242, 27)"
      ]
     },
     "execution_count": 50,
     "metadata": {},
     "output_type": "execute_result"
    }
   ],
   "source": [
    "acty_df.shape"
   ]
  },
  {
   "cell_type": "code",
   "execution_count": null,
   "id": "568f6f0f-e76e-4037-9306-bbd10961b0c8",
   "metadata": {},
   "outputs": [],
   "source": [
    "# Pivot CONTRIBUTOR_TYPE data\n",
    "ct_df = df.pivot_table(index = 'CREDIT_REPORT_ID', columns = 'CONTRIBUTOR_TYPE', aggfunc ='size', fill_value = 0)\n",
    "\n",
    "# Reset index to have 'CREDIT_REPORT_ID' as a regular column\n",
    "ct_df.reset_index(inplace=True)\n",
    "\n",
    "# Rename columns for better readability\n",
    "ct_df.rename(columns={'PRB': 'CONTRIBUTOR_TYPE_PRB', 'NBF': 'CONTRIBUTOR_TYPE_NBF'}, inplace=True)"
   ]
  },
  {
   "cell_type": "code",
   "execution_count": null,
   "id": "37733b41-f0bc-4414-9c75-89dd69f27559",
   "metadata": {},
   "outputs": [],
   "source": [
    "merged_df = acty_df.merge(ct_df, on=\"CREDIT_REPORT_ID\", how=\"left\")"
   ]
  },
  {
   "cell_type": "code",
   "execution_count": null,
   "id": "58a8d53a-2888-4841-a7e2-14cbf05d320f",
   "metadata": {},
   "outputs": [],
   "source": [
    "# Pivot OWNERSHIP_IND data\n",
    "oi_df = df.pivot_table(index = 'CREDIT_REPORT_ID', columns = 'OWNERSHIP_IND', aggfunc = 'size', fill_value = 0)\n",
    "\n",
    "# Reset index to have 'CREDIT_REPORT_ID' as a regular column\n",
    "oi_df.reset_index(inplace=True)\n",
    "\n",
    "# Rename columns for better readability\n",
    "oi_df.rename(columns={'Individual': 'OWNERSHIP_IND_Individual', 'Supl Card Holder': 'OWNERSHIP_IND_Supl Card Holder', 'Joint': 'OWNERSHIP_IND_Joint', 'Guarantor': 'OWNERSHIP_IND_Guarantor'}, inplace=True)"
   ]
  },
  {
   "cell_type": "code",
   "execution_count": null,
   "id": "5f146c19-ff4e-4315-83fc-20b6f0dc6cae",
   "metadata": {},
   "outputs": [],
   "source": [
    "merged1_df = merged_df.merge(oi_df, on=\"CREDIT_REPORT_ID\", how=\"left\")"
   ]
  },
  {
   "cell_type": "code",
   "execution_count": null,
   "id": "e7d210fb-559b-4c88-94bf-6f907717721f",
   "metadata": {},
   "outputs": [],
   "source": [
    "# Pivot ACCOUNT_STATUS data\n",
    "as_df = df.pivot_table(index='CREDIT_REPORT_ID', columns='ACCOUNT_STATUS', aggfunc='size', fill_value=0)\n",
    "\n",
    "# Reset index and remove the name of the columns index\n",
    "as_df.reset_index(inplace=True)\n",
    "\n",
    "# Rename columns for better readability\n",
    "as_df.rename(columns={'Active': 'ACCOUNT_STATUS_Active', 'Closed': 'ACCOUNT_STATUS_Closed'}, inplace=True)"
   ]
  },
  {
   "cell_type": "code",
   "execution_count": null,
   "id": "d3845d92-372e-451c-bc85-83c9a656c74c",
   "metadata": {},
   "outputs": [],
   "source": [
    "merged2_df = merged1_df.merge(as_df, on=\"CREDIT_REPORT_ID\", how=\"left\")"
   ]
  },
  {
   "cell_type": "code",
   "execution_count": null,
   "id": "743a3e1f-21c6-4164-bace-cf3567c18c54",
   "metadata": {},
   "outputs": [
    {
     "data": {
      "text/html": [
       "<div>\n",
       "<style scoped>\n",
       "    .dataframe tbody tr th:only-of-type {\n",
       "        vertical-align: middle;\n",
       "    }\n",
       "\n",
       "    .dataframe tbody tr th {\n",
       "        vertical-align: top;\n",
       "    }\n",
       "\n",
       "    .dataframe thead th {\n",
       "        text-align: right;\n",
       "    }\n",
       "</style>\n",
       "<table border=\"1\" class=\"dataframe\">\n",
       "  <thead>\n",
       "    <tr style=\"text-align: right;\">\n",
       "      <th></th>\n",
       "      <th>CREDIT_REPORT_ID</th>\n",
       "      <th>ACCOUNT_TYPE_Auto Loan</th>\n",
       "      <th>ACCOUNT_TYPE_Credit Card</th>\n",
       "      <th>Home Loan</th>\n",
       "      <th>ACCOUNT_TYPE_Personal Loan</th>\n",
       "      <th>INCOME_BAND</th>\n",
       "      <th>PRIMARY_NO_OF_ACCOUNTS</th>\n",
       "      <th>PRIMARY_ACTIVE_ACCOUNTS</th>\n",
       "      <th>PRIMARY_OVERDUE_ACCOUNTS</th>\n",
       "      <th>PRIMARY_CURRENT_BALANCE</th>\n",
       "      <th>...</th>\n",
       "      <th>Loan Category</th>\n",
       "      <th>CONTRIBUTOR_TYPE_NBF</th>\n",
       "      <th>CONTRIBUTOR_TYPE_PRB</th>\n",
       "      <th>OWNERSHIP_IND_Guarantor</th>\n",
       "      <th>OWNERSHIP_IND_Individual</th>\n",
       "      <th>OWNERSHIP_IND_Joint</th>\n",
       "      <th>Primary</th>\n",
       "      <th>OWNERSHIP_IND_Supl Card Holder</th>\n",
       "      <th>ACCOUNT_STATUS_Active</th>\n",
       "      <th>ACCOUNT_STATUS_Closed</th>\n",
       "    </tr>\n",
       "  </thead>\n",
       "  <tbody>\n",
       "    <tr>\n",
       "      <th>0</th>\n",
       "      <td>GEOA221114CR000011523894971</td>\n",
       "      <td>0</td>\n",
       "      <td>1</td>\n",
       "      <td>0</td>\n",
       "      <td>0</td>\n",
       "      <td>H</td>\n",
       "      <td>4.00</td>\n",
       "      <td>2.00</td>\n",
       "      <td>0.00</td>\n",
       "      <td>12737.00</td>\n",
       "      <td>...</td>\n",
       "      <td>Credit Card</td>\n",
       "      <td>0</td>\n",
       "      <td>1</td>\n",
       "      <td>0</td>\n",
       "      <td>1</td>\n",
       "      <td>0</td>\n",
       "      <td>0</td>\n",
       "      <td>0</td>\n",
       "      <td>1</td>\n",
       "      <td>0</td>\n",
       "    </tr>\n",
       "    <tr>\n",
       "      <th>1</th>\n",
       "      <td>GEOA221114CR000111523894971</td>\n",
       "      <td>0</td>\n",
       "      <td>1</td>\n",
       "      <td>0</td>\n",
       "      <td>0</td>\n",
       "      <td>D</td>\n",
       "      <td>1.00</td>\n",
       "      <td>1.00</td>\n",
       "      <td>0.00</td>\n",
       "      <td>235.00</td>\n",
       "      <td>...</td>\n",
       "      <td>Credit Card</td>\n",
       "      <td>0</td>\n",
       "      <td>1</td>\n",
       "      <td>0</td>\n",
       "      <td>1</td>\n",
       "      <td>0</td>\n",
       "      <td>0</td>\n",
       "      <td>0</td>\n",
       "      <td>1</td>\n",
       "      <td>0</td>\n",
       "    </tr>\n",
       "    <tr>\n",
       "      <th>2</th>\n",
       "      <td>GEOA221114CR000211523894971</td>\n",
       "      <td>0</td>\n",
       "      <td>1</td>\n",
       "      <td>0</td>\n",
       "      <td>0</td>\n",
       "      <td>H</td>\n",
       "      <td>9.00</td>\n",
       "      <td>5.00</td>\n",
       "      <td>0.00</td>\n",
       "      <td>3052319.00</td>\n",
       "      <td>...</td>\n",
       "      <td>Credit Card</td>\n",
       "      <td>0</td>\n",
       "      <td>1</td>\n",
       "      <td>0</td>\n",
       "      <td>1</td>\n",
       "      <td>0</td>\n",
       "      <td>0</td>\n",
       "      <td>0</td>\n",
       "      <td>1</td>\n",
       "      <td>0</td>\n",
       "    </tr>\n",
       "    <tr>\n",
       "      <th>3</th>\n",
       "      <td>GEOA221114CR00021523894971</td>\n",
       "      <td>0</td>\n",
       "      <td>5</td>\n",
       "      <td>0</td>\n",
       "      <td>14</td>\n",
       "      <td>H</td>\n",
       "      <td>46.00</td>\n",
       "      <td>14.00</td>\n",
       "      <td>0.00</td>\n",
       "      <td>835826.00</td>\n",
       "      <td>...</td>\n",
       "      <td>NaN</td>\n",
       "      <td>15</td>\n",
       "      <td>6</td>\n",
       "      <td>0</td>\n",
       "      <td>21</td>\n",
       "      <td>0</td>\n",
       "      <td>0</td>\n",
       "      <td>0</td>\n",
       "      <td>9</td>\n",
       "      <td>12</td>\n",
       "    </tr>\n",
       "    <tr>\n",
       "      <th>4</th>\n",
       "      <td>GEOA221114CR00041523894971</td>\n",
       "      <td>0</td>\n",
       "      <td>0</td>\n",
       "      <td>0</td>\n",
       "      <td>3</td>\n",
       "      <td>F</td>\n",
       "      <td>15.00</td>\n",
       "      <td>5.00</td>\n",
       "      <td>4.00</td>\n",
       "      <td>399263.00</td>\n",
       "      <td>...</td>\n",
       "      <td>Personal Loan</td>\n",
       "      <td>5</td>\n",
       "      <td>0</td>\n",
       "      <td>0</td>\n",
       "      <td>5</td>\n",
       "      <td>0</td>\n",
       "      <td>0</td>\n",
       "      <td>0</td>\n",
       "      <td>1</td>\n",
       "      <td>4</td>\n",
       "    </tr>\n",
       "  </tbody>\n",
       "</table>\n",
       "<p>5 rows × 36 columns</p>\n",
       "</div>"
      ],
      "text/plain": [
       "              CREDIT_REPORT_ID  ACCOUNT_TYPE_Auto Loan  \\\n",
       "0  GEOA221114CR000011523894971                       0   \n",
       "1  GEOA221114CR000111523894971                       0   \n",
       "2  GEOA221114CR000211523894971                       0   \n",
       "3   GEOA221114CR00021523894971                       0   \n",
       "4   GEOA221114CR00041523894971                       0   \n",
       "\n",
       "   ACCOUNT_TYPE_Credit Card  Home Loan  ACCOUNT_TYPE_Personal Loan  \\\n",
       "0                         1          0                           0   \n",
       "1                         1          0                           0   \n",
       "2                         1          0                           0   \n",
       "3                         5          0                          14   \n",
       "4                         0          0                           3   \n",
       "\n",
       "  INCOME_BAND  PRIMARY_NO_OF_ACCOUNTS  PRIMARY_ACTIVE_ACCOUNTS  \\\n",
       "0           H                    4.00                     2.00   \n",
       "1           D                    1.00                     1.00   \n",
       "2           H                    9.00                     5.00   \n",
       "3           H                   46.00                    14.00   \n",
       "4           F                   15.00                     5.00   \n",
       "\n",
       "   PRIMARY_OVERDUE_ACCOUNTS  PRIMARY_CURRENT_BALANCE  ...  Loan Category  \\\n",
       "0                      0.00                 12737.00  ...    Credit Card   \n",
       "1                      0.00                   235.00  ...    Credit Card   \n",
       "2                      0.00               3052319.00  ...    Credit Card   \n",
       "3                      0.00                835826.00  ...            NaN   \n",
       "4                      4.00                399263.00  ...  Personal Loan   \n",
       "\n",
       "   CONTRIBUTOR_TYPE_NBF  CONTRIBUTOR_TYPE_PRB  OWNERSHIP_IND_Guarantor  \\\n",
       "0                     0                     1                        0   \n",
       "1                     0                     1                        0   \n",
       "2                     0                     1                        0   \n",
       "3                    15                     6                        0   \n",
       "4                     5                     0                        0   \n",
       "\n",
       "  OWNERSHIP_IND_Individual  OWNERSHIP_IND_Joint Primary  \\\n",
       "0                        1                    0       0   \n",
       "1                        1                    0       0   \n",
       "2                        1                    0       0   \n",
       "3                       21                    0       0   \n",
       "4                        5                    0       0   \n",
       "\n",
       "  OWNERSHIP_IND_Supl Card Holder ACCOUNT_STATUS_Active ACCOUNT_STATUS_Closed  \n",
       "0                              0                     1                     0  \n",
       "1                              0                     1                     0  \n",
       "2                              0                     1                     0  \n",
       "3                              0                     9                    12  \n",
       "4                              0                     1                     4  \n",
       "\n",
       "[5 rows x 36 columns]"
      ]
     },
     "execution_count": 57,
     "metadata": {},
     "output_type": "execute_result"
    }
   ],
   "source": [
    "merged2_df.head(5)"
   ]
  },
  {
   "cell_type": "code",
   "execution_count": null,
   "id": "57d1f94c-1d13-46db-872e-3d59eb2621a5",
   "metadata": {},
   "outputs": [],
   "source": [
    "agg_data = df[['CREDIT_REPORT_ID', 'ACCOUNT_STATUS', 'CURRENT_BALANCE', 'OVERDUE_AMOUNT']]\n",
    "\n",
    "def aggregation(df):\n",
    "    # Create a pivot table to aggregate balances and overdue amounts\n",
    "    pivot_df = df.pivot_table(index='CREDIT_REPORT_ID', columns='ACCOUNT_STATUS', \n",
    "                              values=['CURRENT_BALANCE', 'OVERDUE_AMOUNT'], \n",
    "                              aggfunc={'CURRENT_BALANCE': 'sum', 'OVERDUE_AMOUNT': 'sum'}, \n",
    "                              fill_value=0)\n",
    "    \n",
    "    # Flatten the multi-level column index\n",
    "    pivot_df.columns = [f'{agg}_{status}' for status, agg in pivot_df.columns]\n",
    "    \n",
    "    # Reset the index to make 'CREDIT_REPORT_ID' a regular column\n",
    "    pivot_df.reset_index(inplace=True)\n",
    "    \n",
    "    return pivot_df\n",
    "\n",
    "# Call the function to aggregate balances\n",
    "aggregated_data = aggregation(agg_data)"
   ]
  },
  {
   "cell_type": "code",
   "execution_count": null,
   "id": "9ca7e9cc-cb82-4fff-bcf4-6198269bec6b",
   "metadata": {},
   "outputs": [],
   "source": [
    "merged3_df = merged2_df.merge(aggregated_data, on=\"CREDIT_REPORT_ID\", how=\"left\")"
   ]
  },
  {
   "cell_type": "code",
   "execution_count": null,
   "id": "31617865-b5fe-450a-ae9b-672698b36eab",
   "metadata": {},
   "outputs": [],
   "source": [
    "merged2_df = merged2_df.drop(['CURRENT_BALANCE', 'OVERDUE_AMOUNT'], axis = 1)"
   ]
  },
  {
   "cell_type": "code",
   "execution_count": null,
   "id": "ad0b85e6-feaf-4352-a1a1-32f3a0bba0b9",
   "metadata": {},
   "outputs": [
    {
     "data": {
      "text/plain": [
       "Good    1084640\n",
       "Bad       19602\n",
       "Name: ROOPYA_ACCOUNT_STATUS, dtype: int64"
      ]
     },
     "execution_count": 61,
     "metadata": {},
     "output_type": "execute_result"
    }
   ],
   "source": [
    "merged3_df[\"ROOPYA_ACCOUNT_STATUS\"].value_counts()"
   ]
  },
  {
   "cell_type": "code",
   "execution_count": null,
   "id": "fbbc5473-0b79-4f29-b56e-f683e917ab54",
   "metadata": {},
   "outputs": [],
   "source": [
    "cri_df = merged3_df[['CREDIT_REPORT_ID', 'ROOPYA_ACCOUNT_STATUS']]\n",
    "\n",
    "# Custom function to determine the final status\n",
    "def categorize_customer(group):\n",
    "    unique_statuses = group['ROOPYA_ACCOUNT_STATUS'].unique()\n",
    "\n",
    "    if len(unique_statuses) == 1:\n",
    "        return unique_statuses[0]\n",
    "    elif 'Bad' in unique_statuses:\n",
    "        return 'Bad'\n",
    "    else:\n",
    "        return 'Good'\n",
    "\n",
    "result = cri_df.groupby('CREDIT_REPORT_ID').apply(categorize_customer)\n",
    "\n",
    "# Create a new DataFrame with the summarized results\n",
    "final_status_df = result.reset_index(name='ROOPYA_CUSTOMER_STATUS')"
   ]
  },
  {
   "cell_type": "code",
   "execution_count": null,
   "id": "c0626362-7be0-4863-b5a7-6fb533c1de32",
   "metadata": {},
   "outputs": [
    {
     "data": {
      "text/plain": [
       "Index(['CREDIT_REPORT_ID', 'ACCOUNT_TYPE_Auto Loan',\n",
       "       'ACCOUNT_TYPE_Credit Card', 'Home Loan', 'ACCOUNT_TYPE_Personal Loan',\n",
       "       'INCOME_BAND', 'PRIMARY_NO_OF_ACCOUNTS', 'PRIMARY_ACTIVE_ACCOUNTS',\n",
       "       'PRIMARY_OVERDUE_ACCOUNTS', 'PRIMARY_CURRENT_BALANCE',\n",
       "       'PRIMARY_SANCTIONED_AMOUNT', 'PRIMARY_DISTRIBUTED_AMOUNT',\n",
       "       'PRIMARY_INSTALLMENT_AMOUNT', 'NEW_ACCOUNTS_IN_LAST_SIX_MONTHS',\n",
       "       'AVERAGE_ACCOUNT_AGE', 'NO_OF_INQUIRIES', 'ACCOUNT_TYPE',\n",
       "       'CONTRIBUTOR_TYPE', 'OWNERSHIP_IND', 'ACCOUNT_STATUS',\n",
       "       'CURRENT_BALANCE', 'OVERDUE_AMOUNT', 'INCOME', 'AGE_COHORT', 'STATE',\n",
       "       'ROOPYA_ACCOUNT_STATUS', 'Loan Category', 'CONTRIBUTOR_TYPE_NBF',\n",
       "       'CONTRIBUTOR_TYPE_PRB', 'OWNERSHIP_IND_Guarantor',\n",
       "       'OWNERSHIP_IND_Individual', 'OWNERSHIP_IND_Joint', 'Primary',\n",
       "       'OWNERSHIP_IND_Supl Card Holder', 'ACCOUNT_STATUS_Active',\n",
       "       'ACCOUNT_STATUS_Closed', 'Active_CURRENT_BALANCE',\n",
       "       'Closed_CURRENT_BALANCE', 'Active_OVERDUE_AMOUNT',\n",
       "       'Closed_OVERDUE_AMOUNT'],\n",
       "      dtype='object')"
      ]
     },
     "execution_count": 63,
     "metadata": {},
     "output_type": "execute_result"
    }
   ],
   "source": [
    "merged3_df.columns"
   ]
  },
  {
   "cell_type": "code",
   "execution_count": null,
   "id": "3b31fabd-1956-496f-bcf6-667203df1a45",
   "metadata": {},
   "outputs": [],
   "source": [
    "df_1 = merged3_df.drop(columns = ['INCOME_BAND', 'ACCOUNT_TYPE', 'CONTRIBUTOR_TYPE', 'OWNERSHIP_IND', 'ACCOUNT_STATUS','ROOPYA_ACCOUNT_STATUS', 'Loan Category', 'Primary'])\n",
    "df_2 = final_status_df.drop(columns = ['CREDIT_REPORT_ID'])"
   ]
  },
  {
   "cell_type": "code",
   "execution_count": null,
   "id": "9087587a-f6da-4d5b-b85c-d5930a4a6487",
   "metadata": {},
   "outputs": [],
   "source": [
    "df1 = df_1.reset_index(drop=True)\n",
    "df2 = df_2.reset_index(drop=True)"
   ]
  },
  {
   "cell_type": "code",
   "execution_count": null,
   "id": "60384415-864b-499d-a665-22a16ec964ff",
   "metadata": {},
   "outputs": [],
   "source": [
    "import pandas as pd\n",
    "result_df = pd.concat([df1, df2], axis = 1)"
   ]
  },
  {
   "cell_type": "code",
   "execution_count": null,
   "id": "999fd718-2e86-4689-a887-4d70b81d6d9f",
   "metadata": {},
   "outputs": [],
   "source": [
    "final_df = result_df.rename(columns={'Home Loan': 'ACCOUNT_TYPE_Home Loan'})"
   ]
  },
  {
   "cell_type": "code",
   "execution_count": null,
   "id": "9a15b554-424e-4696-bee2-f04f2f881138",
   "metadata": {},
   "outputs": [
    {
     "data": {
      "text/plain": [
       "CREDIT_REPORT_ID                      0\n",
       "ACCOUNT_TYPE_Auto Loan                0\n",
       "ACCOUNT_TYPE_Credit Card              0\n",
       "ACCOUNT_TYPE_Home Loan                0\n",
       "ACCOUNT_TYPE_Personal Loan            0\n",
       "PRIMARY_NO_OF_ACCOUNTS                0\n",
       "PRIMARY_ACTIVE_ACCOUNTS               0\n",
       "PRIMARY_OVERDUE_ACCOUNTS              0\n",
       "PRIMARY_CURRENT_BALANCE               0\n",
       "PRIMARY_SANCTIONED_AMOUNT             0\n",
       "PRIMARY_DISTRIBUTED_AMOUNT            0\n",
       "PRIMARY_INSTALLMENT_AMOUNT            0\n",
       "NEW_ACCOUNTS_IN_LAST_SIX_MONTHS       0\n",
       "AVERAGE_ACCOUNT_AGE                   0\n",
       "NO_OF_INQUIRIES                       0\n",
       "CURRENT_BALANCE                       0\n",
       "OVERDUE_AMOUNT                        0\n",
       "INCOME                                0\n",
       "AGE_COHORT                         2034\n",
       "STATE                                 0\n",
       "CONTRIBUTOR_TYPE_NBF                  0\n",
       "CONTRIBUTOR_TYPE_PRB                  0\n",
       "OWNERSHIP_IND_Guarantor               0\n",
       "OWNERSHIP_IND_Individual              0\n",
       "OWNERSHIP_IND_Joint                   0\n",
       "OWNERSHIP_IND_Supl Card Holder        0\n",
       "ACCOUNT_STATUS_Active                 0\n",
       "ACCOUNT_STATUS_Closed                 0\n",
       "Active_CURRENT_BALANCE                0\n",
       "Closed_CURRENT_BALANCE                0\n",
       "Active_OVERDUE_AMOUNT                 0\n",
       "Closed_OVERDUE_AMOUNT                 0\n",
       "ROOPYA_CUSTOMER_STATUS                0\n",
       "dtype: int64"
      ]
     },
     "execution_count": 68,
     "metadata": {},
     "output_type": "execute_result"
    }
   ],
   "source": [
    "final_df.isnull().sum()"
   ]
  },
  {
   "cell_type": "code",
   "execution_count": null,
   "id": "9791730d-330b-46e1-aa86-c51324018bcd",
   "metadata": {},
   "outputs": [
    {
     "data": {
      "text/plain": [
       "Good    1084640\n",
       "Bad       19602\n",
       "Name: ROOPYA_CUSTOMER_STATUS, dtype: int64"
      ]
     },
     "execution_count": 69,
     "metadata": {},
     "output_type": "execute_result"
    }
   ],
   "source": [
    "final_df['ROOPYA_CUSTOMER_STATUS'].value_counts()"
   ]
  },
  {
   "cell_type": "code",
   "execution_count": null,
   "id": "b4df02d6-12c5-44d5-801b-e286d6d81671",
   "metadata": {},
   "outputs": [
    {
     "name": "stdout",
     "output_type": "stream",
     "text": [
      "No of customers with Auto Loan:  160915\n",
      "No of customers with Credit Card:  831555\n",
      "No of customers with Home Loan:  122333\n",
      "No of customers with Personal Loan:  625293\n"
     ]
    }
   ],
   "source": [
    "print(\"No of customers with Auto Loan: \", len(final_df[final_df[\"ACCOUNT_TYPE_Auto Loan\"] != 0]))\n",
    "print(\"No of customers with Credit Card: \", len(final_df[final_df[\"ACCOUNT_TYPE_Credit Card\"] != 0]))\n",
    "print(\"No of customers with Home Loan: \", len(final_df[final_df[\"ACCOUNT_TYPE_Home Loan\"] != 0]))\n",
    "print(\"No of customers with Personal Loan: \", len(final_df[final_df[\"ACCOUNT_TYPE_Personal Loan\"] != 0]))"
   ]
  },
  {
   "cell_type": "code",
   "execution_count": null,
   "id": "e0836298-05e6-4851-9e11-c5ffe335c3f7",
   "metadata": {},
   "outputs": [
    {
     "data": {
      "text/html": [
       "<div>\n",
       "<style scoped>\n",
       "    .dataframe tbody tr th:only-of-type {\n",
       "        vertical-align: middle;\n",
       "    }\n",
       "\n",
       "    .dataframe tbody tr th {\n",
       "        vertical-align: top;\n",
       "    }\n",
       "\n",
       "    .dataframe thead th {\n",
       "        text-align: right;\n",
       "    }\n",
       "</style>\n",
       "<table border=\"1\" class=\"dataframe\">\n",
       "  <thead>\n",
       "    <tr style=\"text-align: right;\">\n",
       "      <th></th>\n",
       "      <th>ACCOUNT_TYPE_Auto Loan</th>\n",
       "      <th>ACCOUNT_TYPE_Credit Card</th>\n",
       "      <th>ACCOUNT_TYPE_Home Loan</th>\n",
       "      <th>ACCOUNT_TYPE_Personal Loan</th>\n",
       "      <th>PRIMARY_NO_OF_ACCOUNTS</th>\n",
       "      <th>PRIMARY_ACTIVE_ACCOUNTS</th>\n",
       "      <th>PRIMARY_OVERDUE_ACCOUNTS</th>\n",
       "      <th>PRIMARY_CURRENT_BALANCE</th>\n",
       "      <th>PRIMARY_SANCTIONED_AMOUNT</th>\n",
       "      <th>PRIMARY_DISTRIBUTED_AMOUNT</th>\n",
       "      <th>...</th>\n",
       "      <th>OWNERSHIP_IND_Guarantor</th>\n",
       "      <th>OWNERSHIP_IND_Individual</th>\n",
       "      <th>OWNERSHIP_IND_Joint</th>\n",
       "      <th>OWNERSHIP_IND_Supl Card Holder</th>\n",
       "      <th>ACCOUNT_STATUS_Active</th>\n",
       "      <th>ACCOUNT_STATUS_Closed</th>\n",
       "      <th>Active_CURRENT_BALANCE</th>\n",
       "      <th>Closed_CURRENT_BALANCE</th>\n",
       "      <th>Active_OVERDUE_AMOUNT</th>\n",
       "      <th>Closed_OVERDUE_AMOUNT</th>\n",
       "    </tr>\n",
       "  </thead>\n",
       "  <tbody>\n",
       "    <tr>\n",
       "      <th>count</th>\n",
       "      <td>1104242.00</td>\n",
       "      <td>1104242.00</td>\n",
       "      <td>1104242.00</td>\n",
       "      <td>1104242.00</td>\n",
       "      <td>1104242.00</td>\n",
       "      <td>1104242.00</td>\n",
       "      <td>1104242.00</td>\n",
       "      <td>1104242.00</td>\n",
       "      <td>1104242.00</td>\n",
       "      <td>1104242.00</td>\n",
       "      <td>...</td>\n",
       "      <td>1104242.00</td>\n",
       "      <td>1104242.00</td>\n",
       "      <td>1104242.00</td>\n",
       "      <td>1104242.00</td>\n",
       "      <td>1104242.00</td>\n",
       "      <td>1104242.00</td>\n",
       "      <td>1104242.00</td>\n",
       "      <td>1104242.00</td>\n",
       "      <td>1104242.00</td>\n",
       "      <td>1104242.00</td>\n",
       "    </tr>\n",
       "    <tr>\n",
       "      <th>mean</th>\n",
       "      <td>0.31</td>\n",
       "      <td>2.04</td>\n",
       "      <td>0.18</td>\n",
       "      <td>4.25</td>\n",
       "      <td>11.27</td>\n",
       "      <td>4.16</td>\n",
       "      <td>0.39</td>\n",
       "      <td>1225470.92</td>\n",
       "      <td>2100587.28</td>\n",
       "      <td>1932027.73</td>\n",
       "      <td>...</td>\n",
       "      <td>0.05</td>\n",
       "      <td>7.19</td>\n",
       "      <td>0.27</td>\n",
       "      <td>0.02</td>\n",
       "      <td>3.94</td>\n",
       "      <td>3.60</td>\n",
       "      <td>693476.74</td>\n",
       "      <td>968.39</td>\n",
       "      <td>7.35</td>\n",
       "      <td>128.34</td>\n",
       "    </tr>\n",
       "    <tr>\n",
       "      <th>std</th>\n",
       "      <td>1.57</td>\n",
       "      <td>4.14</td>\n",
       "      <td>0.84</td>\n",
       "      <td>27.44</td>\n",
       "      <td>10.19</td>\n",
       "      <td>3.66</td>\n",
       "      <td>1.24</td>\n",
       "      <td>1767765.01</td>\n",
       "      <td>2412553.14</td>\n",
       "      <td>2343121.10</td>\n",
       "      <td>...</td>\n",
       "      <td>0.62</td>\n",
       "      <td>31.90</td>\n",
       "      <td>1.34</td>\n",
       "      <td>0.17</td>\n",
       "      <td>11.75</td>\n",
       "      <td>22.97</td>\n",
       "      <td>2534252.76</td>\n",
       "      <td>67589.60</td>\n",
       "      <td>325.88</td>\n",
       "      <td>20394.24</td>\n",
       "    </tr>\n",
       "    <tr>\n",
       "      <th>min</th>\n",
       "      <td>0.00</td>\n",
       "      <td>0.00</td>\n",
       "      <td>0.00</td>\n",
       "      <td>0.00</td>\n",
       "      <td>1.00</td>\n",
       "      <td>0.00</td>\n",
       "      <td>0.00</td>\n",
       "      <td>0.00</td>\n",
       "      <td>0.00</td>\n",
       "      <td>0.00</td>\n",
       "      <td>...</td>\n",
       "      <td>0.00</td>\n",
       "      <td>0.00</td>\n",
       "      <td>0.00</td>\n",
       "      <td>0.00</td>\n",
       "      <td>0.00</td>\n",
       "      <td>0.00</td>\n",
       "      <td>0.00</td>\n",
       "      <td>0.00</td>\n",
       "      <td>-44280.00</td>\n",
       "      <td>-18.00</td>\n",
       "    </tr>\n",
       "    <tr>\n",
       "      <th>25%</th>\n",
       "      <td>0.00</td>\n",
       "      <td>1.00</td>\n",
       "      <td>0.00</td>\n",
       "      <td>0.00</td>\n",
       "      <td>5.00</td>\n",
       "      <td>2.00</td>\n",
       "      <td>0.00</td>\n",
       "      <td>17144.25</td>\n",
       "      <td>205991.50</td>\n",
       "      <td>129833.25</td>\n",
       "      <td>...</td>\n",
       "      <td>0.00</td>\n",
       "      <td>1.00</td>\n",
       "      <td>0.00</td>\n",
       "      <td>0.00</td>\n",
       "      <td>1.00</td>\n",
       "      <td>0.00</td>\n",
       "      <td>0.00</td>\n",
       "      <td>0.00</td>\n",
       "      <td>0.00</td>\n",
       "      <td>0.00</td>\n",
       "    </tr>\n",
       "    <tr>\n",
       "      <th>50%</th>\n",
       "      <td>0.00</td>\n",
       "      <td>1.00</td>\n",
       "      <td>0.00</td>\n",
       "      <td>1.00</td>\n",
       "      <td>9.00</td>\n",
       "      <td>3.00</td>\n",
       "      <td>0.00</td>\n",
       "      <td>332962.00</td>\n",
       "      <td>1075000.00</td>\n",
       "      <td>849025.50</td>\n",
       "      <td>...</td>\n",
       "      <td>0.00</td>\n",
       "      <td>3.00</td>\n",
       "      <td>0.00</td>\n",
       "      <td>0.00</td>\n",
       "      <td>2.00</td>\n",
       "      <td>1.00</td>\n",
       "      <td>27891.00</td>\n",
       "      <td>0.00</td>\n",
       "      <td>0.00</td>\n",
       "      <td>0.00</td>\n",
       "    </tr>\n",
       "    <tr>\n",
       "      <th>75%</th>\n",
       "      <td>0.00</td>\n",
       "      <td>2.00</td>\n",
       "      <td>0.00</td>\n",
       "      <td>3.00</td>\n",
       "      <td>15.00</td>\n",
       "      <td>6.00</td>\n",
       "      <td>0.00</td>\n",
       "      <td>1838420.75</td>\n",
       "      <td>3300564.25</td>\n",
       "      <td>3081971.25</td>\n",
       "      <td>...</td>\n",
       "      <td>0.00</td>\n",
       "      <td>5.00</td>\n",
       "      <td>0.00</td>\n",
       "      <td>0.00</td>\n",
       "      <td>4.00</td>\n",
       "      <td>2.00</td>\n",
       "      <td>318380.75</td>\n",
       "      <td>0.00</td>\n",
       "      <td>0.00</td>\n",
       "      <td>0.00</td>\n",
       "    </tr>\n",
       "    <tr>\n",
       "      <th>max</th>\n",
       "      <td>180.00</td>\n",
       "      <td>484.00</td>\n",
       "      <td>235.00</td>\n",
       "      <td>3375.00</td>\n",
       "      <td>99.00</td>\n",
       "      <td>56.00</td>\n",
       "      <td>78.00</td>\n",
       "      <td>10000000.00</td>\n",
       "      <td>10000000.00</td>\n",
       "      <td>10000000.00</td>\n",
       "      <td>...</td>\n",
       "      <td>186.00</td>\n",
       "      <td>3750.00</td>\n",
       "      <td>141.00</td>\n",
       "      <td>29.00</td>\n",
       "      <td>1364.00</td>\n",
       "      <td>2628.00</td>\n",
       "      <td>211213912.00</td>\n",
       "      <td>29681964.00</td>\n",
       "      <td>104558.00</td>\n",
       "      <td>17509303.00</td>\n",
       "    </tr>\n",
       "  </tbody>\n",
       "</table>\n",
       "<p>8 rows × 29 columns</p>\n",
       "</div>"
      ],
      "text/plain": [
       "       ACCOUNT_TYPE_Auto Loan  ACCOUNT_TYPE_Credit Card  \\\n",
       "count              1104242.00                1104242.00   \n",
       "mean                     0.31                      2.04   \n",
       "std                      1.57                      4.14   \n",
       "min                      0.00                      0.00   \n",
       "25%                      0.00                      1.00   \n",
       "50%                      0.00                      1.00   \n",
       "75%                      0.00                      2.00   \n",
       "max                    180.00                    484.00   \n",
       "\n",
       "       ACCOUNT_TYPE_Home Loan  ACCOUNT_TYPE_Personal Loan  \\\n",
       "count              1104242.00                  1104242.00   \n",
       "mean                     0.18                        4.25   \n",
       "std                      0.84                       27.44   \n",
       "min                      0.00                        0.00   \n",
       "25%                      0.00                        0.00   \n",
       "50%                      0.00                        1.00   \n",
       "75%                      0.00                        3.00   \n",
       "max                    235.00                     3375.00   \n",
       "\n",
       "       PRIMARY_NO_OF_ACCOUNTS  PRIMARY_ACTIVE_ACCOUNTS  \\\n",
       "count              1104242.00               1104242.00   \n",
       "mean                    11.27                     4.16   \n",
       "std                     10.19                     3.66   \n",
       "min                      1.00                     0.00   \n",
       "25%                      5.00                     2.00   \n",
       "50%                      9.00                     3.00   \n",
       "75%                     15.00                     6.00   \n",
       "max                     99.00                    56.00   \n",
       "\n",
       "       PRIMARY_OVERDUE_ACCOUNTS  PRIMARY_CURRENT_BALANCE  \\\n",
       "count                1104242.00               1104242.00   \n",
       "mean                       0.39               1225470.92   \n",
       "std                        1.24               1767765.01   \n",
       "min                        0.00                     0.00   \n",
       "25%                        0.00                 17144.25   \n",
       "50%                        0.00                332962.00   \n",
       "75%                        0.00               1838420.75   \n",
       "max                       78.00              10000000.00   \n",
       "\n",
       "       PRIMARY_SANCTIONED_AMOUNT  PRIMARY_DISTRIBUTED_AMOUNT  ...  \\\n",
       "count                 1104242.00                  1104242.00  ...   \n",
       "mean                  2100587.28                  1932027.73  ...   \n",
       "std                   2412553.14                  2343121.10  ...   \n",
       "min                         0.00                        0.00  ...   \n",
       "25%                    205991.50                   129833.25  ...   \n",
       "50%                   1075000.00                   849025.50  ...   \n",
       "75%                   3300564.25                  3081971.25  ...   \n",
       "max                  10000000.00                 10000000.00  ...   \n",
       "\n",
       "       OWNERSHIP_IND_Guarantor  OWNERSHIP_IND_Individual  OWNERSHIP_IND_Joint  \\\n",
       "count               1104242.00                1104242.00           1104242.00   \n",
       "mean                      0.05                      7.19                 0.27   \n",
       "std                       0.62                     31.90                 1.34   \n",
       "min                       0.00                      0.00                 0.00   \n",
       "25%                       0.00                      1.00                 0.00   \n",
       "50%                       0.00                      3.00                 0.00   \n",
       "75%                       0.00                      5.00                 0.00   \n",
       "max                     186.00                   3750.00               141.00   \n",
       "\n",
       "       OWNERSHIP_IND_Supl Card Holder  ACCOUNT_STATUS_Active  \\\n",
       "count                      1104242.00             1104242.00   \n",
       "mean                             0.02                   3.94   \n",
       "std                              0.17                  11.75   \n",
       "min                              0.00                   0.00   \n",
       "25%                              0.00                   1.00   \n",
       "50%                              0.00                   2.00   \n",
       "75%                              0.00                   4.00   \n",
       "max                             29.00                1364.00   \n",
       "\n",
       "       ACCOUNT_STATUS_Closed  Active_CURRENT_BALANCE  Closed_CURRENT_BALANCE  \\\n",
       "count             1104242.00              1104242.00              1104242.00   \n",
       "mean                    3.60               693476.74                  968.39   \n",
       "std                    22.97              2534252.76                67589.60   \n",
       "min                     0.00                    0.00                    0.00   \n",
       "25%                     0.00                    0.00                    0.00   \n",
       "50%                     1.00                27891.00                    0.00   \n",
       "75%                     2.00               318380.75                    0.00   \n",
       "max                  2628.00            211213912.00             29681964.00   \n",
       "\n",
       "       Active_OVERDUE_AMOUNT  Closed_OVERDUE_AMOUNT  \n",
       "count             1104242.00             1104242.00  \n",
       "mean                    7.35                 128.34  \n",
       "std                   325.88               20394.24  \n",
       "min                -44280.00                 -18.00  \n",
       "25%                     0.00                   0.00  \n",
       "50%                     0.00                   0.00  \n",
       "75%                     0.00                   0.00  \n",
       "max                104558.00            17509303.00  \n",
       "\n",
       "[8 rows x 29 columns]"
      ]
     },
     "execution_count": 71,
     "metadata": {},
     "output_type": "execute_result"
    }
   ],
   "source": [
    "pd.set_option('display.float_format', '{:.2f}'.format)\n",
    "final_df.describe()"
   ]
  },
  {
   "cell_type": "code",
   "execution_count": null,
   "id": "d5fc920f-f6d0-4af2-b2f2-21a34ef2c9e2",
   "metadata": {},
   "outputs": [],
   "source": [
    "df10 = final_df[(final_df['Active_OVERDUE_AMOUNT'] >= 0)]"
   ]
  },
  {
   "cell_type": "code",
   "execution_count": null,
   "id": "d084d372-d963-42d9-a658-a7ed62a5015a",
   "metadata": {},
   "outputs": [],
   "source": [
    "df10 = df10.drop(columns = ['Closed_CURRENT_BALANCE', 'Closed_OVERDUE_AMOUNT'], axis = 1)"
   ]
  },
  {
   "cell_type": "code",
   "execution_count": null,
   "id": "13e94b31-8573-45ad-9d23-dbbf22a11484",
   "metadata": {},
   "outputs": [
    {
     "data": {
      "text/plain": [
       "Index(['CREDIT_REPORT_ID', 'ACCOUNT_TYPE_Auto Loan',\n",
       "       'ACCOUNT_TYPE_Credit Card', 'ACCOUNT_TYPE_Home Loan',\n",
       "       'ACCOUNT_TYPE_Personal Loan', 'PRIMARY_NO_OF_ACCOUNTS',\n",
       "       'PRIMARY_ACTIVE_ACCOUNTS', 'PRIMARY_OVERDUE_ACCOUNTS',\n",
       "       'PRIMARY_CURRENT_BALANCE', 'PRIMARY_SANCTIONED_AMOUNT',\n",
       "       'PRIMARY_DISTRIBUTED_AMOUNT', 'PRIMARY_INSTALLMENT_AMOUNT',\n",
       "       'NEW_ACCOUNTS_IN_LAST_SIX_MONTHS', 'AVERAGE_ACCOUNT_AGE',\n",
       "       'NO_OF_INQUIRIES', 'CURRENT_BALANCE', 'OVERDUE_AMOUNT', 'INCOME',\n",
       "       'AGE_COHORT', 'STATE', 'CONTRIBUTOR_TYPE_NBF', 'CONTRIBUTOR_TYPE_PRB',\n",
       "       'OWNERSHIP_IND_Guarantor', 'OWNERSHIP_IND_Individual',\n",
       "       'OWNERSHIP_IND_Joint', 'OWNERSHIP_IND_Supl Card Holder',\n",
       "       'ACCOUNT_STATUS_Active', 'ACCOUNT_STATUS_Closed',\n",
       "       'Active_CURRENT_BALANCE', 'Active_OVERDUE_AMOUNT',\n",
       "       'ROOPYA_CUSTOMER_STATUS'],\n",
       "      dtype='object')"
      ]
     },
     "execution_count": 75,
     "metadata": {},
     "output_type": "execute_result"
    }
   ],
   "source": [
    "df10.columns"
   ]
  },
  {
   "cell_type": "code",
   "execution_count": null,
   "id": "6ac6287f-6666-4acb-9496-f4dcc5b251a2",
   "metadata": {},
   "outputs": [
    {
     "name": "stdout",
     "output_type": "stream",
     "text": [
      "DONE\n"
     ]
    }
   ],
   "source": [
    "file_path_w = 'gs://roopya_analytics_workarea/Consolidated_Customer.csv'\n",
    "df10.to_csv(file_path_w)\n",
    "print(\"DONE\")"
   ]
  },
  {
   "cell_type": "code",
   "execution_count": null,
   "id": "838ced97-972e-433d-a195-c30bb32e955a",
   "metadata": {},
   "outputs": [],
   "source": []
  },
  {
   "cell_type": "code",
   "execution_count": null,
   "id": "eb0cd5e8",
   "metadata": {},
   "outputs": [],
   "source": [
    "from google.cloud import bigquery\n",
    "\n",
    "# Initialize the BigQuery client\n",
    "client = bigquery.Client()\n",
    "\n",
    "# Define the SQL query\n",
    "query = \"\"\"\n",
    "    SELECT *\n",
    "    FROM `geoalgo-208508.roopya_analytics_dw.CF_Mixed`\n",
    "\"\"\"\n",
    "# Run the query\n",
    "query_job = client.query(query)\n",
    "results = query_job.result()\n",
    "\n",
    "# Convert the query results into a DataFrame\n",
    "df = results.to_dataframe()"
   ]
  },
  {
   "cell_type": "code",
   "execution_count": null,
   "id": "ca9b0c80",
   "metadata": {},
   "outputs": [
    {
     "data": {
      "text/plain": [
       "Index(['CREDIT_REPORT_ID', 'INCOME_BAND', 'PRIMARY_NO_OF_ACCOUNTS',\n",
       "       'PRIMARY_ACTIVE_ACCOUNTS', 'PRIMARY_OVERDUE_ACCOUNTS',\n",
       "       'PRIMARY_CURRENT_BALANCE', 'PRIMARY_SANCTIONED_AMOUNT',\n",
       "       'PRIMARY_DISTRIBUTED_AMOUNT', 'PRIMARY_INSTALLMENT_AMOUNT',\n",
       "       'NEW_ACCOUNTS_IN_LAST_SIX_MONTHS', 'AVERAGE_ACCOUNT_AGE',\n",
       "       'NO_OF_INQUIRIES', 'SELF_INDICATOR', 'MATCH_TYPE', 'ACCOUNT_TYPE',\n",
       "       'CONTRIBUTOR_TYPE', 'OWNERSHIP_IND', 'DATE_REPORTED', 'ACCOUNT_STATUS',\n",
       "       'DISBURSED_DATE', 'CURRENT_BALANCE', 'OVERDUE_AMOUNT',\n",
       "       'DAYS_PAST_DUE_HISTORY_MONTH_1', 'DAYS_PAST_DUE_HISTORY_MONTH_2',\n",
       "       'DAYS_PAST_DUE_HISTORY_MONTH_3', 'DAYS_PAST_DUE_HISTORY_MONTH_4',\n",
       "       'DAYS_PAST_DUE_HISTORY_MONTH_5', 'DAYS_PAST_DUE_HISTORY_MONTH_6',\n",
       "       'DAYS_PAST_DUE_HISTORY_MONTH_7', 'DAYS_PAST_DUE_HISTORY_MONTH_8',\n",
       "       'DAYS_PAST_DUE_HISTORY_MONTH_9', 'DAYS_PAST_DUE_HISTORY_MONTH_10',\n",
       "       'DAYS_PAST_DUE_HISTORY_MONTH_11', 'DAYS_PAST_DUE_HISTORY_MONTH_12',\n",
       "       'DAYS_PAST_DUE_HISTORY_MONTH_13', 'DAYS_PAST_DUE_HISTORY_MONTH_14',\n",
       "       'DAYS_PAST_DUE_HISTORY_MONTH_15', 'DAYS_PAST_DUE_HISTORY_MONTH_16',\n",
       "       'DAYS_PAST_DUE_HISTORY_MONTH_17', 'DAYS_PAST_DUE_HISTORY_MONTH_18',\n",
       "       'DAYS_PAST_DUE_HISTORY_MONTH_19', 'DAYS_PAST_DUE_HISTORY_MONTH_20',\n",
       "       'DAYS_PAST_DUE_HISTORY_MONTH_21', 'DAYS_PAST_DUE_HISTORY_MONTH_22',\n",
       "       'DAYS_PAST_DUE_HISTORY_MONTH_23', 'DAYS_PAST_DUE_HISTORY_MONTH_24',\n",
       "       'DAYS_PAST_DUE_HISTORY_MONTH_25', 'DAYS_PAST_DUE_HISTORY_MONTH_26',\n",
       "       'DAYS_PAST_DUE_HISTORY_MONTH_27', 'DAYS_PAST_DUE_HISTORY_MONTH_28',\n",
       "       'DAYS_PAST_DUE_HISTORY_MONTH_29', 'DAYS_PAST_DUE_HISTORY_MONTH_30',\n",
       "       'DAYS_PAST_DUE_HISTORY_MONTH_31', 'DAYS_PAST_DUE_HISTORY_MONTH_32',\n",
       "       'DAYS_PAST_DUE_HISTORY_MONTH_33', 'DAYS_PAST_DUE_HISTORY_MONTH_34',\n",
       "       'DAYS_PAST_DUE_HISTORY_MONTH_35', 'DAYS_PAST_DUE_HISTORY_MONTH_36',\n",
       "       'AMOUNT_OVERDUE_HISTORY_MONTH_1', 'AMOUNT_OVERDUE_HISTORY_MONTH_2',\n",
       "       'AMOUNT_OVERDUE_HISTORY_MONTH_3', 'AMOUNT_OVERDUE_HISTORY_MONTH_4',\n",
       "       'AMOUNT_OVERDUE_HISTORY_MONTH_5', 'AMOUNT_OVERDUE_HISTORY_MONTH_6',\n",
       "       'AMOUNT_OVERDUE_HISTORY_MONTH_7', 'AMOUNT_OVERDUE_HISTORY_MONTH_8',\n",
       "       'AMOUNT_OVERDUE_HISTORY_MONTH_9', 'AMOUNT_OVERDUE_HISTORY_MONTH_10',\n",
       "       'AMOUNT_OVERDUE_HISTORY_MONTH_11', 'AMOUNT_OVERDUE_HISTORY_MONTH_12',\n",
       "       'AMOUNT_OVERDUE_HISTORY_MONTH_13', 'AMOUNT_OVERDUE_HISTORY_MONTH_14',\n",
       "       'AMOUNT_OVERDUE_HISTORY_MONTH_15', 'AMOUNT_OVERDUE_HISTORY_MONTH_16',\n",
       "       'AMOUNT_OVERDUE_HISTORY_MONTH_17', 'AMOUNT_OVERDUE_HISTORY_MONTH_18',\n",
       "       'AMOUNT_OVERDUE_HISTORY_MONTH_19', 'AMOUNT_OVERDUE_HISTORY_MONTH_20',\n",
       "       'AMOUNT_OVERDUE_HISTORY_MONTH_21', 'AMOUNT_OVERDUE_HISTORY_MONTH_22',\n",
       "       'AMOUNT_OVERDUE_HISTORY_MONTH_23', 'AMOUNT_OVERDUE_HISTORY_MONTH_24',\n",
       "       'AMOUNT_OVERDUE_HISTORY_MONTH_25', 'AMOUNT_OVERDUE_HISTORY_MONTH_26',\n",
       "       'AMOUNT_OVERDUE_HISTORY_MONTH_27', 'AMOUNT_OVERDUE_HISTORY_MONTH_28',\n",
       "       'AMOUNT_OVERDUE_HISTORY_MONTH_29', 'AMOUNT_OVERDUE_HISTORY_MONTH_30',\n",
       "       'AMOUNT_OVERDUE_HISTORY_MONTH_31', 'AMOUNT_OVERDUE_HISTORY_MONTH_32',\n",
       "       'AMOUNT_OVERDUE_HISTORY_MONTH_33', 'AMOUNT_OVERDUE_HISTORY_MONTH_34',\n",
       "       'AMOUNT_OVERDUE_HISTORY_MONTH_35', 'AMOUNT_OVERDUE_HISTORY_MONTH_36',\n",
       "       'INCOME', 'AMOUNT', 'AGE_COHORT', 'STATE'],\n",
       "      dtype='object')"
      ]
     },
     "execution_count": 2,
     "metadata": {},
     "output_type": "execute_result"
    }
   ],
   "source": [
    "df.columns"
   ]
  },
  {
   "cell_type": "code",
   "execution_count": null,
   "id": "89ccfa94",
   "metadata": {},
   "outputs": [],
   "source": [
    "# Replace XXX and DDD values from the dataframe\n",
    "def process_dpd_column(column):\n",
    "    processed_values = []\n",
    "    for value in column:\n",
    "        value = int(value) if value.isdigit() else 0\n",
    "        value = max(value - 30, 0)\n",
    "        processed_values.append(value)\n",
    "    return processed_values\n",
    "\n",
    "for col in df.columns:\n",
    "    if col.startswith('DAYS_PAST_DUE_HISTORY_MONTH_'):\n",
    "        df[col] = process_dpd_column(df[col])"
   ]
  },
  {
   "cell_type": "code",
   "execution_count": null,
   "id": "a04e2d2b",
   "metadata": {},
   "outputs": [],
   "source": [
    "dpd_col = [f'DAYS_PAST_DUE_HISTORY_MONTH_{i}' for i in range(1, 37)]\n",
    "dpd_df = df[dpd_col].copy()\n",
    "\n",
    "amt_col = [f'AMOUNT_OVERDUE_HISTORY_MONTH_{i}' for i in range(1, 37)]\n",
    "amt_df = df[amt_col].copy()\n",
    "\n",
    "import pandas as pd\n",
    "m_df = pd.concat([dpd_df, amt_df], axis = 1)"
   ]
  },
  {
   "cell_type": "code",
   "execution_count": null,
   "id": "7358dcf7",
   "metadata": {},
   "outputs": [],
   "source": [
    "dpd_df = None\n",
    "amt_df = None"
   ]
  },
  {
   "cell_type": "code",
   "execution_count": null,
   "id": "6d8dabfa",
   "metadata": {},
   "outputs": [],
   "source": [
    "# Initialize a column for customer categorization\n",
    "m_df['ROOPYA_ACCOUNT_STATUS'] = 'Uncategorised'\n",
    "\n",
    "# Condition 1: Last 36 months all DPD is 0\n",
    "condition_1 = m_df.iloc[:, 1:37].isin([0]).all(axis=1)  \n",
    "\n",
    "m_df.loc[condition_1, 'ROOPYA_ACCOUNT_STATUS'] = 'Good'\n",
    "\n",
    "# Condition 2: Last 6 months DPD 0 and rest DPD amount < 5000\n",
    "condition_2 = ((m_df.iloc[:, 1:7].isin([0]).all(axis=1)) &\n",
    "                (m_df.iloc[:, 43:73].applymap(lambda x: float(x) if str(x).isdigit() else 0).sum(axis=1) < 5000))\n",
    "\n",
    "m_df.loc[condition_2, 'ROOPYA_ACCOUNT_STATUS'] = 'Good'\n",
    "\n",
    "# Condition 3: Last 6 months any DPD is more than 0\n",
    "condition_3 = (~m_df.iloc[:, 1:7].isin([0]).all(axis=1))\n",
    "\n",
    "m_df.loc[condition_3, 'ROOPYA_ACCOUNT_STATUS'] = 'Bad'\n",
    "\n",
    "# Condition 4: Last 36 months any DPD > 5000\n",
    "condition_4 = (m_df.iloc[:, 37:73].applymap(lambda x: float(x) if str(x).isdigit() else 0) > 5000).any(axis=1)\n",
    "\n",
    "m_df.loc[condition_4, 'ROOPYA_ACCOUNT_STATUS'] = 'Bad'"
   ]
  },
  {
   "cell_type": "code",
   "execution_count": null,
   "id": "f5901d3d",
   "metadata": {},
   "outputs": [],
   "source": [
    "cs_col = ['ROOPYA_ACCOUNT_STATUS']\n",
    "cs_df = m_df[cs_col].copy()"
   ]
  },
  {
   "cell_type": "code",
   "execution_count": null,
   "id": "95521ffe",
   "metadata": {},
   "outputs": [],
   "source": [
    "m_df = None "
   ]
  },
  {
   "cell_type": "code",
   "execution_count": null,
   "id": "fa237a22",
   "metadata": {},
   "outputs": [],
   "source": [
    "final_df = pd.concat([df, cs_df], axis = 1)\n",
    "#df = None\n",
    "cs_df = None"
   ]
  },
  {
   "cell_type": "code",
   "execution_count": null,
   "id": "9305d114",
   "metadata": {},
   "outputs": [],
   "source": [
    "# List of columns to remove\n",
    "columns_to_remove = ['SELF_INDICATOR', 'MATCH_TYPE', 'DISBURSED_DATE', 'DATE_REPORTED', 'DAYS_PAST_DUE_HISTORY_MONTH_1', 'DAYS_PAST_DUE_HISTORY_MONTH_2','DAYS_PAST_DUE_HISTORY_MONTH_3', 'DAYS_PAST_DUE_HISTORY_MONTH_4','DAYS_PAST_DUE_HISTORY_MONTH_5', 'DAYS_PAST_DUE_HISTORY_MONTH_6','DAYS_PAST_DUE_HISTORY_MONTH_7', 'DAYS_PAST_DUE_HISTORY_MONTH_8','DAYS_PAST_DUE_HISTORY_MONTH_9', 'DAYS_PAST_DUE_HISTORY_MONTH_10','DAYS_PAST_DUE_HISTORY_MONTH_11', 'DAYS_PAST_DUE_HISTORY_MONTH_12','DAYS_PAST_DUE_HISTORY_MONTH_13', 'DAYS_PAST_DUE_HISTORY_MONTH_14','DAYS_PAST_DUE_HISTORY_MONTH_15', 'DAYS_PAST_DUE_HISTORY_MONTH_16','DAYS_PAST_DUE_HISTORY_MONTH_17', 'DAYS_PAST_DUE_HISTORY_MONTH_18','DAYS_PAST_DUE_HISTORY_MONTH_19', 'DAYS_PAST_DUE_HISTORY_MONTH_20', 'DAYS_PAST_DUE_HISTORY_MONTH_21', 'DAYS_PAST_DUE_HISTORY_MONTH_22','DAYS_PAST_DUE_HISTORY_MONTH_23', 'DAYS_PAST_DUE_HISTORY_MONTH_24', 'DAYS_PAST_DUE_HISTORY_MONTH_25', 'DAYS_PAST_DUE_HISTORY_MONTH_26','DAYS_PAST_DUE_HISTORY_MONTH_27', 'DAYS_PAST_DUE_HISTORY_MONTH_28','DAYS_PAST_DUE_HISTORY_MONTH_29', 'DAYS_PAST_DUE_HISTORY_MONTH_30','DAYS_PAST_DUE_HISTORY_MONTH_31', 'DAYS_PAST_DUE_HISTORY_MONTH_32','DAYS_PAST_DUE_HISTORY_MONTH_33', 'DAYS_PAST_DUE_HISTORY_MONTH_34','DAYS_PAST_DUE_HISTORY_MONTH_35', 'DAYS_PAST_DUE_HISTORY_MONTH_36','AMOUNT_OVERDUE_HISTORY_MONTH_1', 'AMOUNT_OVERDUE_HISTORY_MONTH_2','AMOUNT_OVERDUE_HISTORY_MONTH_3', 'AMOUNT_OVERDUE_HISTORY_MONTH_4','AMOUNT_OVERDUE_HISTORY_MONTH_5', 'AMOUNT_OVERDUE_HISTORY_MONTH_6','AMOUNT_OVERDUE_HISTORY_MONTH_7', 'AMOUNT_OVERDUE_HISTORY_MONTH_8','AMOUNT_OVERDUE_HISTORY_MONTH_9', 'AMOUNT_OVERDUE_HISTORY_MONTH_10','AMOUNT_OVERDUE_HISTORY_MONTH_11', 'AMOUNT_OVERDUE_HISTORY_MONTH_12','AMOUNT_OVERDUE_HISTORY_MONTH_13', 'AMOUNT_OVERDUE_HISTORY_MONTH_14','AMOUNT_OVERDUE_HISTORY_MONTH_15', 'AMOUNT_OVERDUE_HISTORY_MONTH_16','AMOUNT_OVERDUE_HISTORY_MONTH_17', 'AMOUNT_OVERDUE_HISTORY_MONTH_18','AMOUNT_OVERDUE_HISTORY_MONTH_19', 'AMOUNT_OVERDUE_HISTORY_MONTH_20','AMOUNT_OVERDUE_HISTORY_MONTH_21', 'AMOUNT_OVERDUE_HISTORY_MONTH_22','AMOUNT_OVERDUE_HISTORY_MONTH_23', 'AMOUNT_OVERDUE_HISTORY_MONTH_24','AMOUNT_OVERDUE_HISTORY_MONTH_25', 'AMOUNT_OVERDUE_HISTORY_MONTH_26','AMOUNT_OVERDUE_HISTORY_MONTH_27', 'AMOUNT_OVERDUE_HISTORY_MONTH_28','AMOUNT_OVERDUE_HISTORY_MONTH_29', 'AMOUNT_OVERDUE_HISTORY_MONTH_30','AMOUNT_OVERDUE_HISTORY_MONTH_31', 'AMOUNT_OVERDUE_HISTORY_MONTH_32','AMOUNT_OVERDUE_HISTORY_MONTH_33', 'AMOUNT_OVERDUE_HISTORY_MONTH_34','AMOUNT_OVERDUE_HISTORY_MONTH_35', 'AMOUNT_OVERDUE_HISTORY_MONTH_36', 'AMOUNT']\n",
    "\n",
    "# Remove the specified columns\n",
    "final_df_cleaned = final_df.drop(columns=columns_to_remove)"
   ]
  },
  {
   "cell_type": "code",
   "execution_count": null,
   "id": "64d630b2",
   "metadata": {},
   "outputs": [
    {
     "name": "stdout",
     "output_type": "stream",
     "text": [
      "DONE\n"
     ]
    }
   ],
   "source": [
    "file_path_w = 'gs://roopya_analytics_workarea/Consolidate_Customer_Preprocessing_1.csv'\n",
    "final_df_cleaned.to_csv(file_path_w)\n",
    "print(\"DONE\")"
   ]
  },
  {
   "cell_type": "code",
   "execution_count": null,
   "id": "34ec7e81",
   "metadata": {},
   "outputs": [
    {
     "ename": "NotFound",
     "evalue": "404 Not found: Table geoalgo-208508:roopya_analytics_dw.Consolidate_Customer_Preprocessing_1 was not found in location asia-south1\n\nLocation: asia-south1\nJob ID: 0b67415e-94f9-4d47-9f52-cea90a5e8dc4\n",
     "output_type": "error",
     "traceback": [
      "\u001b[0;31m---------------------------------------------------------------------------\u001b[0m",
      "\u001b[0;31mNotFound\u001b[0m                                  Traceback (most recent call last)",
      "\u001b[0;32m/tmp/ipykernel_1/1726847367.py\u001b[0m in \u001b[0;36m<module>\u001b[0;34m\u001b[0m\n\u001b[1;32m     11\u001b[0m \u001b[0;31m# Run the query\u001b[0m\u001b[0;34m\u001b[0m\u001b[0;34m\u001b[0m\u001b[0;34m\u001b[0m\u001b[0m\n\u001b[1;32m     12\u001b[0m \u001b[0mquery_job\u001b[0m \u001b[0;34m=\u001b[0m \u001b[0mclient\u001b[0m\u001b[0;34m.\u001b[0m\u001b[0mquery\u001b[0m\u001b[0;34m(\u001b[0m\u001b[0mquery\u001b[0m\u001b[0;34m)\u001b[0m\u001b[0;34m\u001b[0m\u001b[0;34m\u001b[0m\u001b[0m\n\u001b[0;32m---> 13\u001b[0;31m \u001b[0mresults\u001b[0m \u001b[0;34m=\u001b[0m \u001b[0mquery_job\u001b[0m\u001b[0;34m.\u001b[0m\u001b[0mresult\u001b[0m\u001b[0;34m(\u001b[0m\u001b[0;34m)\u001b[0m\u001b[0;34m\u001b[0m\u001b[0;34m\u001b[0m\u001b[0m\n\u001b[0m\u001b[1;32m     14\u001b[0m \u001b[0;34m\u001b[0m\u001b[0m\n\u001b[1;32m     15\u001b[0m \u001b[0;31m# Convert the query results into a DataFrame\u001b[0m\u001b[0;34m\u001b[0m\u001b[0;34m\u001b[0m\u001b[0;34m\u001b[0m\u001b[0m\n",
      "\u001b[0;32m/opt/conda/lib/python3.7/site-packages/google/cloud/bigquery/job/query.py\u001b[0m in \u001b[0;36mresult\u001b[0;34m(self, page_size, max_results, retry, timeout, start_index, job_retry)\u001b[0m\n\u001b[1;32m   1518\u001b[0m                 \u001b[0mdo_get_result\u001b[0m \u001b[0;34m=\u001b[0m \u001b[0mjob_retry\u001b[0m\u001b[0;34m(\u001b[0m\u001b[0mdo_get_result\u001b[0m\u001b[0;34m)\u001b[0m\u001b[0;34m\u001b[0m\u001b[0;34m\u001b[0m\u001b[0m\n\u001b[1;32m   1519\u001b[0m \u001b[0;34m\u001b[0m\u001b[0m\n\u001b[0;32m-> 1520\u001b[0;31m             \u001b[0mdo_get_result\u001b[0m\u001b[0;34m(\u001b[0m\u001b[0;34m)\u001b[0m\u001b[0;34m\u001b[0m\u001b[0;34m\u001b[0m\u001b[0m\n\u001b[0m\u001b[1;32m   1521\u001b[0m \u001b[0;34m\u001b[0m\u001b[0m\n\u001b[1;32m   1522\u001b[0m         \u001b[0;32mexcept\u001b[0m \u001b[0mexceptions\u001b[0m\u001b[0;34m.\u001b[0m\u001b[0mGoogleAPICallError\u001b[0m \u001b[0;32mas\u001b[0m \u001b[0mexc\u001b[0m\u001b[0;34m:\u001b[0m\u001b[0;34m\u001b[0m\u001b[0;34m\u001b[0m\u001b[0m\n",
      "\u001b[0;32m/opt/conda/lib/python3.7/site-packages/google/api_core/retry.py\u001b[0m in \u001b[0;36mretry_wrapped_func\u001b[0;34m(*args, **kwargs)\u001b[0m\n\u001b[1;32m    352\u001b[0m                 \u001b[0msleep_generator\u001b[0m\u001b[0;34m,\u001b[0m\u001b[0;34m\u001b[0m\u001b[0;34m\u001b[0m\u001b[0m\n\u001b[1;32m    353\u001b[0m                 \u001b[0mself\u001b[0m\u001b[0;34m.\u001b[0m\u001b[0m_timeout\u001b[0m\u001b[0;34m,\u001b[0m\u001b[0;34m\u001b[0m\u001b[0;34m\u001b[0m\u001b[0m\n\u001b[0;32m--> 354\u001b[0;31m                 \u001b[0mon_error\u001b[0m\u001b[0;34m=\u001b[0m\u001b[0mon_error\u001b[0m\u001b[0;34m,\u001b[0m\u001b[0;34m\u001b[0m\u001b[0;34m\u001b[0m\u001b[0m\n\u001b[0m\u001b[1;32m    355\u001b[0m             )\n\u001b[1;32m    356\u001b[0m \u001b[0;34m\u001b[0m\u001b[0m\n",
      "\u001b[0;32m/opt/conda/lib/python3.7/site-packages/google/api_core/retry.py\u001b[0m in \u001b[0;36mretry_target\u001b[0;34m(target, predicate, sleep_generator, timeout, on_error, **kwargs)\u001b[0m\n\u001b[1;32m    189\u001b[0m     \u001b[0;32mfor\u001b[0m \u001b[0msleep\u001b[0m \u001b[0;32min\u001b[0m \u001b[0msleep_generator\u001b[0m\u001b[0;34m:\u001b[0m\u001b[0;34m\u001b[0m\u001b[0;34m\u001b[0m\u001b[0m\n\u001b[1;32m    190\u001b[0m         \u001b[0;32mtry\u001b[0m\u001b[0;34m:\u001b[0m\u001b[0;34m\u001b[0m\u001b[0;34m\u001b[0m\u001b[0m\n\u001b[0;32m--> 191\u001b[0;31m             \u001b[0;32mreturn\u001b[0m \u001b[0mtarget\u001b[0m\u001b[0;34m(\u001b[0m\u001b[0;34m)\u001b[0m\u001b[0;34m\u001b[0m\u001b[0;34m\u001b[0m\u001b[0m\n\u001b[0m\u001b[1;32m    192\u001b[0m \u001b[0;34m\u001b[0m\u001b[0m\n\u001b[1;32m    193\u001b[0m         \u001b[0;31m# pylint: disable=broad-except\u001b[0m\u001b[0;34m\u001b[0m\u001b[0;34m\u001b[0m\u001b[0;34m\u001b[0m\u001b[0m\n",
      "\u001b[0;32m/opt/conda/lib/python3.7/site-packages/google/cloud/bigquery/job/query.py\u001b[0m in \u001b[0;36mdo_get_result\u001b[0;34m()\u001b[0m\n\u001b[1;32m   1508\u001b[0m                     \u001b[0mself\u001b[0m\u001b[0;34m.\u001b[0m\u001b[0m_job_retry\u001b[0m \u001b[0;34m=\u001b[0m \u001b[0mjob_retry\u001b[0m\u001b[0;34m\u001b[0m\u001b[0;34m\u001b[0m\u001b[0m\n\u001b[1;32m   1509\u001b[0m \u001b[0;34m\u001b[0m\u001b[0m\n\u001b[0;32m-> 1510\u001b[0;31m                 \u001b[0msuper\u001b[0m\u001b[0;34m(\u001b[0m\u001b[0mQueryJob\u001b[0m\u001b[0;34m,\u001b[0m \u001b[0mself\u001b[0m\u001b[0;34m)\u001b[0m\u001b[0;34m.\u001b[0m\u001b[0mresult\u001b[0m\u001b[0;34m(\u001b[0m\u001b[0mretry\u001b[0m\u001b[0;34m=\u001b[0m\u001b[0mretry\u001b[0m\u001b[0;34m,\u001b[0m \u001b[0mtimeout\u001b[0m\u001b[0;34m=\u001b[0m\u001b[0mtimeout\u001b[0m\u001b[0;34m)\u001b[0m\u001b[0;34m\u001b[0m\u001b[0;34m\u001b[0m\u001b[0m\n\u001b[0m\u001b[1;32m   1511\u001b[0m \u001b[0;34m\u001b[0m\u001b[0m\n\u001b[1;32m   1512\u001b[0m                 \u001b[0;31m# Since the job could already be \"done\" (e.g. got a finished job\u001b[0m\u001b[0;34m\u001b[0m\u001b[0;34m\u001b[0m\u001b[0;34m\u001b[0m\u001b[0m\n",
      "\u001b[0;32m/opt/conda/lib/python3.7/site-packages/google/cloud/bigquery/job/base.py\u001b[0m in \u001b[0;36mresult\u001b[0;34m(self, retry, timeout)\u001b[0m\n\u001b[1;32m    909\u001b[0m \u001b[0;34m\u001b[0m\u001b[0m\n\u001b[1;32m    910\u001b[0m         \u001b[0mkwargs\u001b[0m \u001b[0;34m=\u001b[0m \u001b[0;34m{\u001b[0m\u001b[0;34m}\u001b[0m \u001b[0;32mif\u001b[0m \u001b[0mretry\u001b[0m \u001b[0;32mis\u001b[0m \u001b[0mDEFAULT_RETRY\u001b[0m \u001b[0;32melse\u001b[0m \u001b[0;34m{\u001b[0m\u001b[0;34m\"retry\"\u001b[0m\u001b[0;34m:\u001b[0m \u001b[0mretry\u001b[0m\u001b[0;34m}\u001b[0m\u001b[0;34m\u001b[0m\u001b[0;34m\u001b[0m\u001b[0m\n\u001b[0;32m--> 911\u001b[0;31m         \u001b[0;32mreturn\u001b[0m \u001b[0msuper\u001b[0m\u001b[0;34m(\u001b[0m\u001b[0m_AsyncJob\u001b[0m\u001b[0;34m,\u001b[0m \u001b[0mself\u001b[0m\u001b[0;34m)\u001b[0m\u001b[0;34m.\u001b[0m\u001b[0mresult\u001b[0m\u001b[0;34m(\u001b[0m\u001b[0mtimeout\u001b[0m\u001b[0;34m=\u001b[0m\u001b[0mtimeout\u001b[0m\u001b[0;34m,\u001b[0m \u001b[0;34m**\u001b[0m\u001b[0mkwargs\u001b[0m\u001b[0;34m)\u001b[0m\u001b[0;34m\u001b[0m\u001b[0;34m\u001b[0m\u001b[0m\n\u001b[0m\u001b[1;32m    912\u001b[0m \u001b[0;34m\u001b[0m\u001b[0m\n\u001b[1;32m    913\u001b[0m     \u001b[0;32mdef\u001b[0m \u001b[0mcancelled\u001b[0m\u001b[0;34m(\u001b[0m\u001b[0mself\u001b[0m\u001b[0;34m)\u001b[0m\u001b[0;34m:\u001b[0m\u001b[0;34m\u001b[0m\u001b[0;34m\u001b[0m\u001b[0m\n",
      "\u001b[0;32m/opt/conda/lib/python3.7/site-packages/google/api_core/future/polling.py\u001b[0m in \u001b[0;36mresult\u001b[0;34m(self, timeout, retry, polling)\u001b[0m\n\u001b[1;32m    259\u001b[0m             \u001b[0;31m# pylint: disable=raising-bad-type\u001b[0m\u001b[0;34m\u001b[0m\u001b[0;34m\u001b[0m\u001b[0;34m\u001b[0m\u001b[0m\n\u001b[1;32m    260\u001b[0m             \u001b[0;31m# Pylint doesn't recognize that this is valid in this case.\u001b[0m\u001b[0;34m\u001b[0m\u001b[0;34m\u001b[0m\u001b[0;34m\u001b[0m\u001b[0m\n\u001b[0;32m--> 261\u001b[0;31m             \u001b[0;32mraise\u001b[0m \u001b[0mself\u001b[0m\u001b[0;34m.\u001b[0m\u001b[0m_exception\u001b[0m\u001b[0;34m\u001b[0m\u001b[0;34m\u001b[0m\u001b[0m\n\u001b[0m\u001b[1;32m    262\u001b[0m \u001b[0;34m\u001b[0m\u001b[0m\n\u001b[1;32m    263\u001b[0m         \u001b[0;32mreturn\u001b[0m \u001b[0mself\u001b[0m\u001b[0;34m.\u001b[0m\u001b[0m_result\u001b[0m\u001b[0;34m\u001b[0m\u001b[0;34m\u001b[0m\u001b[0m\n",
      "\u001b[0;31mNotFound\u001b[0m: 404 Not found: Table geoalgo-208508:roopya_analytics_dw.Consolidate_Customer_Preprocessing_1 was not found in location asia-south1\n\nLocation: asia-south1\nJob ID: 0b67415e-94f9-4d47-9f52-cea90a5e8dc4\n"
     ]
    }
   ],
   "source": [
    "from google.cloud import bigquery\n",
    "\n",
    "# Initialize the BigQuery client\n",
    "client = bigquery.Client()\n",
    "\n",
    "# Define the SQL query\n",
    "query = \"\"\"\n",
    "    SELECT *\n",
    "    FROM `geoalgo-208508.roopya_analytics_dw.Consolidate_Customer_Preprocessing_1`\n",
    "\"\"\"\n",
    "# Run the query\n",
    "query_job = client.query(query)\n",
    "results = query_job.result()\n",
    "\n",
    "# Convert the query results into a DataFrame\n",
    "final_df = results.to_dataframe()"
   ]
  },
  {
   "cell_type": "code",
   "execution_count": null,
   "id": "93b85e23",
   "metadata": {},
   "outputs": [],
   "source": [
    "final_df = final_df_cleaned"
   ]
  },
  {
   "cell_type": "code",
   "execution_count": null,
   "id": "6ba39822",
   "metadata": {},
   "outputs": [
    {
     "data": {
      "text/plain": [
       "(10547762, 22)"
      ]
     },
     "execution_count": 28,
     "metadata": {},
     "output_type": "execute_result"
    }
   ],
   "source": [
    "final_df.shape"
   ]
  },
  {
   "cell_type": "code",
   "execution_count": null,
   "id": "83679a23",
   "metadata": {},
   "outputs": [
    {
     "data": {
      "text/plain": [
       "3920"
      ]
     },
     "execution_count": 29,
     "metadata": {},
     "output_type": "execute_result"
    }
   ],
   "source": [
    "final_df[\"CURRENT_BALANCE\"].isnull().sum()"
   ]
  },
  {
   "cell_type": "code",
   "execution_count": null,
   "id": "837cd36b",
   "metadata": {},
   "outputs": [],
   "source": [
    "# List of columns to replace\n",
    "columns_to_process = ['CURRENT_BALANCE', 'INCOME', 'OVERDUE_AMOUNT']\n",
    "\n",
    "# Replace null by 0 \n",
    "final_df[columns_to_process] = final_df[columns_to_process].fillna(0)"
   ]
  },
  {
   "cell_type": "code",
   "execution_count": null,
   "id": "b43bb58c",
   "metadata": {},
   "outputs": [],
   "source": [
    "final_df1 = final_df[(final_df['CURRENT_BALANCE'] >= 0) & (final_df['CURRENT_BALANCE'] <= 10000000) & (final_df['PRIMARY_NO_OF_ACCOUNTS'] <= 100)]"
   ]
  },
  {
   "cell_type": "code",
   "execution_count": null,
   "id": "4732596c",
   "metadata": {},
   "outputs": [
    {
     "data": {
      "text/plain": [
       "(10084589, 22)"
      ]
     },
     "execution_count": 32,
     "metadata": {},
     "output_type": "execute_result"
    }
   ],
   "source": [
    "final_df1.shape"
   ]
  },
  {
   "cell_type": "code",
   "execution_count": null,
   "id": "61fb3445",
   "metadata": {},
   "outputs": [],
   "source": [
    "df = final_df1"
   ]
  },
  {
   "cell_type": "code",
   "execution_count": null,
   "id": "0fa34ca1",
   "metadata": {},
   "outputs": [],
   "source": [
    "#df.shape"
   ]
  },
  {
   "cell_type": "code",
   "execution_count": null,
   "id": "badda289",
   "metadata": {},
   "outputs": [],
   "source": [
    "#df = df.drop('int64_field_0', axis = 1)"
   ]
  },
  {
   "cell_type": "code",
   "execution_count": null,
   "id": "56e1ef48",
   "metadata": {},
   "outputs": [
    {
     "data": {
      "text/html": [
       "<div>\n",
       "<style scoped>\n",
       "    .dataframe tbody tr th:only-of-type {\n",
       "        vertical-align: middle;\n",
       "    }\n",
       "\n",
       "    .dataframe tbody tr th {\n",
       "        vertical-align: top;\n",
       "    }\n",
       "\n",
       "    .dataframe thead th {\n",
       "        text-align: right;\n",
       "    }\n",
       "</style>\n",
       "<table border=\"1\" class=\"dataframe\">\n",
       "  <thead>\n",
       "    <tr style=\"text-align: right;\">\n",
       "      <th></th>\n",
       "      <th>PRIMARY_NO_OF_ACCOUNTS</th>\n",
       "      <th>PRIMARY_ACTIVE_ACCOUNTS</th>\n",
       "      <th>PRIMARY_OVERDUE_ACCOUNTS</th>\n",
       "      <th>PRIMARY_CURRENT_BALANCE</th>\n",
       "      <th>PRIMARY_SANCTIONED_AMOUNT</th>\n",
       "      <th>PRIMARY_DISTRIBUTED_AMOUNT</th>\n",
       "      <th>PRIMARY_INSTALLMENT_AMOUNT</th>\n",
       "      <th>NEW_ACCOUNTS_IN_LAST_SIX_MONTHS</th>\n",
       "      <th>NO_OF_INQUIRIES</th>\n",
       "      <th>CURRENT_BALANCE</th>\n",
       "      <th>OVERDUE_AMOUNT</th>\n",
       "      <th>INCOME</th>\n",
       "      <th>AGE_COHORT</th>\n",
       "    </tr>\n",
       "  </thead>\n",
       "  <tbody>\n",
       "    <tr>\n",
       "      <th>count</th>\n",
       "      <td>10084589.00</td>\n",
       "      <td>10084589.00</td>\n",
       "      <td>10084589.00</td>\n",
       "      <td>10084589.00</td>\n",
       "      <td>10084589.00</td>\n",
       "      <td>10084589.00</td>\n",
       "      <td>10084589.00</td>\n",
       "      <td>10084589.00</td>\n",
       "      <td>10084589.00</td>\n",
       "      <td>10084589.00</td>\n",
       "      <td>10084589.00</td>\n",
       "      <td>10084589.00</td>\n",
       "      <td>10070564.00</td>\n",
       "    </tr>\n",
       "    <tr>\n",
       "      <th>mean</th>\n",
       "      <td>30.74</td>\n",
       "      <td>10.50</td>\n",
       "      <td>1.29</td>\n",
       "      <td>7568685.29</td>\n",
       "      <td>12145706.19</td>\n",
       "      <td>11962516.51</td>\n",
       "      <td>350836.25</td>\n",
       "      <td>3.51</td>\n",
       "      <td>1.63</td>\n",
       "      <td>166859.46</td>\n",
       "      <td>27.34</td>\n",
       "      <td>2302322.25</td>\n",
       "      <td>40.93</td>\n",
       "    </tr>\n",
       "    <tr>\n",
       "      <th>std</th>\n",
       "      <td>23.17</td>\n",
       "      <td>7.82</td>\n",
       "      <td>2.95</td>\n",
       "      <td>67439175.03</td>\n",
       "      <td>752916951.07</td>\n",
       "      <td>752923922.75</td>\n",
       "      <td>12790069.91</td>\n",
       "      <td>6.47</td>\n",
       "      <td>3.02</td>\n",
       "      <td>702598.18</td>\n",
       "      <td>4575.00</td>\n",
       "      <td>35793314.84</td>\n",
       "      <td>6.79</td>\n",
       "    </tr>\n",
       "    <tr>\n",
       "      <th>min</th>\n",
       "      <td>1.00</td>\n",
       "      <td>0.00</td>\n",
       "      <td>0.00</td>\n",
       "      <td>-559899904.00</td>\n",
       "      <td>0.00</td>\n",
       "      <td>0.00</td>\n",
       "      <td>-331462.00</td>\n",
       "      <td>0.00</td>\n",
       "      <td>0.00</td>\n",
       "      <td>0.00</td>\n",
       "      <td>-48300.00</td>\n",
       "      <td>0.00</td>\n",
       "      <td>20.00</td>\n",
       "    </tr>\n",
       "    <tr>\n",
       "      <th>25%</th>\n",
       "      <td>13.00</td>\n",
       "      <td>5.00</td>\n",
       "      <td>0.00</td>\n",
       "      <td>302351.00</td>\n",
       "      <td>763773.00</td>\n",
       "      <td>643390.00</td>\n",
       "      <td>13476.00</td>\n",
       "      <td>0.00</td>\n",
       "      <td>0.00</td>\n",
       "      <td>0.00</td>\n",
       "      <td>0.00</td>\n",
       "      <td>0.00</td>\n",
       "      <td>35.00</td>\n",
       "    </tr>\n",
       "    <tr>\n",
       "      <th>50%</th>\n",
       "      <td>24.00</td>\n",
       "      <td>9.00</td>\n",
       "      <td>0.00</td>\n",
       "      <td>1486607.00</td>\n",
       "      <td>2554540.00</td>\n",
       "      <td>2367025.00</td>\n",
       "      <td>44047.00</td>\n",
       "      <td>1.00</td>\n",
       "      <td>0.00</td>\n",
       "      <td>0.00</td>\n",
       "      <td>0.00</td>\n",
       "      <td>0.00</td>\n",
       "      <td>40.00</td>\n",
       "    </tr>\n",
       "    <tr>\n",
       "      <th>75%</th>\n",
       "      <td>43.00</td>\n",
       "      <td>14.00</td>\n",
       "      <td>1.00</td>\n",
       "      <td>4300743.00</td>\n",
       "      <td>6381482.00</td>\n",
       "      <td>6061585.00</td>\n",
       "      <td>128464.00</td>\n",
       "      <td>4.00</td>\n",
       "      <td>2.00</td>\n",
       "      <td>21850.00</td>\n",
       "      <td>0.00</td>\n",
       "      <td>0.00</td>\n",
       "      <td>45.00</td>\n",
       "    </tr>\n",
       "    <tr>\n",
       "      <th>max</th>\n",
       "      <td>99.00</td>\n",
       "      <td>82.00</td>\n",
       "      <td>78.00</td>\n",
       "      <td>26802096128.00</td>\n",
       "      <td>748806995968.00</td>\n",
       "      <td>748806995968.00</td>\n",
       "      <td>10844999649.00</td>\n",
       "      <td>65.00</td>\n",
       "      <td>42.00</td>\n",
       "      <td>10000000.00</td>\n",
       "      <td>5533702.00</td>\n",
       "      <td>999999000.00</td>\n",
       "      <td>60.00</td>\n",
       "    </tr>\n",
       "  </tbody>\n",
       "</table>\n",
       "</div>"
      ],
      "text/plain": [
       "       PRIMARY_NO_OF_ACCOUNTS  PRIMARY_ACTIVE_ACCOUNTS  \\\n",
       "count             10084589.00              10084589.00   \n",
       "mean                    30.74                    10.50   \n",
       "std                     23.17                     7.82   \n",
       "min                      1.00                     0.00   \n",
       "25%                     13.00                     5.00   \n",
       "50%                     24.00                     9.00   \n",
       "75%                     43.00                    14.00   \n",
       "max                     99.00                    82.00   \n",
       "\n",
       "       PRIMARY_OVERDUE_ACCOUNTS  PRIMARY_CURRENT_BALANCE  \\\n",
       "count               10084589.00              10084589.00   \n",
       "mean                       1.29               7568685.29   \n",
       "std                        2.95              67439175.03   \n",
       "min                        0.00            -559899904.00   \n",
       "25%                        0.00                302351.00   \n",
       "50%                        0.00               1486607.00   \n",
       "75%                        1.00               4300743.00   \n",
       "max                       78.00           26802096128.00   \n",
       "\n",
       "       PRIMARY_SANCTIONED_AMOUNT  PRIMARY_DISTRIBUTED_AMOUNT  \\\n",
       "count                10084589.00                 10084589.00   \n",
       "mean                 12145706.19                 11962516.51   \n",
       "std                 752916951.07                752923922.75   \n",
       "min                         0.00                        0.00   \n",
       "25%                    763773.00                   643390.00   \n",
       "50%                   2554540.00                  2367025.00   \n",
       "75%                   6381482.00                  6061585.00   \n",
       "max              748806995968.00             748806995968.00   \n",
       "\n",
       "       PRIMARY_INSTALLMENT_AMOUNT  NEW_ACCOUNTS_IN_LAST_SIX_MONTHS  \\\n",
       "count                 10084589.00                      10084589.00   \n",
       "mean                    350836.25                             3.51   \n",
       "std                   12790069.91                             6.47   \n",
       "min                    -331462.00                             0.00   \n",
       "25%                      13476.00                             0.00   \n",
       "50%                      44047.00                             1.00   \n",
       "75%                     128464.00                             4.00   \n",
       "max                10844999649.00                            65.00   \n",
       "\n",
       "       NO_OF_INQUIRIES  CURRENT_BALANCE  OVERDUE_AMOUNT       INCOME  \\\n",
       "count      10084589.00      10084589.00     10084589.00  10084589.00   \n",
       "mean              1.63        166859.46           27.34   2302322.25   \n",
       "std               3.02        702598.18         4575.00  35793314.84   \n",
       "min               0.00             0.00       -48300.00         0.00   \n",
       "25%               0.00             0.00            0.00         0.00   \n",
       "50%               0.00             0.00            0.00         0.00   \n",
       "75%               2.00         21850.00            0.00         0.00   \n",
       "max              42.00      10000000.00      5533702.00 999999000.00   \n",
       "\n",
       "       AGE_COHORT  \n",
       "count 10070564.00  \n",
       "mean        40.93  \n",
       "std          6.79  \n",
       "min         20.00  \n",
       "25%         35.00  \n",
       "50%         40.00  \n",
       "75%         45.00  \n",
       "max         60.00  "
      ]
     },
     "execution_count": 36,
     "metadata": {},
     "output_type": "execute_result"
    }
   ],
   "source": [
    "import pandas as pd\n",
    "pd.set_option('display.float_format', '{:.2f}'.format)\n",
    "df.describe()"
   ]
  },
  {
   "cell_type": "code",
   "execution_count": null,
   "id": "697f6652",
   "metadata": {},
   "outputs": [],
   "source": [
    "df1 = df[(df['PRIMARY_CURRENT_BALANCE'] >= 0) & (df['PRIMARY_CURRENT_BALANCE'] <= 10000000) & (df['PRIMARY_SANCTIONED_AMOUNT'] >= 0) & (df['PRIMARY_SANCTIONED_AMOUNT'] <= 10000000) & (df['PRIMARY_DISTRIBUTED_AMOUNT'] >= 0) & (df['PRIMARY_DISTRIBUTED_AMOUNT'] <= 10000000) & (df['PRIMARY_INSTALLMENT_AMOUNT'] >= 0) & (df['PRIMARY_INSTALLMENT_AMOUNT'] <= 10000000) & (df['INCOME'] >= 0) & (df['INCOME'] <= 10000000)]"
   ]
  },
  {
   "cell_type": "code",
   "execution_count": null,
   "id": "f7e089c2",
   "metadata": {},
   "outputs": [
    {
     "data": {
      "text/html": [
       "<div>\n",
       "<style scoped>\n",
       "    .dataframe tbody tr th:only-of-type {\n",
       "        vertical-align: middle;\n",
       "    }\n",
       "\n",
       "    .dataframe tbody tr th {\n",
       "        vertical-align: top;\n",
       "    }\n",
       "\n",
       "    .dataframe thead th {\n",
       "        text-align: right;\n",
       "    }\n",
       "</style>\n",
       "<table border=\"1\" class=\"dataframe\">\n",
       "  <thead>\n",
       "    <tr style=\"text-align: right;\">\n",
       "      <th></th>\n",
       "      <th>PRIMARY_NO_OF_ACCOUNTS</th>\n",
       "      <th>PRIMARY_ACTIVE_ACCOUNTS</th>\n",
       "      <th>PRIMARY_OVERDUE_ACCOUNTS</th>\n",
       "      <th>PRIMARY_CURRENT_BALANCE</th>\n",
       "      <th>PRIMARY_SANCTIONED_AMOUNT</th>\n",
       "      <th>PRIMARY_DISTRIBUTED_AMOUNT</th>\n",
       "      <th>PRIMARY_INSTALLMENT_AMOUNT</th>\n",
       "      <th>NEW_ACCOUNTS_IN_LAST_SIX_MONTHS</th>\n",
       "      <th>NO_OF_INQUIRIES</th>\n",
       "      <th>CURRENT_BALANCE</th>\n",
       "      <th>OVERDUE_AMOUNT</th>\n",
       "      <th>INCOME</th>\n",
       "      <th>AGE_COHORT</th>\n",
       "    </tr>\n",
       "  </thead>\n",
       "  <tbody>\n",
       "    <tr>\n",
       "      <th>count</th>\n",
       "      <td>8412439.00</td>\n",
       "      <td>8412439.00</td>\n",
       "      <td>8412439.00</td>\n",
       "      <td>8412439.00</td>\n",
       "      <td>8412439.00</td>\n",
       "      <td>8412439.00</td>\n",
       "      <td>8412439.00</td>\n",
       "      <td>8412439.00</td>\n",
       "      <td>8412439.00</td>\n",
       "      <td>8412439.00</td>\n",
       "      <td>8412439.00</td>\n",
       "      <td>8412439.00</td>\n",
       "      <td>8405166.00</td>\n",
       "    </tr>\n",
       "    <tr>\n",
       "      <th>mean</th>\n",
       "      <td>29.71</td>\n",
       "      <td>9.64</td>\n",
       "      <td>1.36</td>\n",
       "      <td>1784076.41</td>\n",
       "      <td>2698971.87</td>\n",
       "      <td>2533410.88</td>\n",
       "      <td>132717.52</td>\n",
       "      <td>3.72</td>\n",
       "      <td>1.63</td>\n",
       "      <td>92397.99</td>\n",
       "      <td>19.50</td>\n",
       "      <td>13720.80</td>\n",
       "      <td>40.46</td>\n",
       "    </tr>\n",
       "    <tr>\n",
       "      <th>std</th>\n",
       "      <td>23.31</td>\n",
       "      <td>7.13</td>\n",
       "      <td>3.07</td>\n",
       "      <td>1967066.32</td>\n",
       "      <td>2540101.81</td>\n",
       "      <td>2459734.52</td>\n",
       "      <td>422719.13</td>\n",
       "      <td>6.89</td>\n",
       "      <td>3.10</td>\n",
       "      <td>412419.70</td>\n",
       "      <td>3635.11</td>\n",
       "      <td>153390.89</td>\n",
       "      <td>6.68</td>\n",
       "    </tr>\n",
       "    <tr>\n",
       "      <th>min</th>\n",
       "      <td>1.00</td>\n",
       "      <td>0.00</td>\n",
       "      <td>0.00</td>\n",
       "      <td>0.00</td>\n",
       "      <td>0.00</td>\n",
       "      <td>0.00</td>\n",
       "      <td>0.00</td>\n",
       "      <td>0.00</td>\n",
       "      <td>0.00</td>\n",
       "      <td>0.00</td>\n",
       "      <td>-11070.00</td>\n",
       "      <td>0.00</td>\n",
       "      <td>20.00</td>\n",
       "    </tr>\n",
       "    <tr>\n",
       "      <th>25%</th>\n",
       "      <td>12.00</td>\n",
       "      <td>4.00</td>\n",
       "      <td>0.00</td>\n",
       "      <td>217136.00</td>\n",
       "      <td>597936.00</td>\n",
       "      <td>502184.00</td>\n",
       "      <td>11018.00</td>\n",
       "      <td>0.00</td>\n",
       "      <td>0.00</td>\n",
       "      <td>0.00</td>\n",
       "      <td>0.00</td>\n",
       "      <td>0.00</td>\n",
       "      <td>35.00</td>\n",
       "    </tr>\n",
       "    <tr>\n",
       "      <th>50%</th>\n",
       "      <td>22.00</td>\n",
       "      <td>8.00</td>\n",
       "      <td>0.00</td>\n",
       "      <td>1044624.00</td>\n",
       "      <td>1876221.00</td>\n",
       "      <td>1706338.00</td>\n",
       "      <td>34884.00</td>\n",
       "      <td>1.00</td>\n",
       "      <td>0.00</td>\n",
       "      <td>0.00</td>\n",
       "      <td>0.00</td>\n",
       "      <td>0.00</td>\n",
       "      <td>40.00</td>\n",
       "    </tr>\n",
       "    <tr>\n",
       "      <th>75%</th>\n",
       "      <td>41.00</td>\n",
       "      <td>13.00</td>\n",
       "      <td>1.00</td>\n",
       "      <td>2753324.00</td>\n",
       "      <td>4186708.00</td>\n",
       "      <td>3957500.00</td>\n",
       "      <td>88216.00</td>\n",
       "      <td>4.00</td>\n",
       "      <td>2.00</td>\n",
       "      <td>14107.00</td>\n",
       "      <td>0.00</td>\n",
       "      <td>0.00</td>\n",
       "      <td>45.00</td>\n",
       "    </tr>\n",
       "    <tr>\n",
       "      <th>max</th>\n",
       "      <td>99.00</td>\n",
       "      <td>56.00</td>\n",
       "      <td>78.00</td>\n",
       "      <td>10000000.00</td>\n",
       "      <td>10000000.00</td>\n",
       "      <td>10000000.00</td>\n",
       "      <td>9992561.00</td>\n",
       "      <td>65.00</td>\n",
       "      <td>42.00</td>\n",
       "      <td>10000000.00</td>\n",
       "      <td>2740526.00</td>\n",
       "      <td>10000000.00</td>\n",
       "      <td>60.00</td>\n",
       "    </tr>\n",
       "  </tbody>\n",
       "</table>\n",
       "</div>"
      ],
      "text/plain": [
       "       PRIMARY_NO_OF_ACCOUNTS  PRIMARY_ACTIVE_ACCOUNTS  \\\n",
       "count              8412439.00               8412439.00   \n",
       "mean                    29.71                     9.64   \n",
       "std                     23.31                     7.13   \n",
       "min                      1.00                     0.00   \n",
       "25%                     12.00                     4.00   \n",
       "50%                     22.00                     8.00   \n",
       "75%                     41.00                    13.00   \n",
       "max                     99.00                    56.00   \n",
       "\n",
       "       PRIMARY_OVERDUE_ACCOUNTS  PRIMARY_CURRENT_BALANCE  \\\n",
       "count                8412439.00               8412439.00   \n",
       "mean                       1.36               1784076.41   \n",
       "std                        3.07               1967066.32   \n",
       "min                        0.00                     0.00   \n",
       "25%                        0.00                217136.00   \n",
       "50%                        0.00               1044624.00   \n",
       "75%                        1.00               2753324.00   \n",
       "max                       78.00              10000000.00   \n",
       "\n",
       "       PRIMARY_SANCTIONED_AMOUNT  PRIMARY_DISTRIBUTED_AMOUNT  \\\n",
       "count                 8412439.00                  8412439.00   \n",
       "mean                  2698971.87                  2533410.88   \n",
       "std                   2540101.81                  2459734.52   \n",
       "min                         0.00                        0.00   \n",
       "25%                    597936.00                   502184.00   \n",
       "50%                   1876221.00                  1706338.00   \n",
       "75%                   4186708.00                  3957500.00   \n",
       "max                  10000000.00                 10000000.00   \n",
       "\n",
       "       PRIMARY_INSTALLMENT_AMOUNT  NEW_ACCOUNTS_IN_LAST_SIX_MONTHS  \\\n",
       "count                  8412439.00                       8412439.00   \n",
       "mean                    132717.52                             3.72   \n",
       "std                     422719.13                             6.89   \n",
       "min                          0.00                             0.00   \n",
       "25%                      11018.00                             0.00   \n",
       "50%                      34884.00                             1.00   \n",
       "75%                      88216.00                             4.00   \n",
       "max                    9992561.00                            65.00   \n",
       "\n",
       "       NO_OF_INQUIRIES  CURRENT_BALANCE  OVERDUE_AMOUNT      INCOME  \\\n",
       "count       8412439.00       8412439.00      8412439.00  8412439.00   \n",
       "mean              1.63         92397.99           19.50    13720.80   \n",
       "std               3.10        412419.70         3635.11   153390.89   \n",
       "min               0.00             0.00       -11070.00        0.00   \n",
       "25%               0.00             0.00            0.00        0.00   \n",
       "50%               0.00             0.00            0.00        0.00   \n",
       "75%               2.00         14107.00            0.00        0.00   \n",
       "max              42.00      10000000.00      2740526.00 10000000.00   \n",
       "\n",
       "       AGE_COHORT  \n",
       "count  8405166.00  \n",
       "mean        40.46  \n",
       "std          6.68  \n",
       "min         20.00  \n",
       "25%         35.00  \n",
       "50%         40.00  \n",
       "75%         45.00  \n",
       "max         60.00  "
      ]
     },
     "execution_count": 38,
     "metadata": {},
     "output_type": "execute_result"
    }
   ],
   "source": [
    "pd.set_option('display.float_format', '{:.2f}'.format)\n",
    "df1.describe()"
   ]
  },
  {
   "cell_type": "code",
   "execution_count": null,
   "id": "75282c80",
   "metadata": {},
   "outputs": [
    {
     "data": {
      "text/plain": [
       "Index(['CREDIT_REPORT_ID', 'INCOME_BAND', 'PRIMARY_NO_OF_ACCOUNTS',\n",
       "       'PRIMARY_ACTIVE_ACCOUNTS', 'PRIMARY_OVERDUE_ACCOUNTS',\n",
       "       'PRIMARY_CURRENT_BALANCE', 'PRIMARY_SANCTIONED_AMOUNT',\n",
       "       'PRIMARY_DISTRIBUTED_AMOUNT', 'PRIMARY_INSTALLMENT_AMOUNT',\n",
       "       'NEW_ACCOUNTS_IN_LAST_SIX_MONTHS', 'AVERAGE_ACCOUNT_AGE',\n",
       "       'NO_OF_INQUIRIES', 'ACCOUNT_TYPE', 'CONTRIBUTOR_TYPE', 'OWNERSHIP_IND',\n",
       "       'ACCOUNT_STATUS', 'CURRENT_BALANCE', 'OVERDUE_AMOUNT', 'INCOME',\n",
       "       'AGE_COHORT', 'STATE', 'ROOPYA_ACCOUNT_STATUS'],\n",
       "      dtype='object')"
      ]
     },
     "execution_count": 39,
     "metadata": {},
     "output_type": "execute_result"
    }
   ],
   "source": [
    "df1.columns"
   ]
  },
  {
   "cell_type": "code",
   "execution_count": null,
   "id": "104c2cd1",
   "metadata": {},
   "outputs": [],
   "source": [
    "df = df1.copy()"
   ]
  },
  {
   "cell_type": "code",
   "execution_count": null,
   "id": "b4cd8239",
   "metadata": {},
   "outputs": [],
   "source": [
    "# Specify the columns to consider for duplicates\n",
    "columns_to_check = ['CREDIT_REPORT_ID','PRIMARY_NO_OF_ACCOUNTS', 'PRIMARY_ACTIVE_ACCOUNTS', 'PRIMARY_OVERDUE_ACCOUNTS', 'PRIMARY_CURRENT_BALANCE', 'PRIMARY_SANCTIONED_AMOUNT', 'PRIMARY_DISTRIBUTED_AMOUNT', 'PRIMARY_INSTALLMENT_AMOUNT', 'NEW_ACCOUNTS_IN_LAST_SIX_MONTHS', 'AVERAGE_ACCOUNT_AGE', 'NO_OF_INQUIRIES', 'INCOME', 'AGE_COHORT', 'STATE']\n",
    "\n",
    "# Drop duplicates based on the specified columns\n",
    "cl_df = df.drop_duplicates(subset='CREDIT_REPORT_ID')"
   ]
  },
  {
   "cell_type": "code",
   "execution_count": null,
   "id": "2fcc5d9c",
   "metadata": {},
   "outputs": [
    {
     "data": {
      "text/plain": [
       "Index(['INCOME_BAND', 'AGE_COHORT'], dtype='object')"
      ]
     },
     "execution_count": 42,
     "metadata": {},
     "output_type": "execute_result"
    }
   ],
   "source": [
    "df.columns[df.isnull().any()]"
   ]
  },
  {
   "cell_type": "code",
   "execution_count": null,
   "id": "340b4720",
   "metadata": {},
   "outputs": [],
   "source": [
    "# Define loan categories\n",
    "loan_categories = {\n",
    "    'Credit Card': 'Credit Card', 'Loan on Credit Card': 'Credit Card', 'Secured Credit Card': 'Credit Card',\n",
    "    'Corporate Credit Card': 'Credit Card', 'Kisan Credit Card': 'Credit Card', 'Overdraft': 'Personal Loan',\n",
    "    'Personal Loan': 'Personal Loan', 'Consumer Loan': 'Personal Loan', \n",
    "    'Loan Aganist Bank Deposits': 'Personal Loan', 'OD on Savings Account': 'Personal Loan', \n",
    "    'Microfinance Personal Loan': 'Personal Loan', 'Loan to Professional': 'Personal Loan',\n",
    "    'Auto Loan (Personal)': 'Auto Loan', 'Two Wheeler Loan': 'Auto Loan', 'Used Car Loan': 'Auto Loan',\n",
    "    'Commercial Vehicle Loan': 'Auto Loan', 'Used Tractor Loan': 'Auto Loan', \n",
    "    'Housing Loan': 'Home Loan', 'Property Loan': 'Home Loan', 'Leasing': 'Home Loan',\n",
    "    'Microfinance Housing Loan': 'Home Loan'\n",
    "}\n",
    "\n",
    "# Map the loan categories to the 'ACCOUNT_TYPE' column\n",
    "df['Loan Category'] = df['ACCOUNT_TYPE'].map(loan_categories)\n",
    "\n",
    "# Pivot the DataFrame to create separate columns for each loan category\n",
    "acc_df = df.pivot_table(index='CREDIT_REPORT_ID', columns='Loan Category', aggfunc= 'size', fill_value=0)\n",
    "\n",
    "# Reset the index to make 'CREDIT_REPORT_ID' a column again\n",
    "acc_df.reset_index(inplace=True)\n",
    "\n",
    "# Rename columns for better readability\n",
    "acc_df.rename(columns={'Credit Card': 'ACCOUNT_TYPE_Credit Card', 'Home loan': 'ACCOUNT_TYPE_Home Loan', 'Auto Loan': 'ACCOUNT_TYPE_Auto Loan', 'Personal Loan': 'ACCOUNT_TYPE_Personal Loan'}, inplace=True)"
   ]
  },
  {
   "cell_type": "code",
   "execution_count": null,
   "id": "e9c6ae6e",
   "metadata": {},
   "outputs": [],
   "source": [
    "merged_df = acc_df.merge(df, on=\"CREDIT_REPORT_ID\", how=\"left\")"
   ]
  },
  {
   "cell_type": "code",
   "execution_count": null,
   "id": "f5a2e186",
   "metadata": {},
   "outputs": [
    {
     "data": {
      "text/plain": [
       "(8326868, 27)"
      ]
     },
     "execution_count": 45,
     "metadata": {},
     "output_type": "execute_result"
    }
   ],
   "source": [
    "merged_df.shape"
   ]
  },
  {
   "cell_type": "code",
   "execution_count": null,
   "id": "3088e482",
   "metadata": {},
   "outputs": [
    {
     "data": {
      "text/plain": [
       "7222626"
      ]
     },
     "execution_count": 46,
     "metadata": {},
     "output_type": "execute_result"
    }
   ],
   "source": [
    "merged_df[\"CREDIT_REPORT_ID\"].duplicated().sum()"
   ]
  },
  {
   "cell_type": "code",
   "execution_count": null,
   "id": "d9a86e56",
   "metadata": {},
   "outputs": [
    {
     "data": {
      "text/plain": [
       "(1104242, 5)"
      ]
     },
     "execution_count": 47,
     "metadata": {},
     "output_type": "execute_result"
    }
   ],
   "source": [
    "acc_df.shape"
   ]
  },
  {
   "cell_type": "code",
   "execution_count": null,
   "id": "2adc2a0a",
   "metadata": {},
   "outputs": [
    {
     "data": {
      "text/plain": [
       "Index(['INCOME_BAND', 'AGE_COHORT', 'Loan Category'], dtype='object')"
      ]
     },
     "execution_count": 48,
     "metadata": {},
     "output_type": "execute_result"
    }
   ],
   "source": [
    "merged_df.columns[merged_df.isnull().any()]"
   ]
  },
  {
   "cell_type": "code",
   "execution_count": null,
   "id": "cec6739e",
   "metadata": {},
   "outputs": [],
   "source": [
    "acty_df = merged_df.drop_duplicates(subset='CREDIT_REPORT_ID')"
   ]
  },
  {
   "cell_type": "code",
   "execution_count": null,
   "id": "6cb8c196",
   "metadata": {},
   "outputs": [
    {
     "data": {
      "text/plain": [
       "(1104242, 27)"
      ]
     },
     "execution_count": 50,
     "metadata": {},
     "output_type": "execute_result"
    }
   ],
   "source": [
    "acty_df.shape"
   ]
  },
  {
   "cell_type": "code",
   "execution_count": null,
   "id": "187c3694",
   "metadata": {},
   "outputs": [],
   "source": [
    "# Pivot CONTRIBUTOR_TYPE data\n",
    "ct_df = df.pivot_table(index = 'CREDIT_REPORT_ID', columns = 'CONTRIBUTOR_TYPE', aggfunc ='size', fill_value = 0)\n",
    "\n",
    "# Reset index to have 'CREDIT_REPORT_ID' as a regular column\n",
    "ct_df.reset_index(inplace=True)\n",
    "\n",
    "# Rename columns for better readability\n",
    "ct_df.rename(columns={'PRB': 'CONTRIBUTOR_TYPE_PRB', 'NBF': 'CONTRIBUTOR_TYPE_NBF'}, inplace=True)"
   ]
  },
  {
   "cell_type": "code",
   "execution_count": null,
   "id": "66fe1d6a",
   "metadata": {},
   "outputs": [],
   "source": [
    "merged_df = acty_df.merge(ct_df, on=\"CREDIT_REPORT_ID\", how=\"left\")"
   ]
  },
  {
   "cell_type": "code",
   "execution_count": null,
   "id": "bd69f011",
   "metadata": {},
   "outputs": [],
   "source": [
    "# Pivot OWNERSHIP_IND data\n",
    "oi_df = df.pivot_table(index = 'CREDIT_REPORT_ID', columns = 'OWNERSHIP_IND', aggfunc = 'size', fill_value = 0)\n",
    "\n",
    "# Reset index to have 'CREDIT_REPORT_ID' as a regular column\n",
    "oi_df.reset_index(inplace=True)\n",
    "\n",
    "# Rename columns for better readability\n",
    "oi_df.rename(columns={'Individual': 'OWNERSHIP_IND_Individual', 'Supl Card Holder': 'OWNERSHIP_IND_Supl Card Holder', 'Joint': 'OWNERSHIP_IND_Joint', 'Guarantor': 'OWNERSHIP_IND_Guarantor'}, inplace=True)"
   ]
  },
  {
   "cell_type": "code",
   "execution_count": null,
   "id": "74b14dea",
   "metadata": {},
   "outputs": [],
   "source": [
    "merged1_df = merged_df.merge(oi_df, on=\"CREDIT_REPORT_ID\", how=\"left\")"
   ]
  },
  {
   "cell_type": "code",
   "execution_count": null,
   "id": "7bf6084b",
   "metadata": {},
   "outputs": [],
   "source": [
    "# Pivot ACCOUNT_STATUS data\n",
    "as_df = df.pivot_table(index='CREDIT_REPORT_ID', columns='ACCOUNT_STATUS', aggfunc='size', fill_value=0)\n",
    "\n",
    "# Reset index and remove the name of the columns index\n",
    "as_df.reset_index(inplace=True)\n",
    "\n",
    "# Rename columns for better readability\n",
    "as_df.rename(columns={'Active': 'ACCOUNT_STATUS_Active', 'Closed': 'ACCOUNT_STATUS_Closed'}, inplace=True)"
   ]
  },
  {
   "cell_type": "code",
   "execution_count": null,
   "id": "b77401e4",
   "metadata": {},
   "outputs": [],
   "source": [
    "merged2_df = merged1_df.merge(as_df, on=\"CREDIT_REPORT_ID\", how=\"left\")"
   ]
  },
  {
   "cell_type": "code",
   "execution_count": null,
   "id": "fa984440",
   "metadata": {},
   "outputs": [
    {
     "data": {
      "text/html": [
       "<div>\n",
       "<style scoped>\n",
       "    .dataframe tbody tr th:only-of-type {\n",
       "        vertical-align: middle;\n",
       "    }\n",
       "\n",
       "    .dataframe tbody tr th {\n",
       "        vertical-align: top;\n",
       "    }\n",
       "\n",
       "    .dataframe thead th {\n",
       "        text-align: right;\n",
       "    }\n",
       "</style>\n",
       "<table border=\"1\" class=\"dataframe\">\n",
       "  <thead>\n",
       "    <tr style=\"text-align: right;\">\n",
       "      <th></th>\n",
       "      <th>CREDIT_REPORT_ID</th>\n",
       "      <th>ACCOUNT_TYPE_Auto Loan</th>\n",
       "      <th>ACCOUNT_TYPE_Credit Card</th>\n",
       "      <th>Home Loan</th>\n",
       "      <th>ACCOUNT_TYPE_Personal Loan</th>\n",
       "      <th>INCOME_BAND</th>\n",
       "      <th>PRIMARY_NO_OF_ACCOUNTS</th>\n",
       "      <th>PRIMARY_ACTIVE_ACCOUNTS</th>\n",
       "      <th>PRIMARY_OVERDUE_ACCOUNTS</th>\n",
       "      <th>PRIMARY_CURRENT_BALANCE</th>\n",
       "      <th>...</th>\n",
       "      <th>Loan Category</th>\n",
       "      <th>CONTRIBUTOR_TYPE_NBF</th>\n",
       "      <th>CONTRIBUTOR_TYPE_PRB</th>\n",
       "      <th>OWNERSHIP_IND_Guarantor</th>\n",
       "      <th>OWNERSHIP_IND_Individual</th>\n",
       "      <th>OWNERSHIP_IND_Joint</th>\n",
       "      <th>Primary</th>\n",
       "      <th>OWNERSHIP_IND_Supl Card Holder</th>\n",
       "      <th>ACCOUNT_STATUS_Active</th>\n",
       "      <th>ACCOUNT_STATUS_Closed</th>\n",
       "    </tr>\n",
       "  </thead>\n",
       "  <tbody>\n",
       "    <tr>\n",
       "      <th>0</th>\n",
       "      <td>GEOA221114CR000011523894971</td>\n",
       "      <td>0</td>\n",
       "      <td>1</td>\n",
       "      <td>0</td>\n",
       "      <td>0</td>\n",
       "      <td>H</td>\n",
       "      <td>4.00</td>\n",
       "      <td>2.00</td>\n",
       "      <td>0.00</td>\n",
       "      <td>12737.00</td>\n",
       "      <td>...</td>\n",
       "      <td>Credit Card</td>\n",
       "      <td>0</td>\n",
       "      <td>1</td>\n",
       "      <td>0</td>\n",
       "      <td>1</td>\n",
       "      <td>0</td>\n",
       "      <td>0</td>\n",
       "      <td>0</td>\n",
       "      <td>1</td>\n",
       "      <td>0</td>\n",
       "    </tr>\n",
       "    <tr>\n",
       "      <th>1</th>\n",
       "      <td>GEOA221114CR000111523894971</td>\n",
       "      <td>0</td>\n",
       "      <td>1</td>\n",
       "      <td>0</td>\n",
       "      <td>0</td>\n",
       "      <td>D</td>\n",
       "      <td>1.00</td>\n",
       "      <td>1.00</td>\n",
       "      <td>0.00</td>\n",
       "      <td>235.00</td>\n",
       "      <td>...</td>\n",
       "      <td>Credit Card</td>\n",
       "      <td>0</td>\n",
       "      <td>1</td>\n",
       "      <td>0</td>\n",
       "      <td>1</td>\n",
       "      <td>0</td>\n",
       "      <td>0</td>\n",
       "      <td>0</td>\n",
       "      <td>1</td>\n",
       "      <td>0</td>\n",
       "    </tr>\n",
       "    <tr>\n",
       "      <th>2</th>\n",
       "      <td>GEOA221114CR000211523894971</td>\n",
       "      <td>0</td>\n",
       "      <td>1</td>\n",
       "      <td>0</td>\n",
       "      <td>0</td>\n",
       "      <td>H</td>\n",
       "      <td>9.00</td>\n",
       "      <td>5.00</td>\n",
       "      <td>0.00</td>\n",
       "      <td>3052319.00</td>\n",
       "      <td>...</td>\n",
       "      <td>Credit Card</td>\n",
       "      <td>0</td>\n",
       "      <td>1</td>\n",
       "      <td>0</td>\n",
       "      <td>1</td>\n",
       "      <td>0</td>\n",
       "      <td>0</td>\n",
       "      <td>0</td>\n",
       "      <td>1</td>\n",
       "      <td>0</td>\n",
       "    </tr>\n",
       "    <tr>\n",
       "      <th>3</th>\n",
       "      <td>GEOA221114CR00021523894971</td>\n",
       "      <td>0</td>\n",
       "      <td>5</td>\n",
       "      <td>0</td>\n",
       "      <td>14</td>\n",
       "      <td>H</td>\n",
       "      <td>46.00</td>\n",
       "      <td>14.00</td>\n",
       "      <td>0.00</td>\n",
       "      <td>835826.00</td>\n",
       "      <td>...</td>\n",
       "      <td>NaN</td>\n",
       "      <td>15</td>\n",
       "      <td>6</td>\n",
       "      <td>0</td>\n",
       "      <td>21</td>\n",
       "      <td>0</td>\n",
       "      <td>0</td>\n",
       "      <td>0</td>\n",
       "      <td>9</td>\n",
       "      <td>12</td>\n",
       "    </tr>\n",
       "    <tr>\n",
       "      <th>4</th>\n",
       "      <td>GEOA221114CR00041523894971</td>\n",
       "      <td>0</td>\n",
       "      <td>0</td>\n",
       "      <td>0</td>\n",
       "      <td>3</td>\n",
       "      <td>F</td>\n",
       "      <td>15.00</td>\n",
       "      <td>5.00</td>\n",
       "      <td>4.00</td>\n",
       "      <td>399263.00</td>\n",
       "      <td>...</td>\n",
       "      <td>Personal Loan</td>\n",
       "      <td>5</td>\n",
       "      <td>0</td>\n",
       "      <td>0</td>\n",
       "      <td>5</td>\n",
       "      <td>0</td>\n",
       "      <td>0</td>\n",
       "      <td>0</td>\n",
       "      <td>1</td>\n",
       "      <td>4</td>\n",
       "    </tr>\n",
       "  </tbody>\n",
       "</table>\n",
       "<p>5 rows × 36 columns</p>\n",
       "</div>"
      ],
      "text/plain": [
       "              CREDIT_REPORT_ID  ACCOUNT_TYPE_Auto Loan  \\\n",
       "0  GEOA221114CR000011523894971                       0   \n",
       "1  GEOA221114CR000111523894971                       0   \n",
       "2  GEOA221114CR000211523894971                       0   \n",
       "3   GEOA221114CR00021523894971                       0   \n",
       "4   GEOA221114CR00041523894971                       0   \n",
       "\n",
       "   ACCOUNT_TYPE_Credit Card  Home Loan  ACCOUNT_TYPE_Personal Loan  \\\n",
       "0                         1          0                           0   \n",
       "1                         1          0                           0   \n",
       "2                         1          0                           0   \n",
       "3                         5          0                          14   \n",
       "4                         0          0                           3   \n",
       "\n",
       "  INCOME_BAND  PRIMARY_NO_OF_ACCOUNTS  PRIMARY_ACTIVE_ACCOUNTS  \\\n",
       "0           H                    4.00                     2.00   \n",
       "1           D                    1.00                     1.00   \n",
       "2           H                    9.00                     5.00   \n",
       "3           H                   46.00                    14.00   \n",
       "4           F                   15.00                     5.00   \n",
       "\n",
       "   PRIMARY_OVERDUE_ACCOUNTS  PRIMARY_CURRENT_BALANCE  ...  Loan Category  \\\n",
       "0                      0.00                 12737.00  ...    Credit Card   \n",
       "1                      0.00                   235.00  ...    Credit Card   \n",
       "2                      0.00               3052319.00  ...    Credit Card   \n",
       "3                      0.00                835826.00  ...            NaN   \n",
       "4                      4.00                399263.00  ...  Personal Loan   \n",
       "\n",
       "   CONTRIBUTOR_TYPE_NBF  CONTRIBUTOR_TYPE_PRB  OWNERSHIP_IND_Guarantor  \\\n",
       "0                     0                     1                        0   \n",
       "1                     0                     1                        0   \n",
       "2                     0                     1                        0   \n",
       "3                    15                     6                        0   \n",
       "4                     5                     0                        0   \n",
       "\n",
       "  OWNERSHIP_IND_Individual  OWNERSHIP_IND_Joint Primary  \\\n",
       "0                        1                    0       0   \n",
       "1                        1                    0       0   \n",
       "2                        1                    0       0   \n",
       "3                       21                    0       0   \n",
       "4                        5                    0       0   \n",
       "\n",
       "  OWNERSHIP_IND_Supl Card Holder ACCOUNT_STATUS_Active ACCOUNT_STATUS_Closed  \n",
       "0                              0                     1                     0  \n",
       "1                              0                     1                     0  \n",
       "2                              0                     1                     0  \n",
       "3                              0                     9                    12  \n",
       "4                              0                     1                     4  \n",
       "\n",
       "[5 rows x 36 columns]"
      ]
     },
     "execution_count": 57,
     "metadata": {},
     "output_type": "execute_result"
    }
   ],
   "source": [
    "merged2_df.head(5)"
   ]
  },
  {
   "cell_type": "code",
   "execution_count": null,
   "id": "543d43ce",
   "metadata": {},
   "outputs": [],
   "source": [
    "agg_data = df[['CREDIT_REPORT_ID', 'ACCOUNT_STATUS', 'CURRENT_BALANCE', 'OVERDUE_AMOUNT']]\n",
    "\n",
    "def aggregation(df):\n",
    "    # Create a pivot table to aggregate balances and overdue amounts\n",
    "    pivot_df = df.pivot_table(index='CREDIT_REPORT_ID', columns='ACCOUNT_STATUS', \n",
    "                              values=['CURRENT_BALANCE', 'OVERDUE_AMOUNT'], \n",
    "                              aggfunc={'CURRENT_BALANCE': 'sum', 'OVERDUE_AMOUNT': 'sum'}, \n",
    "                              fill_value=0)\n",
    "    \n",
    "    # Flatten the multi-level column index\n",
    "    pivot_df.columns = [f'{agg}_{status}' for status, agg in pivot_df.columns]\n",
    "    \n",
    "    # Reset the index to make 'CREDIT_REPORT_ID' a regular column\n",
    "    pivot_df.reset_index(inplace=True)\n",
    "    \n",
    "    return pivot_df\n",
    "\n",
    "# Call the function to aggregate balances\n",
    "aggregated_data = aggregation(agg_data)"
   ]
  },
  {
   "cell_type": "code",
   "execution_count": null,
   "id": "e6768ec3",
   "metadata": {},
   "outputs": [],
   "source": [
    "merged3_df = merged2_df.merge(aggregated_data, on=\"CREDIT_REPORT_ID\", how=\"left\")"
   ]
  },
  {
   "cell_type": "code",
   "execution_count": null,
   "id": "54f050b8",
   "metadata": {},
   "outputs": [],
   "source": [
    "merged2_df = merged2_df.drop(['CURRENT_BALANCE', 'OVERDUE_AMOUNT'], axis = 1)"
   ]
  },
  {
   "cell_type": "code",
   "execution_count": null,
   "id": "cdc9070e",
   "metadata": {},
   "outputs": [
    {
     "data": {
      "text/plain": [
       "Good    1084640\n",
       "Bad       19602\n",
       "Name: ROOPYA_ACCOUNT_STATUS, dtype: int64"
      ]
     },
     "execution_count": 61,
     "metadata": {},
     "output_type": "execute_result"
    }
   ],
   "source": [
    "merged3_df[\"ROOPYA_ACCOUNT_STATUS\"].value_counts()"
   ]
  },
  {
   "cell_type": "code",
   "execution_count": null,
   "id": "8538f10a",
   "metadata": {},
   "outputs": [],
   "source": [
    "cri_df = merged3_df[['CREDIT_REPORT_ID', 'ROOPYA_ACCOUNT_STATUS']]\n",
    "\n",
    "# Custom function to determine the final status\n",
    "def categorize_customer(group):\n",
    "    unique_statuses = group['ROOPYA_ACCOUNT_STATUS'].unique()\n",
    "\n",
    "    if len(unique_statuses) == 1:\n",
    "        return unique_statuses[0]\n",
    "    elif 'Bad' in unique_statuses:\n",
    "        return 'Bad'\n",
    "    else:\n",
    "        return 'Good'\n",
    "\n",
    "result = cri_df.groupby('CREDIT_REPORT_ID').apply(categorize_customer)\n",
    "\n",
    "# Create a new DataFrame with the summarized results\n",
    "final_status_df = result.reset_index(name='ROOPYA_CUSTOMER_STATUS')"
   ]
  },
  {
   "cell_type": "code",
   "execution_count": null,
   "id": "7a7bf892",
   "metadata": {},
   "outputs": [
    {
     "data": {
      "text/plain": [
       "Index(['CREDIT_REPORT_ID', 'ACCOUNT_TYPE_Auto Loan',\n",
       "       'ACCOUNT_TYPE_Credit Card', 'Home Loan', 'ACCOUNT_TYPE_Personal Loan',\n",
       "       'INCOME_BAND', 'PRIMARY_NO_OF_ACCOUNTS', 'PRIMARY_ACTIVE_ACCOUNTS',\n",
       "       'PRIMARY_OVERDUE_ACCOUNTS', 'PRIMARY_CURRENT_BALANCE',\n",
       "       'PRIMARY_SANCTIONED_AMOUNT', 'PRIMARY_DISTRIBUTED_AMOUNT',\n",
       "       'PRIMARY_INSTALLMENT_AMOUNT', 'NEW_ACCOUNTS_IN_LAST_SIX_MONTHS',\n",
       "       'AVERAGE_ACCOUNT_AGE', 'NO_OF_INQUIRIES', 'ACCOUNT_TYPE',\n",
       "       'CONTRIBUTOR_TYPE', 'OWNERSHIP_IND', 'ACCOUNT_STATUS',\n",
       "       'CURRENT_BALANCE', 'OVERDUE_AMOUNT', 'INCOME', 'AGE_COHORT', 'STATE',\n",
       "       'ROOPYA_ACCOUNT_STATUS', 'Loan Category', 'CONTRIBUTOR_TYPE_NBF',\n",
       "       'CONTRIBUTOR_TYPE_PRB', 'OWNERSHIP_IND_Guarantor',\n",
       "       'OWNERSHIP_IND_Individual', 'OWNERSHIP_IND_Joint', 'Primary',\n",
       "       'OWNERSHIP_IND_Supl Card Holder', 'ACCOUNT_STATUS_Active',\n",
       "       'ACCOUNT_STATUS_Closed', 'Active_CURRENT_BALANCE',\n",
       "       'Closed_CURRENT_BALANCE', 'Active_OVERDUE_AMOUNT',\n",
       "       'Closed_OVERDUE_AMOUNT'],\n",
       "      dtype='object')"
      ]
     },
     "execution_count": 63,
     "metadata": {},
     "output_type": "execute_result"
    }
   ],
   "source": [
    "merged3_df.columns"
   ]
  },
  {
   "cell_type": "code",
   "execution_count": null,
   "id": "94368c11",
   "metadata": {},
   "outputs": [],
   "source": [
    "df_1 = merged3_df.drop(columns = ['INCOME_BAND', 'ACCOUNT_TYPE', 'CONTRIBUTOR_TYPE', 'OWNERSHIP_IND', 'ACCOUNT_STATUS','ROOPYA_ACCOUNT_STATUS', 'Loan Category', 'Primary'])\n",
    "df_2 = final_status_df.drop(columns = ['CREDIT_REPORT_ID'])"
   ]
  },
  {
   "cell_type": "code",
   "execution_count": null,
   "id": "60f881cf",
   "metadata": {},
   "outputs": [],
   "source": [
    "df1 = df_1.reset_index(drop=True)\n",
    "df2 = df_2.reset_index(drop=True)"
   ]
  },
  {
   "cell_type": "code",
   "execution_count": null,
   "id": "8a53141f",
   "metadata": {},
   "outputs": [],
   "source": [
    "import pandas as pd\n",
    "result_df = pd.concat([df1, df2], axis = 1)"
   ]
  },
  {
   "cell_type": "code",
   "execution_count": null,
   "id": "05465e6d",
   "metadata": {},
   "outputs": [],
   "source": [
    "final_df = result_df.rename(columns={'Home Loan': 'ACCOUNT_TYPE_Home Loan'})"
   ]
  },
  {
   "cell_type": "code",
   "execution_count": null,
   "id": "450f6895",
   "metadata": {},
   "outputs": [
    {
     "data": {
      "text/plain": [
       "CREDIT_REPORT_ID                      0\n",
       "ACCOUNT_TYPE_Auto Loan                0\n",
       "ACCOUNT_TYPE_Credit Card              0\n",
       "ACCOUNT_TYPE_Home Loan                0\n",
       "ACCOUNT_TYPE_Personal Loan            0\n",
       "PRIMARY_NO_OF_ACCOUNTS                0\n",
       "PRIMARY_ACTIVE_ACCOUNTS               0\n",
       "PRIMARY_OVERDUE_ACCOUNTS              0\n",
       "PRIMARY_CURRENT_BALANCE               0\n",
       "PRIMARY_SANCTIONED_AMOUNT             0\n",
       "PRIMARY_DISTRIBUTED_AMOUNT            0\n",
       "PRIMARY_INSTALLMENT_AMOUNT            0\n",
       "NEW_ACCOUNTS_IN_LAST_SIX_MONTHS       0\n",
       "AVERAGE_ACCOUNT_AGE                   0\n",
       "NO_OF_INQUIRIES                       0\n",
       "CURRENT_BALANCE                       0\n",
       "OVERDUE_AMOUNT                        0\n",
       "INCOME                                0\n",
       "AGE_COHORT                         2034\n",
       "STATE                                 0\n",
       "CONTRIBUTOR_TYPE_NBF                  0\n",
       "CONTRIBUTOR_TYPE_PRB                  0\n",
       "OWNERSHIP_IND_Guarantor               0\n",
       "OWNERSHIP_IND_Individual              0\n",
       "OWNERSHIP_IND_Joint                   0\n",
       "OWNERSHIP_IND_Supl Card Holder        0\n",
       "ACCOUNT_STATUS_Active                 0\n",
       "ACCOUNT_STATUS_Closed                 0\n",
       "Active_CURRENT_BALANCE                0\n",
       "Closed_CURRENT_BALANCE                0\n",
       "Active_OVERDUE_AMOUNT                 0\n",
       "Closed_OVERDUE_AMOUNT                 0\n",
       "ROOPYA_CUSTOMER_STATUS                0\n",
       "dtype: int64"
      ]
     },
     "execution_count": 68,
     "metadata": {},
     "output_type": "execute_result"
    }
   ],
   "source": [
    "final_df.isnull().sum()"
   ]
  },
  {
   "cell_type": "code",
   "execution_count": null,
   "id": "a0da46c1",
   "metadata": {},
   "outputs": [
    {
     "data": {
      "text/plain": [
       "Good    1084640\n",
       "Bad       19602\n",
       "Name: ROOPYA_CUSTOMER_STATUS, dtype: int64"
      ]
     },
     "execution_count": 69,
     "metadata": {},
     "output_type": "execute_result"
    }
   ],
   "source": [
    "final_df['ROOPYA_CUSTOMER_STATUS'].value_counts()"
   ]
  },
  {
   "cell_type": "code",
   "execution_count": null,
   "id": "eb1e95de",
   "metadata": {},
   "outputs": [
    {
     "name": "stdout",
     "output_type": "stream",
     "text": [
      "No of customers with Auto Loan:  160915\n",
      "No of customers with Credit Card:  831555\n",
      "No of customers with Home Loan:  122333\n",
      "No of customers with Personal Loan:  625293\n"
     ]
    }
   ],
   "source": [
    "print(\"No of customers with Auto Loan: \", len(final_df[final_df[\"ACCOUNT_TYPE_Auto Loan\"] != 0]))\n",
    "print(\"No of customers with Credit Card: \", len(final_df[final_df[\"ACCOUNT_TYPE_Credit Card\"] != 0]))\n",
    "print(\"No of customers with Home Loan: \", len(final_df[final_df[\"ACCOUNT_TYPE_Home Loan\"] != 0]))\n",
    "print(\"No of customers with Personal Loan: \", len(final_df[final_df[\"ACCOUNT_TYPE_Personal Loan\"] != 0]))"
   ]
  },
  {
   "cell_type": "code",
   "execution_count": null,
   "id": "96ba261d",
   "metadata": {},
   "outputs": [
    {
     "data": {
      "text/html": [
       "<div>\n",
       "<style scoped>\n",
       "    .dataframe tbody tr th:only-of-type {\n",
       "        vertical-align: middle;\n",
       "    }\n",
       "\n",
       "    .dataframe tbody tr th {\n",
       "        vertical-align: top;\n",
       "    }\n",
       "\n",
       "    .dataframe thead th {\n",
       "        text-align: right;\n",
       "    }\n",
       "</style>\n",
       "<table border=\"1\" class=\"dataframe\">\n",
       "  <thead>\n",
       "    <tr style=\"text-align: right;\">\n",
       "      <th></th>\n",
       "      <th>ACCOUNT_TYPE_Auto Loan</th>\n",
       "      <th>ACCOUNT_TYPE_Credit Card</th>\n",
       "      <th>ACCOUNT_TYPE_Home Loan</th>\n",
       "      <th>ACCOUNT_TYPE_Personal Loan</th>\n",
       "      <th>PRIMARY_NO_OF_ACCOUNTS</th>\n",
       "      <th>PRIMARY_ACTIVE_ACCOUNTS</th>\n",
       "      <th>PRIMARY_OVERDUE_ACCOUNTS</th>\n",
       "      <th>PRIMARY_CURRENT_BALANCE</th>\n",
       "      <th>PRIMARY_SANCTIONED_AMOUNT</th>\n",
       "      <th>PRIMARY_DISTRIBUTED_AMOUNT</th>\n",
       "      <th>...</th>\n",
       "      <th>OWNERSHIP_IND_Guarantor</th>\n",
       "      <th>OWNERSHIP_IND_Individual</th>\n",
       "      <th>OWNERSHIP_IND_Joint</th>\n",
       "      <th>OWNERSHIP_IND_Supl Card Holder</th>\n",
       "      <th>ACCOUNT_STATUS_Active</th>\n",
       "      <th>ACCOUNT_STATUS_Closed</th>\n",
       "      <th>Active_CURRENT_BALANCE</th>\n",
       "      <th>Closed_CURRENT_BALANCE</th>\n",
       "      <th>Active_OVERDUE_AMOUNT</th>\n",
       "      <th>Closed_OVERDUE_AMOUNT</th>\n",
       "    </tr>\n",
       "  </thead>\n",
       "  <tbody>\n",
       "    <tr>\n",
       "      <th>count</th>\n",
       "      <td>1104242.00</td>\n",
       "      <td>1104242.00</td>\n",
       "      <td>1104242.00</td>\n",
       "      <td>1104242.00</td>\n",
       "      <td>1104242.00</td>\n",
       "      <td>1104242.00</td>\n",
       "      <td>1104242.00</td>\n",
       "      <td>1104242.00</td>\n",
       "      <td>1104242.00</td>\n",
       "      <td>1104242.00</td>\n",
       "      <td>...</td>\n",
       "      <td>1104242.00</td>\n",
       "      <td>1104242.00</td>\n",
       "      <td>1104242.00</td>\n",
       "      <td>1104242.00</td>\n",
       "      <td>1104242.00</td>\n",
       "      <td>1104242.00</td>\n",
       "      <td>1104242.00</td>\n",
       "      <td>1104242.00</td>\n",
       "      <td>1104242.00</td>\n",
       "      <td>1104242.00</td>\n",
       "    </tr>\n",
       "    <tr>\n",
       "      <th>mean</th>\n",
       "      <td>0.31</td>\n",
       "      <td>2.04</td>\n",
       "      <td>0.18</td>\n",
       "      <td>4.25</td>\n",
       "      <td>11.27</td>\n",
       "      <td>4.16</td>\n",
       "      <td>0.39</td>\n",
       "      <td>1225470.92</td>\n",
       "      <td>2100587.28</td>\n",
       "      <td>1932027.73</td>\n",
       "      <td>...</td>\n",
       "      <td>0.05</td>\n",
       "      <td>7.19</td>\n",
       "      <td>0.27</td>\n",
       "      <td>0.02</td>\n",
       "      <td>3.94</td>\n",
       "      <td>3.60</td>\n",
       "      <td>693476.74</td>\n",
       "      <td>968.39</td>\n",
       "      <td>7.35</td>\n",
       "      <td>128.34</td>\n",
       "    </tr>\n",
       "    <tr>\n",
       "      <th>std</th>\n",
       "      <td>1.57</td>\n",
       "      <td>4.14</td>\n",
       "      <td>0.84</td>\n",
       "      <td>27.44</td>\n",
       "      <td>10.19</td>\n",
       "      <td>3.66</td>\n",
       "      <td>1.24</td>\n",
       "      <td>1767765.01</td>\n",
       "      <td>2412553.14</td>\n",
       "      <td>2343121.10</td>\n",
       "      <td>...</td>\n",
       "      <td>0.62</td>\n",
       "      <td>31.90</td>\n",
       "      <td>1.34</td>\n",
       "      <td>0.17</td>\n",
       "      <td>11.75</td>\n",
       "      <td>22.97</td>\n",
       "      <td>2534252.76</td>\n",
       "      <td>67589.60</td>\n",
       "      <td>325.88</td>\n",
       "      <td>20394.24</td>\n",
       "    </tr>\n",
       "    <tr>\n",
       "      <th>min</th>\n",
       "      <td>0.00</td>\n",
       "      <td>0.00</td>\n",
       "      <td>0.00</td>\n",
       "      <td>0.00</td>\n",
       "      <td>1.00</td>\n",
       "      <td>0.00</td>\n",
       "      <td>0.00</td>\n",
       "      <td>0.00</td>\n",
       "      <td>0.00</td>\n",
       "      <td>0.00</td>\n",
       "      <td>...</td>\n",
       "      <td>0.00</td>\n",
       "      <td>0.00</td>\n",
       "      <td>0.00</td>\n",
       "      <td>0.00</td>\n",
       "      <td>0.00</td>\n",
       "      <td>0.00</td>\n",
       "      <td>0.00</td>\n",
       "      <td>0.00</td>\n",
       "      <td>-44280.00</td>\n",
       "      <td>-18.00</td>\n",
       "    </tr>\n",
       "    <tr>\n",
       "      <th>25%</th>\n",
       "      <td>0.00</td>\n",
       "      <td>1.00</td>\n",
       "      <td>0.00</td>\n",
       "      <td>0.00</td>\n",
       "      <td>5.00</td>\n",
       "      <td>2.00</td>\n",
       "      <td>0.00</td>\n",
       "      <td>17144.25</td>\n",
       "      <td>205991.50</td>\n",
       "      <td>129833.25</td>\n",
       "      <td>...</td>\n",
       "      <td>0.00</td>\n",
       "      <td>1.00</td>\n",
       "      <td>0.00</td>\n",
       "      <td>0.00</td>\n",
       "      <td>1.00</td>\n",
       "      <td>0.00</td>\n",
       "      <td>0.00</td>\n",
       "      <td>0.00</td>\n",
       "      <td>0.00</td>\n",
       "      <td>0.00</td>\n",
       "    </tr>\n",
       "    <tr>\n",
       "      <th>50%</th>\n",
       "      <td>0.00</td>\n",
       "      <td>1.00</td>\n",
       "      <td>0.00</td>\n",
       "      <td>1.00</td>\n",
       "      <td>9.00</td>\n",
       "      <td>3.00</td>\n",
       "      <td>0.00</td>\n",
       "      <td>332962.00</td>\n",
       "      <td>1075000.00</td>\n",
       "      <td>849025.50</td>\n",
       "      <td>...</td>\n",
       "      <td>0.00</td>\n",
       "      <td>3.00</td>\n",
       "      <td>0.00</td>\n",
       "      <td>0.00</td>\n",
       "      <td>2.00</td>\n",
       "      <td>1.00</td>\n",
       "      <td>27891.00</td>\n",
       "      <td>0.00</td>\n",
       "      <td>0.00</td>\n",
       "      <td>0.00</td>\n",
       "    </tr>\n",
       "    <tr>\n",
       "      <th>75%</th>\n",
       "      <td>0.00</td>\n",
       "      <td>2.00</td>\n",
       "      <td>0.00</td>\n",
       "      <td>3.00</td>\n",
       "      <td>15.00</td>\n",
       "      <td>6.00</td>\n",
       "      <td>0.00</td>\n",
       "      <td>1838420.75</td>\n",
       "      <td>3300564.25</td>\n",
       "      <td>3081971.25</td>\n",
       "      <td>...</td>\n",
       "      <td>0.00</td>\n",
       "      <td>5.00</td>\n",
       "      <td>0.00</td>\n",
       "      <td>0.00</td>\n",
       "      <td>4.00</td>\n",
       "      <td>2.00</td>\n",
       "      <td>318380.75</td>\n",
       "      <td>0.00</td>\n",
       "      <td>0.00</td>\n",
       "      <td>0.00</td>\n",
       "    </tr>\n",
       "    <tr>\n",
       "      <th>max</th>\n",
       "      <td>180.00</td>\n",
       "      <td>484.00</td>\n",
       "      <td>235.00</td>\n",
       "      <td>3375.00</td>\n",
       "      <td>99.00</td>\n",
       "      <td>56.00</td>\n",
       "      <td>78.00</td>\n",
       "      <td>10000000.00</td>\n",
       "      <td>10000000.00</td>\n",
       "      <td>10000000.00</td>\n",
       "      <td>...</td>\n",
       "      <td>186.00</td>\n",
       "      <td>3750.00</td>\n",
       "      <td>141.00</td>\n",
       "      <td>29.00</td>\n",
       "      <td>1364.00</td>\n",
       "      <td>2628.00</td>\n",
       "      <td>211213912.00</td>\n",
       "      <td>29681964.00</td>\n",
       "      <td>104558.00</td>\n",
       "      <td>17509303.00</td>\n",
       "    </tr>\n",
       "  </tbody>\n",
       "</table>\n",
       "<p>8 rows × 29 columns</p>\n",
       "</div>"
      ],
      "text/plain": [
       "       ACCOUNT_TYPE_Auto Loan  ACCOUNT_TYPE_Credit Card  \\\n",
       "count              1104242.00                1104242.00   \n",
       "mean                     0.31                      2.04   \n",
       "std                      1.57                      4.14   \n",
       "min                      0.00                      0.00   \n",
       "25%                      0.00                      1.00   \n",
       "50%                      0.00                      1.00   \n",
       "75%                      0.00                      2.00   \n",
       "max                    180.00                    484.00   \n",
       "\n",
       "       ACCOUNT_TYPE_Home Loan  ACCOUNT_TYPE_Personal Loan  \\\n",
       "count              1104242.00                  1104242.00   \n",
       "mean                     0.18                        4.25   \n",
       "std                      0.84                       27.44   \n",
       "min                      0.00                        0.00   \n",
       "25%                      0.00                        0.00   \n",
       "50%                      0.00                        1.00   \n",
       "75%                      0.00                        3.00   \n",
       "max                    235.00                     3375.00   \n",
       "\n",
       "       PRIMARY_NO_OF_ACCOUNTS  PRIMARY_ACTIVE_ACCOUNTS  \\\n",
       "count              1104242.00               1104242.00   \n",
       "mean                    11.27                     4.16   \n",
       "std                     10.19                     3.66   \n",
       "min                      1.00                     0.00   \n",
       "25%                      5.00                     2.00   \n",
       "50%                      9.00                     3.00   \n",
       "75%                     15.00                     6.00   \n",
       "max                     99.00                    56.00   \n",
       "\n",
       "       PRIMARY_OVERDUE_ACCOUNTS  PRIMARY_CURRENT_BALANCE  \\\n",
       "count                1104242.00               1104242.00   \n",
       "mean                       0.39               1225470.92   \n",
       "std                        1.24               1767765.01   \n",
       "min                        0.00                     0.00   \n",
       "25%                        0.00                 17144.25   \n",
       "50%                        0.00                332962.00   \n",
       "75%                        0.00               1838420.75   \n",
       "max                       78.00              10000000.00   \n",
       "\n",
       "       PRIMARY_SANCTIONED_AMOUNT  PRIMARY_DISTRIBUTED_AMOUNT  ...  \\\n",
       "count                 1104242.00                  1104242.00  ...   \n",
       "mean                  2100587.28                  1932027.73  ...   \n",
       "std                   2412553.14                  2343121.10  ...   \n",
       "min                         0.00                        0.00  ...   \n",
       "25%                    205991.50                   129833.25  ...   \n",
       "50%                   1075000.00                   849025.50  ...   \n",
       "75%                   3300564.25                  3081971.25  ...   \n",
       "max                  10000000.00                 10000000.00  ...   \n",
       "\n",
       "       OWNERSHIP_IND_Guarantor  OWNERSHIP_IND_Individual  OWNERSHIP_IND_Joint  \\\n",
       "count               1104242.00                1104242.00           1104242.00   \n",
       "mean                      0.05                      7.19                 0.27   \n",
       "std                       0.62                     31.90                 1.34   \n",
       "min                       0.00                      0.00                 0.00   \n",
       "25%                       0.00                      1.00                 0.00   \n",
       "50%                       0.00                      3.00                 0.00   \n",
       "75%                       0.00                      5.00                 0.00   \n",
       "max                     186.00                   3750.00               141.00   \n",
       "\n",
       "       OWNERSHIP_IND_Supl Card Holder  ACCOUNT_STATUS_Active  \\\n",
       "count                      1104242.00             1104242.00   \n",
       "mean                             0.02                   3.94   \n",
       "std                              0.17                  11.75   \n",
       "min                              0.00                   0.00   \n",
       "25%                              0.00                   1.00   \n",
       "50%                              0.00                   2.00   \n",
       "75%                              0.00                   4.00   \n",
       "max                             29.00                1364.00   \n",
       "\n",
       "       ACCOUNT_STATUS_Closed  Active_CURRENT_BALANCE  Closed_CURRENT_BALANCE  \\\n",
       "count             1104242.00              1104242.00              1104242.00   \n",
       "mean                    3.60               693476.74                  968.39   \n",
       "std                    22.97              2534252.76                67589.60   \n",
       "min                     0.00                    0.00                    0.00   \n",
       "25%                     0.00                    0.00                    0.00   \n",
       "50%                     1.00                27891.00                    0.00   \n",
       "75%                     2.00               318380.75                    0.00   \n",
       "max                  2628.00            211213912.00             29681964.00   \n",
       "\n",
       "       Active_OVERDUE_AMOUNT  Closed_OVERDUE_AMOUNT  \n",
       "count             1104242.00             1104242.00  \n",
       "mean                    7.35                 128.34  \n",
       "std                   325.88               20394.24  \n",
       "min                -44280.00                 -18.00  \n",
       "25%                     0.00                   0.00  \n",
       "50%                     0.00                   0.00  \n",
       "75%                     0.00                   0.00  \n",
       "max                104558.00            17509303.00  \n",
       "\n",
       "[8 rows x 29 columns]"
      ]
     },
     "execution_count": 71,
     "metadata": {},
     "output_type": "execute_result"
    }
   ],
   "source": [
    "pd.set_option('display.float_format', '{:.2f}'.format)\n",
    "final_df.describe()"
   ]
  },
  {
   "cell_type": "code",
   "execution_count": null,
   "id": "dc80320b",
   "metadata": {},
   "outputs": [],
   "source": [
    "df10 = final_df[(final_df['Active_OVERDUE_AMOUNT'] >= 0)]"
   ]
  },
  {
   "cell_type": "code",
   "execution_count": null,
   "id": "42c0799f",
   "metadata": {},
   "outputs": [],
   "source": [
    "df10 = df10.drop(columns = ['Closed_CURRENT_BALANCE', 'Closed_OVERDUE_AMOUNT'], axis = 1)"
   ]
  },
  {
   "cell_type": "code",
   "execution_count": null,
   "id": "dfc318b1",
   "metadata": {},
   "outputs": [
    {
     "data": {
      "text/plain": [
       "Index(['CREDIT_REPORT_ID', 'ACCOUNT_TYPE_Auto Loan',\n",
       "       'ACCOUNT_TYPE_Credit Card', 'ACCOUNT_TYPE_Home Loan',\n",
       "       'ACCOUNT_TYPE_Personal Loan', 'PRIMARY_NO_OF_ACCOUNTS',\n",
       "       'PRIMARY_ACTIVE_ACCOUNTS', 'PRIMARY_OVERDUE_ACCOUNTS',\n",
       "       'PRIMARY_CURRENT_BALANCE', 'PRIMARY_SANCTIONED_AMOUNT',\n",
       "       'PRIMARY_DISTRIBUTED_AMOUNT', 'PRIMARY_INSTALLMENT_AMOUNT',\n",
       "       'NEW_ACCOUNTS_IN_LAST_SIX_MONTHS', 'AVERAGE_ACCOUNT_AGE',\n",
       "       'NO_OF_INQUIRIES', 'CURRENT_BALANCE', 'OVERDUE_AMOUNT', 'INCOME',\n",
       "       'AGE_COHORT', 'STATE', 'CONTRIBUTOR_TYPE_NBF', 'CONTRIBUTOR_TYPE_PRB',\n",
       "       'OWNERSHIP_IND_Guarantor', 'OWNERSHIP_IND_Individual',\n",
       "       'OWNERSHIP_IND_Joint', 'OWNERSHIP_IND_Supl Card Holder',\n",
       "       'ACCOUNT_STATUS_Active', 'ACCOUNT_STATUS_Closed',\n",
       "       'Active_CURRENT_BALANCE', 'Active_OVERDUE_AMOUNT',\n",
       "       'ROOPYA_CUSTOMER_STATUS'],\n",
       "      dtype='object')"
      ]
     },
     "execution_count": 75,
     "metadata": {},
     "output_type": "execute_result"
    }
   ],
   "source": [
    "df10.columns"
   ]
  },
  {
   "cell_type": "code",
   "execution_count": null,
   "id": "d71c3e15",
   "metadata": {},
   "outputs": [
    {
     "name": "stdout",
     "output_type": "stream",
     "text": [
      "DONE\n"
     ]
    }
   ],
   "source": [
    "file_path_w = 'gs://roopya_analytics_workarea/Consolidated_Customer.csv'\n",
    "df10.to_csv(file_path_w)\n",
    "print(\"DONE\")"
   ]
  },
  {
   "cell_type": "code",
   "execution_count": null,
   "id": "e18848ba",
   "metadata": {},
   "outputs": [],
   "source": []
  }
 ],
 "metadata": {
  "kernelspec": {
   "display_name": "Python (Local)",
   "language": "python",
   "name": "local-base"
  },
  "language_info": {
   "codemirror_mode": {
    "name": "ipython",
    "version": 3
   },
   "file_extension": ".py",
   "mimetype": "text/x-python",
   "name": "python",
   "nbconvert_exporter": "python",
   "pygments_lexer": "ipython3",
   "version": "3.7.12"
  }
 },
 "nbformat": 4,
 "nbformat_minor": 5
}
